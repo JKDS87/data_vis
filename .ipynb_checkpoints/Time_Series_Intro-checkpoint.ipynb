{
 "cells": [
  {
   "cell_type": "markdown",
   "id": "e68aa45a-32ff-43b4-8c2c-80dd9a0fdf33",
   "metadata": {},
   "source": [
    "# 1.1 Intro to Time Series in Python"
   ]
  },
  {
   "cell_type": "markdown",
   "id": "d078d9bd-628a-4792-a1da-a725e3a0c9a7",
   "metadata": {},
   "source": [
    "**What is a time series?**\n",
    "- A time series is any datat in which the rows represent different points in time. It can be date, time, or any combination.\n",
    "- A time series may have rows that represent evenly spaced times or unevenly spaced.\n",
    "    - If the times *are* evenly spaced, it has a **frequency**. This means there is a fixed measurement between observations."
   ]
  },
  {
   "cell_type": "markdown",
   "id": "20e5a65d-0ada-4427-b96a-455ff20ed86c",
   "metadata": {},
   "source": [
    "**Representing a Time Series in Python**\n",
    "- There are two primary ways we will be representing datetime with Python\n",
    "    - Python's datetime module with datetime variables\n",
    "    - Panda's custom Datetime Classes, which are built upon Python's datetime objects\n",
    "        - Pandas makes it easy to convert any column of date/time values into a 'datetime' datatype but uses its own classes which work similarly to standard Python variables."
   ]
  },
  {
   "cell_type": "markdown",
   "id": "0fc9e745-0898-4cb5-b042-903f2fb9304d",
   "metadata": {},
   "source": [
    "**datatime Objects (Basic Python)**\n",
    "- The python module for datetime includes classes for 'date', 'time', and 'datetime' which is a combination of the two.\n",
    "- The 'datetime' class offers the most flexibility"
   ]
  },
  {
   "cell_type": "code",
   "execution_count": 1,
   "id": "82a3ae74-0bcc-4bc6-a186-30f3a104179e",
   "metadata": {},
   "outputs": [],
   "source": [
    "import datetime as dt"
   ]
  },
  {
   "cell_type": "code",
   "execution_count": 2,
   "id": "4743fb11-30c5-4297-b230-f84a61cdcd66",
   "metadata": {},
   "outputs": [
    {
     "data": {
      "text/plain": [
       "datetime.datetime(2023, 11, 13, 17, 19, 31, 514182)"
      ]
     },
     "execution_count": 2,
     "metadata": {},
     "output_type": "execute_result"
    }
   ],
   "source": [
    "now = dt.datetime.now()\n",
    "now"
   ]
  },
  {
   "cell_type": "markdown",
   "id": "29b4f061-4d64-4e8d-9648-cf6befc6a781",
   "metadata": {},
   "source": [
    "- This will display a series telling us the current year, month, day, hour, minute, second, and microsecond.\n",
    "- We can also access individual values with .year, .month, etc."
   ]
  },
  {
   "cell_type": "code",
   "execution_count": 4,
   "id": "2b1a097e-23c3-4792-9597-20d20f83eac7",
   "metadata": {},
   "outputs": [
    {
     "data": {
      "text/plain": [
       "2023"
      ]
     },
     "execution_count": 4,
     "metadata": {},
     "output_type": "execute_result"
    }
   ],
   "source": [
    "now.year"
   ]
  },
  {
   "cell_type": "markdown",
   "id": "a20c0e0e-25b2-4e82-8e62-9569b7be6b9d",
   "metadata": {},
   "source": [
    "**Datetime Formatting**"
   ]
  },
  {
   "cell_type": "code",
   "execution_count": 6,
   "id": "6a161096-cb87-4d60-a4d1-7602ea4d6ecd",
   "metadata": {},
   "outputs": [
    {
     "data": {
      "text/plain": [
       "datetime.datetime(2023, 11, 13, 17, 19, 31, 514182)"
      ]
     },
     "metadata": {},
     "output_type": "display_data"
    }
   ],
   "source": [
    "## Displayed\n",
    "# Show all individual pieces of the date as a list\n",
    "display(now)"
   ]
  },
  {
   "cell_type": "code",
   "execution_count": 7,
   "id": "ce936749-f56b-469d-896b-e77c9f5dba2b",
   "metadata": {},
   "outputs": [
    {
     "name": "stdout",
     "output_type": "stream",
     "text": [
      "2023-11-13 17:19:31.514182\n"
     ]
    }
   ],
   "source": [
    "## Printed\n",
    "# When using printed the display will be different\n",
    "print(now)"
   ]
  },
  {
   "cell_type": "markdown",
   "id": "38749734-2b02-4dfa-8512-51766a517699",
   "metadata": {},
   "source": [
    "- The display here has a formatted appearance.\n",
    "- We can represent this format using a format string:\n",
    "    - \"%Y-%m-%d-%H:%M:%S.%f\"\n",
    "- Datetime objects have a method that controls which format is used for print/text versions of the date, called .strftime"
   ]
  },
  {
   "cell_type": "markdown",
   "id": "5535eda3-5e46-4a6a-b304-b51b7c764ac5",
   "metadata": {},
   "source": [
    "**Datetime.strftime**\n",
    "- There are many options for how to choose to format dates and times. Refer to documentation for strftime for a table of format codes.\n",
    "- **Examples of formatting options**:"
   ]
  },
  {
   "cell_type": "code",
   "execution_count": 11,
   "id": "f0bd284f-9f86-422b-95b3-5f4410dcf290",
   "metadata": {},
   "outputs": [
    {
     "data": {
      "text/plain": [
       "'13'"
      ]
     },
     "execution_count": 11,
     "metadata": {},
     "output_type": "execute_result"
    }
   ],
   "source": [
    "## For the day of the month\n",
    "# One options is %d: 0-padded 2-digit day of the month\n",
    "\n",
    "format_a = '%d'\n",
    "now.strftime(format_a)"
   ]
  },
  {
   "cell_type": "code",
   "execution_count": 10,
   "id": "cae980a7-1d95-41c3-a5a1-3e8f4382876d",
   "metadata": {},
   "outputs": [
    {
     "data": {
      "text/plain": [
       "'November 13'"
      ]
     },
     "execution_count": 10,
     "metadata": {},
     "output_type": "execute_result"
    }
   ],
   "source": [
    "## For the month\n",
    "# Options include %B: full month name\n",
    "# %b: Abbreviated month name\n",
    "# %m: 0-padded 2-digit month of the year\n",
    "\n",
    "format_b = \"%B %d\"\n",
    "now.strftime(format_b)"
   ]
  },
  {
   "cell_type": "code",
   "execution_count": 12,
   "id": "e5c8493c-57bf-4197-991d-4b5505be901c",
   "metadata": {},
   "outputs": [
    {
     "data": {
      "text/plain": [
       "'Mon, November 13'"
      ]
     },
     "execution_count": 12,
     "metadata": {},
     "output_type": "execute_result"
    }
   ],
   "source": [
    "## For day of the week\n",
    "# One option is %a: Weekday as the locale's abbreviated name\n",
    "\n",
    "format_c = \"%a, %B %d\"\n",
    "now.strftime(format_c)"
   ]
  },
  {
   "cell_type": "code",
   "execution_count": 13,
   "id": "34cafedd-b6f3-429a-ab20-814d048ba0fc",
   "metadata": {},
   "outputs": [
    {
     "data": {
      "text/plain": [
       "'Nov 23'"
      ]
     },
     "execution_count": 13,
     "metadata": {},
     "output_type": "execute_result"
    }
   ],
   "source": [
    "## For the year\n",
    "# Options include\n",
    "# %Y: 4-digit year\n",
    "# %y: 0-padded 2-digit year without century\n",
    "\n",
    "format_d = \"%b %y\"\n",
    "now.strftime(format_d)"
   ]
  },
  {
   "cell_type": "code",
   "execution_count": 14,
   "id": "a26f8798-05a0-4697-8180-a3631f7da0e8",
   "metadata": {},
   "outputs": [
    {
     "name": "stdout",
     "output_type": "stream",
     "text": [
      "2023-11-13 17:19:31.514182\n"
     ]
    },
    {
     "data": {
      "text/plain": [
       "'2023-11-13 17:19:31.514182'"
      ]
     },
     "execution_count": 14,
     "metadata": {},
     "output_type": "execute_result"
    }
   ],
   "source": [
    "## For time\n",
    "# 24-hour military time with min and sec\n",
    "    # %T\n",
    "# Hour of the day\n",
    "    # %H: 0-padded 24-hour time\n",
    "    # %I: 0-padded 12-hour time\n",
    "# Minutes - %M\n",
    "# Seconds - %S\n",
    "\n",
    "default = \"%Y-%m-%d %H:%M:%S.%f\"\n",
    "print(now)\n",
    "now.strftime(default)"
   ]
  },
  {
   "cell_type": "code",
   "execution_count": 25,
   "id": "37ad2913-b0f7-4c4c-b5c9-dd3a237ef041",
   "metadata": {},
   "outputs": [
    {
     "data": {
      "text/plain": [
       "'11/13/2023 05:19:31 PM'"
      ]
     },
     "execution_count": 25,
     "metadata": {},
     "output_type": "execute_result"
    }
   ],
   "source": [
    "# Try some other time formats\n",
    "fmt = \"%m/%d/%Y %I:%M:%S %p\"\n",
    "now.strftime(fmt)"
   ]
  },
  {
   "cell_type": "code",
   "execution_count": 26,
   "id": "3d548caa-34ac-4a1e-9b9b-66df29acd8c8",
   "metadata": {},
   "outputs": [
    {
     "data": {
      "text/plain": [
       "'17:19:31'"
      ]
     },
     "execution_count": 26,
     "metadata": {},
     "output_type": "execute_result"
    }
   ],
   "source": [
    "now.strftime(\"%T\")"
   ]
  }
 ],
 "metadata": {
  "kernelspec": {
   "display_name": "Python 3 (ipykernel)",
   "language": "python",
   "name": "python3"
  },
  "language_info": {
   "codemirror_mode": {
    "name": "ipython",
    "version": 3
   },
   "file_extension": ".py",
   "mimetype": "text/x-python",
   "name": "python",
   "nbconvert_exporter": "python",
   "pygments_lexer": "ipython3",
   "version": "3.10.10"
  },
  "widgets": {
   "application/vnd.jupyter.widget-state+json": {
    "state": {},
    "version_major": 2,
    "version_minor": 0
   }
  }
 },
 "nbformat": 4,
 "nbformat_minor": 5
}
