{
 "cells": [
  {
   "cell_type": "markdown",
   "id": "8e022dd2-fe0c-48e0-8b5c-1501fda062cf",
   "metadata": {
    "jp-MarkdownHeadingCollapsed": true
   },
   "source": [
    "# Previous lessons"
   ]
  },
  {
   "cell_type": "markdown",
   "id": "5492c065-4f94-43cd-b2d4-dae62fa4be2f",
   "metadata": {
    "jp-MarkdownHeadingCollapsed": true
   },
   "source": [
    "### When Data has Date + Time, but no Frequency"
   ]
  },
  {
   "cell_type": "markdown",
   "id": "a3aa5832-5e55-4324-b4c8-1317ca0790c2",
   "metadata": {},
   "source": [
    "- Wide-form data is ofen explicitly designed for time series data. With wide-form we generally have time steps that are evenly spaced acorss columns.\n",
    "- What if there is long-form data with values down to the second (more frequent than desired or is usable)?\n",
    "- Below is an example talking through this scenario and prepaing a dataset for future use."
   ]
  },
  {
   "cell_type": "markdown",
   "id": "aaecb6d3-0e1c-4b5e-a1c2-8cb30711ec60",
   "metadata": {},
   "source": [
    "#### The Data"
   ]
  },
  {
   "cell_type": "markdown",
   "id": "d95c04e0-87ac-4e6c-b652-94d63401cd89",
   "metadata": {},
   "source": [
    "- Data is Baltimore's Open Data website 'Part 1 Crime Data'"
   ]
  },
  {
   "cell_type": "code",
   "execution_count": 1,
   "id": "4b780de4-d027-4b11-aa74-7e5a56054ca5",
   "metadata": {},
   "outputs": [],
   "source": [
    "import pandas as pd\n",
    "import numpy as np\n",
    "import matplotlib as mpl\n",
    "import matplotlib.pyplot as plt\n",
    "import seaborn as sns\n",
    "import os\n",
    "#import tick customization tools\n",
    "import matplotlib.ticker as mticks\n",
    "import matplotlib.dates as mdates\n",
    "## Setting figures to timeseries-friendly\n",
    "plt.rcParams['figure.figsize'] = (12,4)\n",
    "plt.rcParams['figure.facecolor'] = 'white'\n",
    "sns.set_context(\"talk\", font_scale=0.9)\n",
    "# set random seed\n",
    "SEED = 321\n",
    "np.random.seed(SEED)\n",
    "#display more columns\n",
    "pd.set_option('display.max_columns',50)"
   ]
  },
  {
   "cell_type": "code",
   "execution_count": 2,
   "id": "0d5b13fd-0819-4f2a-a890-87c8749009bd",
   "metadata": {},
   "outputs": [
    {
     "name": "stdout",
     "output_type": "stream",
     "text": [
      "<class 'pandas.core.frame.DataFrame'>\n",
      "RangeIndex: 597673 entries, 0 to 597672\n",
      "Data columns (total 23 columns):\n",
      " #   Column           Non-Null Count   Dtype  \n",
      "---  ------           --------------   -----  \n",
      " 0   X                596693 non-null  float64\n",
      " 1   Y                596693 non-null  float64\n",
      " 2   RowID            597673 non-null  int64  \n",
      " 3   CCNumber         597673 non-null  object \n",
      " 4   CrimeDateTime    597673 non-null  object \n",
      " 5   CrimeCode        597673 non-null  object \n",
      " 6   Description      597673 non-null  object \n",
      " 7   Inside_Outside   544343 non-null  object \n",
      " 8   Weapon           145144 non-null  object \n",
      " 9   Post             589803 non-null  float64\n",
      " 10  Gender           502220 non-null  object \n",
      " 11  Age              481276 non-null  float64\n",
      " 12  Race             573346 non-null  object \n",
      " 13  Ethnicity        70817 non-null   object \n",
      " 14  Location         594243 non-null  object \n",
      " 15  Old_District     567605 non-null  object \n",
      " 16  New_District     22198 non-null   object \n",
      " 17  Neighborhood     589148 non-null  object \n",
      " 18  Latitude         596693 non-null  float64\n",
      " 19  Longitude        596693 non-null  float64\n",
      " 20  GeoLocation      597673 non-null  object \n",
      " 21  PremiseType      544007 non-null  object \n",
      " 22  Total_Incidents  597673 non-null  int64  \n",
      "dtypes: float64(6), int64(2), object(15)\n",
      "memory usage: 104.9+ MB\n"
     ]
    },
    {
     "data": {
      "text/html": [
       "<div>\n",
       "<style scoped>\n",
       "    .dataframe tbody tr th:only-of-type {\n",
       "        vertical-align: middle;\n",
       "    }\n",
       "\n",
       "    .dataframe tbody tr th {\n",
       "        vertical-align: top;\n",
       "    }\n",
       "\n",
       "    .dataframe thead th {\n",
       "        text-align: right;\n",
       "    }\n",
       "</style>\n",
       "<table border=\"1\" class=\"dataframe\">\n",
       "  <thead>\n",
       "    <tr style=\"text-align: right;\">\n",
       "      <th></th>\n",
       "      <th>X</th>\n",
       "      <th>Y</th>\n",
       "      <th>RowID</th>\n",
       "      <th>CCNumber</th>\n",
       "      <th>CrimeDateTime</th>\n",
       "      <th>CrimeCode</th>\n",
       "      <th>Description</th>\n",
       "      <th>Inside_Outside</th>\n",
       "      <th>Weapon</th>\n",
       "      <th>Post</th>\n",
       "      <th>Gender</th>\n",
       "      <th>Age</th>\n",
       "      <th>Race</th>\n",
       "      <th>Ethnicity</th>\n",
       "      <th>Location</th>\n",
       "      <th>Old_District</th>\n",
       "      <th>New_District</th>\n",
       "      <th>Neighborhood</th>\n",
       "      <th>Latitude</th>\n",
       "      <th>Longitude</th>\n",
       "      <th>GeoLocation</th>\n",
       "      <th>PremiseType</th>\n",
       "      <th>Total_Incidents</th>\n",
       "    </tr>\n",
       "  </thead>\n",
       "  <tbody>\n",
       "    <tr>\n",
       "      <th>0</th>\n",
       "      <td>-76.638939</td>\n",
       "      <td>39.301867</td>\n",
       "      <td>1</td>\n",
       "      <td>23J10799</td>\n",
       "      <td>2023/10/29 18:30:00+00</td>\n",
       "      <td>7A</td>\n",
       "      <td>AUTO THEFT</td>\n",
       "      <td>Inside</td>\n",
       "      <td>NaN</td>\n",
       "      <td>715.0</td>\n",
       "      <td>M</td>\n",
       "      <td>34.0</td>\n",
       "      <td>BLACK_OR_AFRICAN_AMERICAN</td>\n",
       "      <td>UNKNOWN</td>\n",
       "      <td>1100 N CAREY ST</td>\n",
       "      <td>NaN</td>\n",
       "      <td>WESTERN</td>\n",
       "      <td>SANDTOWN-WINCHESTER</td>\n",
       "      <td>39.301867</td>\n",
       "      <td>-76.638939</td>\n",
       "      <td>(39.301867000000001,-76.638938999999993)</td>\n",
       "      <td>STREET</td>\n",
       "      <td>1</td>\n",
       "    </tr>\n",
       "    <tr>\n",
       "      <th>1</th>\n",
       "      <td>-76.664729</td>\n",
       "      <td>39.353442</td>\n",
       "      <td>2</td>\n",
       "      <td>23J10167</td>\n",
       "      <td>2023/10/28 13:00:00+00</td>\n",
       "      <td>7A</td>\n",
       "      <td>AUTO THEFT</td>\n",
       "      <td>Inside</td>\n",
       "      <td>NaN</td>\n",
       "      <td>636.0</td>\n",
       "      <td>F</td>\n",
       "      <td>41.0</td>\n",
       "      <td>BLACK_OR_AFRICAN_AMERICAN</td>\n",
       "      <td>NOT_HISPANIC_OR_LATINO</td>\n",
       "      <td>2400 W BELVEDERE AVE</td>\n",
       "      <td>NaN</td>\n",
       "      <td>NORTHWEST</td>\n",
       "      <td>LEVINDALE</td>\n",
       "      <td>39.353442</td>\n",
       "      <td>-76.664729</td>\n",
       "      <td>(39.353442000000001,-76.664728999999994)</td>\n",
       "      <td>SHED/GARAGE</td>\n",
       "      <td>1</td>\n",
       "    </tr>\n",
       "    <tr>\n",
       "      <th>2</th>\n",
       "      <td>-76.637153</td>\n",
       "      <td>39.277893</td>\n",
       "      <td>3</td>\n",
       "      <td>23J10188</td>\n",
       "      <td>2023/10/28 16:30:00+00</td>\n",
       "      <td>4B</td>\n",
       "      <td>AGG. ASSAULT</td>\n",
       "      <td>Inside</td>\n",
       "      <td>KNIFE_CUTTING_INSTRUMENT</td>\n",
       "      <td>931.0</td>\n",
       "      <td>M</td>\n",
       "      <td>53.0</td>\n",
       "      <td>BLACK_OR_AFRICAN_AMERICAN</td>\n",
       "      <td>UNKNOWN</td>\n",
       "      <td>1200 BUSH ST</td>\n",
       "      <td>NaN</td>\n",
       "      <td>SOUTHERN</td>\n",
       "      <td>WASHINGTON VILLAGE/PIGTOWN</td>\n",
       "      <td>39.277893</td>\n",
       "      <td>-76.637153</td>\n",
       "      <td>(39.277892999999999,-76.637152999999998)</td>\n",
       "      <td>STREET</td>\n",
       "      <td>1</td>\n",
       "    </tr>\n",
       "    <tr>\n",
       "      <th>3</th>\n",
       "      <td>-76.672066</td>\n",
       "      <td>39.282897</td>\n",
       "      <td>4</td>\n",
       "      <td>23J10059</td>\n",
       "      <td>2023/10/28 07:30:00+00</td>\n",
       "      <td>4E</td>\n",
       "      <td>COMMON ASSAULT</td>\n",
       "      <td>Outside</td>\n",
       "      <td>PERSONAL_WEAPONS</td>\n",
       "      <td>822.0</td>\n",
       "      <td>M</td>\n",
       "      <td>37.0</td>\n",
       "      <td>BLACK_OR_AFRICAN_AMERICAN</td>\n",
       "      <td>NOT_HISPANIC_OR_LATINO</td>\n",
       "      <td>200 S HILTON ST</td>\n",
       "      <td>NaN</td>\n",
       "      <td>SOUTHWEST</td>\n",
       "      <td>CARROLL-SOUTH HILTON</td>\n",
       "      <td>39.282897</td>\n",
       "      <td>-76.672066</td>\n",
       "      <td>(39.282896999999998,-76.672066000000001)</td>\n",
       "      <td>OTHER/RESIDENTIAL</td>\n",
       "      <td>1</td>\n",
       "    </tr>\n",
       "    <tr>\n",
       "      <th>4</th>\n",
       "      <td>-76.653158</td>\n",
       "      <td>39.289319</td>\n",
       "      <td>5</td>\n",
       "      <td>23J10210</td>\n",
       "      <td>2023/10/28 17:37:00+00</td>\n",
       "      <td>4B</td>\n",
       "      <td>AGG. ASSAULT</td>\n",
       "      <td>Outside</td>\n",
       "      <td>BLUNT_OBJECT</td>\n",
       "      <td>824.0</td>\n",
       "      <td>M</td>\n",
       "      <td>NaN</td>\n",
       "      <td>BLACK_OR_AFRICAN_AMERICAN</td>\n",
       "      <td>NOT_HISPANIC_OR_LATINO</td>\n",
       "      <td>2300 W FAYETTE ST</td>\n",
       "      <td>NaN</td>\n",
       "      <td>SOUTHWEST</td>\n",
       "      <td>PENROSE/FAYETTE STREET OUTREACH</td>\n",
       "      <td>39.289319</td>\n",
       "      <td>-76.653158</td>\n",
       "      <td>(39.289318999999999,-76.653158000000005)</td>\n",
       "      <td>OTHER/RESIDENTIAL</td>\n",
       "      <td>1</td>\n",
       "    </tr>\n",
       "  </tbody>\n",
       "</table>\n",
       "</div>"
      ],
      "text/plain": [
       "           X          Y  RowID  CCNumber           CrimeDateTime CrimeCode  \\\n",
       "0 -76.638939  39.301867      1  23J10799  2023/10/29 18:30:00+00        7A   \n",
       "1 -76.664729  39.353442      2  23J10167  2023/10/28 13:00:00+00        7A   \n",
       "2 -76.637153  39.277893      3  23J10188  2023/10/28 16:30:00+00        4B   \n",
       "3 -76.672066  39.282897      4  23J10059  2023/10/28 07:30:00+00        4E   \n",
       "4 -76.653158  39.289319      5  23J10210  2023/10/28 17:37:00+00        4B   \n",
       "\n",
       "      Description Inside_Outside                    Weapon   Post Gender  \\\n",
       "0      AUTO THEFT         Inside                       NaN  715.0      M   \n",
       "1      AUTO THEFT         Inside                       NaN  636.0      F   \n",
       "2    AGG. ASSAULT         Inside  KNIFE_CUTTING_INSTRUMENT  931.0      M   \n",
       "3  COMMON ASSAULT        Outside          PERSONAL_WEAPONS  822.0      M   \n",
       "4    AGG. ASSAULT        Outside              BLUNT_OBJECT  824.0      M   \n",
       "\n",
       "    Age                       Race               Ethnicity  \\\n",
       "0  34.0  BLACK_OR_AFRICAN_AMERICAN                 UNKNOWN   \n",
       "1  41.0  BLACK_OR_AFRICAN_AMERICAN  NOT_HISPANIC_OR_LATINO   \n",
       "2  53.0  BLACK_OR_AFRICAN_AMERICAN                 UNKNOWN   \n",
       "3  37.0  BLACK_OR_AFRICAN_AMERICAN  NOT_HISPANIC_OR_LATINO   \n",
       "4   NaN  BLACK_OR_AFRICAN_AMERICAN  NOT_HISPANIC_OR_LATINO   \n",
       "\n",
       "               Location Old_District New_District  \\\n",
       "0       1100 N CAREY ST          NaN      WESTERN   \n",
       "1  2400 W BELVEDERE AVE          NaN    NORTHWEST   \n",
       "2          1200 BUSH ST          NaN     SOUTHERN   \n",
       "3       200 S HILTON ST          NaN    SOUTHWEST   \n",
       "4     2300 W FAYETTE ST          NaN    SOUTHWEST   \n",
       "\n",
       "                      Neighborhood   Latitude  Longitude  \\\n",
       "0              SANDTOWN-WINCHESTER  39.301867 -76.638939   \n",
       "1                        LEVINDALE  39.353442 -76.664729   \n",
       "2       WASHINGTON VILLAGE/PIGTOWN  39.277893 -76.637153   \n",
       "3             CARROLL-SOUTH HILTON  39.282897 -76.672066   \n",
       "4  PENROSE/FAYETTE STREET OUTREACH  39.289319 -76.653158   \n",
       "\n",
       "                                GeoLocation        PremiseType  \\\n",
       "0  (39.301867000000001,-76.638938999999993)             STREET   \n",
       "1  (39.353442000000001,-76.664728999999994)        SHED/GARAGE   \n",
       "2  (39.277892999999999,-76.637152999999998)             STREET   \n",
       "3  (39.282896999999998,-76.672066000000001)  OTHER/RESIDENTIAL   \n",
       "4  (39.289318999999999,-76.653158000000005)  OTHER/RESIDENTIAL   \n",
       "\n",
       "   Total_Incidents  \n",
       "0                1  \n",
       "1                1  \n",
       "2                1  \n",
       "3                1  \n",
       "4                1  "
      ]
     },
     "execution_count": 2,
     "metadata": {},
     "output_type": "execute_result"
    }
   ],
   "source": [
    "df = pd.read_csv('Data/Part_1_Crime_Data.csv',low_memory=False)\n",
    "df.info()\n",
    "df.head()"
   ]
  },
  {
   "cell_type": "markdown",
   "id": "1d85f4f9-fd94-4e23-97c2-38507cdd41df",
   "metadata": {},
   "source": [
    "- This dataset is messier and gives us much more data than is needed.\n",
    "- Examine one value from the Crime Data Time column"
   ]
  },
  {
   "cell_type": "code",
   "execution_count": 3,
   "id": "4182c257-66d3-433d-8a68-be467c3cd281",
   "metadata": {},
   "outputs": [
    {
     "data": {
      "text/plain": [
       "'2023/10/29 18:30:00+00'"
      ]
     },
     "execution_count": 3,
     "metadata": {},
     "output_type": "execute_result"
    }
   ],
   "source": [
    "test_date = df.loc[0, 'CrimeDateTime']\n",
    "test_date"
   ]
  },
  {
   "cell_type": "markdown",
   "id": "65a1506f-cebf-4c1f-bfda-2f0313e1b876",
   "metadata": {},
   "source": [
    "- There is not only a date, but also a specific time given\n",
    "- The +00 at the end is for time zone data\n",
    "- BY default many datasets use 'UTC' time - Universal Coordinated Time\n",
    "- The value after + indicates how many hours difference between UTC and the current time zone\n",
    "- Having 'time zone-aware' timestamps can cause problems in some situations, but will be revisited later on."
   ]
  },
  {
   "cell_type": "code",
   "execution_count": 4,
   "id": "88c709be-9dde-45e3-8d78-640d16bb5cf0",
   "metadata": {},
   "outputs": [
    {
     "data": {
      "text/plain": [
       "Timestamp('2023-10-29 18:30:00+0000', tz='UTC')"
      ]
     },
     "execution_count": 4,
     "metadata": {},
     "output_type": "execute_result"
    }
   ],
   "source": [
    "test_datetime = pd.to_datetime(test_date)\n",
    "test_datetime"
   ]
  },
  {
   "cell_type": "markdown",
   "id": "2255c0d5-92c8-4df2-a318-5f546ea08979",
   "metadata": {
    "jp-MarkdownHeadingCollapsed": true
   },
   "source": [
    "#### Preparing the Date Time Index"
   ]
  },
  {
   "cell_type": "code",
   "execution_count": 5,
   "id": "6a1bdbb2-7f4f-442a-8daa-c249fd8af3d5",
   "metadata": {},
   "outputs": [],
   "source": [
    "# df['CrimeDateTime'] = pd.to_datetime(df['CrimeDateTime'])\n",
    "\n",
    "# This code will give an error of 'Out of bounds nanosecond timestamp'"
   ]
  },
  {
   "cell_type": "markdown",
   "id": "2c47f4f2-51e2-4a88-9941-3758ad12e408",
   "metadata": {},
   "source": [
    "- There are some irrational values causing problems when trying to convert the entire column.\n",
    "    - There is no way to have a crime report from the year 1202\n",
    "    - errors='coerce' can be added to tell Pandas to replace any bad values with NaT, which is the value assigned to null values within as time series."
   ]
  },
  {
   "cell_type": "code",
   "execution_count": 6,
   "id": "6dd7b7a4-d371-4da2-82a3-2fcbad171236",
   "metadata": {},
   "outputs": [],
   "source": [
    "# Replace null values\n",
    "df['CrimeDateTime'] = pd.to_datetime(df['CrimeDateTime'], errors='coerce')"
   ]
  },
  {
   "cell_type": "code",
   "execution_count": 7,
   "id": "97545a99-8b1e-4801-ae1e-c759affe5e99",
   "metadata": {},
   "outputs": [
    {
     "data": {
      "text/plain": [
       "4"
      ]
     },
     "execution_count": 7,
     "metadata": {},
     "output_type": "execute_result"
    }
   ],
   "source": [
    "# Next check to see how many null values were created\n",
    "df['CrimeDateTime'].isna().sum()"
   ]
  },
  {
   "cell_type": "markdown",
   "id": "5a9175a1-c2ae-42ae-a08e-5f4595ff015e",
   "metadata": {},
   "source": [
    "- The number was low; let's drop any NaT"
   ]
  },
  {
   "cell_type": "code",
   "execution_count": 8,
   "id": "05c15b37-2171-4268-a489-d7556edd6726",
   "metadata": {},
   "outputs": [
    {
     "data": {
      "text/plain": [
       "0"
      ]
     },
     "execution_count": 8,
     "metadata": {},
     "output_type": "execute_result"
    }
   ],
   "source": [
    "df = df.dropna(subset='CrimeDateTime')\n",
    "df['CrimeDateTime'].isna().sum()"
   ]
  },
  {
   "cell_type": "code",
   "execution_count": 9,
   "id": "26273671-a468-4f6e-85b0-927241509f67",
   "metadata": {},
   "outputs": [
    {
     "data": {
      "text/html": [
       "<div>\n",
       "<style scoped>\n",
       "    .dataframe tbody tr th:only-of-type {\n",
       "        vertical-align: middle;\n",
       "    }\n",
       "\n",
       "    .dataframe tbody tr th {\n",
       "        vertical-align: top;\n",
       "    }\n",
       "\n",
       "    .dataframe thead th {\n",
       "        text-align: right;\n",
       "    }\n",
       "</style>\n",
       "<table border=\"1\" class=\"dataframe\">\n",
       "  <thead>\n",
       "    <tr style=\"text-align: right;\">\n",
       "      <th></th>\n",
       "      <th>X</th>\n",
       "      <th>Y</th>\n",
       "      <th>RowID</th>\n",
       "      <th>CCNumber</th>\n",
       "      <th>CrimeCode</th>\n",
       "      <th>Description</th>\n",
       "      <th>Inside_Outside</th>\n",
       "      <th>Weapon</th>\n",
       "      <th>Post</th>\n",
       "      <th>Gender</th>\n",
       "      <th>Age</th>\n",
       "      <th>Race</th>\n",
       "      <th>Ethnicity</th>\n",
       "      <th>Location</th>\n",
       "      <th>Old_District</th>\n",
       "      <th>New_District</th>\n",
       "      <th>Neighborhood</th>\n",
       "      <th>Latitude</th>\n",
       "      <th>Longitude</th>\n",
       "      <th>GeoLocation</th>\n",
       "      <th>PremiseType</th>\n",
       "      <th>Total_Incidents</th>\n",
       "    </tr>\n",
       "    <tr>\n",
       "      <th>CrimeDateTime</th>\n",
       "      <th></th>\n",
       "      <th></th>\n",
       "      <th></th>\n",
       "      <th></th>\n",
       "      <th></th>\n",
       "      <th></th>\n",
       "      <th></th>\n",
       "      <th></th>\n",
       "      <th></th>\n",
       "      <th></th>\n",
       "      <th></th>\n",
       "      <th></th>\n",
       "      <th></th>\n",
       "      <th></th>\n",
       "      <th></th>\n",
       "      <th></th>\n",
       "      <th></th>\n",
       "      <th></th>\n",
       "      <th></th>\n",
       "      <th></th>\n",
       "      <th></th>\n",
       "      <th></th>\n",
       "    </tr>\n",
       "  </thead>\n",
       "  <tbody>\n",
       "    <tr>\n",
       "      <th>2023-10-29 18:30:00+00:00</th>\n",
       "      <td>-76.638939</td>\n",
       "      <td>39.301867</td>\n",
       "      <td>1</td>\n",
       "      <td>23J10799</td>\n",
       "      <td>7A</td>\n",
       "      <td>AUTO THEFT</td>\n",
       "      <td>Inside</td>\n",
       "      <td>NaN</td>\n",
       "      <td>715.0</td>\n",
       "      <td>M</td>\n",
       "      <td>34.0</td>\n",
       "      <td>BLACK_OR_AFRICAN_AMERICAN</td>\n",
       "      <td>UNKNOWN</td>\n",
       "      <td>1100 N CAREY ST</td>\n",
       "      <td>NaN</td>\n",
       "      <td>WESTERN</td>\n",
       "      <td>SANDTOWN-WINCHESTER</td>\n",
       "      <td>39.301867</td>\n",
       "      <td>-76.638939</td>\n",
       "      <td>(39.301867000000001,-76.638938999999993)</td>\n",
       "      <td>STREET</td>\n",
       "      <td>1</td>\n",
       "    </tr>\n",
       "    <tr>\n",
       "      <th>2023-10-28 13:00:00+00:00</th>\n",
       "      <td>-76.664729</td>\n",
       "      <td>39.353442</td>\n",
       "      <td>2</td>\n",
       "      <td>23J10167</td>\n",
       "      <td>7A</td>\n",
       "      <td>AUTO THEFT</td>\n",
       "      <td>Inside</td>\n",
       "      <td>NaN</td>\n",
       "      <td>636.0</td>\n",
       "      <td>F</td>\n",
       "      <td>41.0</td>\n",
       "      <td>BLACK_OR_AFRICAN_AMERICAN</td>\n",
       "      <td>NOT_HISPANIC_OR_LATINO</td>\n",
       "      <td>2400 W BELVEDERE AVE</td>\n",
       "      <td>NaN</td>\n",
       "      <td>NORTHWEST</td>\n",
       "      <td>LEVINDALE</td>\n",
       "      <td>39.353442</td>\n",
       "      <td>-76.664729</td>\n",
       "      <td>(39.353442000000001,-76.664728999999994)</td>\n",
       "      <td>SHED/GARAGE</td>\n",
       "      <td>1</td>\n",
       "    </tr>\n",
       "    <tr>\n",
       "      <th>2023-10-28 16:30:00+00:00</th>\n",
       "      <td>-76.637153</td>\n",
       "      <td>39.277893</td>\n",
       "      <td>3</td>\n",
       "      <td>23J10188</td>\n",
       "      <td>4B</td>\n",
       "      <td>AGG. ASSAULT</td>\n",
       "      <td>Inside</td>\n",
       "      <td>KNIFE_CUTTING_INSTRUMENT</td>\n",
       "      <td>931.0</td>\n",
       "      <td>M</td>\n",
       "      <td>53.0</td>\n",
       "      <td>BLACK_OR_AFRICAN_AMERICAN</td>\n",
       "      <td>UNKNOWN</td>\n",
       "      <td>1200 BUSH ST</td>\n",
       "      <td>NaN</td>\n",
       "      <td>SOUTHERN</td>\n",
       "      <td>WASHINGTON VILLAGE/PIGTOWN</td>\n",
       "      <td>39.277893</td>\n",
       "      <td>-76.637153</td>\n",
       "      <td>(39.277892999999999,-76.637152999999998)</td>\n",
       "      <td>STREET</td>\n",
       "      <td>1</td>\n",
       "    </tr>\n",
       "  </tbody>\n",
       "</table>\n",
       "</div>"
      ],
      "text/plain": [
       "                                   X          Y  RowID  CCNumber CrimeCode  \\\n",
       "CrimeDateTime                                                                \n",
       "2023-10-29 18:30:00+00:00 -76.638939  39.301867      1  23J10799        7A   \n",
       "2023-10-28 13:00:00+00:00 -76.664729  39.353442      2  23J10167        7A   \n",
       "2023-10-28 16:30:00+00:00 -76.637153  39.277893      3  23J10188        4B   \n",
       "\n",
       "                            Description Inside_Outside  \\\n",
       "CrimeDateTime                                            \n",
       "2023-10-29 18:30:00+00:00    AUTO THEFT         Inside   \n",
       "2023-10-28 13:00:00+00:00    AUTO THEFT         Inside   \n",
       "2023-10-28 16:30:00+00:00  AGG. ASSAULT         Inside   \n",
       "\n",
       "                                             Weapon   Post Gender   Age  \\\n",
       "CrimeDateTime                                                             \n",
       "2023-10-29 18:30:00+00:00                       NaN  715.0      M  34.0   \n",
       "2023-10-28 13:00:00+00:00                       NaN  636.0      F  41.0   \n",
       "2023-10-28 16:30:00+00:00  KNIFE_CUTTING_INSTRUMENT  931.0      M  53.0   \n",
       "\n",
       "                                                Race               Ethnicity  \\\n",
       "CrimeDateTime                                                                  \n",
       "2023-10-29 18:30:00+00:00  BLACK_OR_AFRICAN_AMERICAN                 UNKNOWN   \n",
       "2023-10-28 13:00:00+00:00  BLACK_OR_AFRICAN_AMERICAN  NOT_HISPANIC_OR_LATINO   \n",
       "2023-10-28 16:30:00+00:00  BLACK_OR_AFRICAN_AMERICAN                 UNKNOWN   \n",
       "\n",
       "                                       Location Old_District New_District  \\\n",
       "CrimeDateTime                                                               \n",
       "2023-10-29 18:30:00+00:00       1100 N CAREY ST          NaN      WESTERN   \n",
       "2023-10-28 13:00:00+00:00  2400 W BELVEDERE AVE          NaN    NORTHWEST   \n",
       "2023-10-28 16:30:00+00:00          1200 BUSH ST          NaN     SOUTHERN   \n",
       "\n",
       "                                         Neighborhood   Latitude  Longitude  \\\n",
       "CrimeDateTime                                                                 \n",
       "2023-10-29 18:30:00+00:00         SANDTOWN-WINCHESTER  39.301867 -76.638939   \n",
       "2023-10-28 13:00:00+00:00                   LEVINDALE  39.353442 -76.664729   \n",
       "2023-10-28 16:30:00+00:00  WASHINGTON VILLAGE/PIGTOWN  39.277893 -76.637153   \n",
       "\n",
       "                                                        GeoLocation  \\\n",
       "CrimeDateTime                                                         \n",
       "2023-10-29 18:30:00+00:00  (39.301867000000001,-76.638938999999993)   \n",
       "2023-10-28 13:00:00+00:00  (39.353442000000001,-76.664728999999994)   \n",
       "2023-10-28 16:30:00+00:00  (39.277892999999999,-76.637152999999998)   \n",
       "\n",
       "                           PremiseType  Total_Incidents  \n",
       "CrimeDateTime                                            \n",
       "2023-10-29 18:30:00+00:00       STREET                1  \n",
       "2023-10-28 13:00:00+00:00  SHED/GARAGE                1  \n",
       "2023-10-28 16:30:00+00:00       STREET                1  "
      ]
     },
     "execution_count": 9,
     "metadata": {},
     "output_type": "execute_result"
    }
   ],
   "source": [
    "# With NaT values addressed, set the CrimeDateTime as index\n",
    "df = df.set_index('CrimeDateTime')\n",
    "df.head(3)"
   ]
  },
  {
   "cell_type": "markdown",
   "id": "df0343f0-3d6a-4949-b11b-00905ed8b957",
   "metadata": {},
   "source": [
    "- The times above are not in order.\n",
    "- Note: must sort_index to see the earlierst and most recent timestamp"
   ]
  },
  {
   "cell_type": "code",
   "execution_count": 10,
   "id": "67ebfac9-8208-47cd-8632-7b0c441082a7",
   "metadata": {},
   "outputs": [
    {
     "data": {
      "text/plain": [
       "DatetimeIndex(['1720-08-14 02:56:02+00:00', '1730-09-03 18:26:02+00:00',\n",
       "               '1920-06-18 01:30:00+00:00', '1922-06-22 13:00:00+00:00',\n",
       "               '1928-09-26 10:00:00+00:00', '1930-10-29 08:50:00+00:00',\n",
       "               '1930-10-29 19:00:00+00:00', '1963-10-30 00:00:00+00:00',\n",
       "               '1966-01-01 01:00:00+00:00', '1969-07-20 21:00:00+00:00',\n",
       "               ...\n",
       "               '2023-12-02 20:45:00+00:00', '2023-12-02 20:53:00+00:00',\n",
       "               '2023-12-02 20:58:00+00:00', '2023-12-02 20:58:00+00:00',\n",
       "               '2023-12-02 21:00:00+00:00', '2023-12-02 21:20:00+00:00',\n",
       "               '2023-12-02 21:40:00+00:00', '2023-12-02 21:50:00+00:00',\n",
       "               '2023-12-02 21:50:00+00:00', '2023-12-02 22:10:00+00:00'],\n",
       "              dtype='datetime64[ns, UTC]', name='CrimeDateTime', length=597669, freq=None)"
      ]
     },
     "execution_count": 10,
     "metadata": {},
     "output_type": "execute_result"
    }
   ],
   "source": [
    "df = df.sort_index()\n",
    "df.index"
   ]
  },
  {
   "cell_type": "markdown",
   "id": "6aedb0cf-f6a5-4943-b96d-d9de1b2c2b7a",
   "metadata": {},
   "source": [
    "- There appear to be a few values going back to the early and mid 1900's, along with two values from the 1700's(?)\n",
    "- Get a quick visualization of crime data to asses years"
   ]
  },
  {
   "cell_type": "code",
   "execution_count": 11,
   "id": "56297b19-9ace-4e38-85e9-450954cba7ed",
   "metadata": {},
   "outputs": [
    {
     "data": {
      "text/plain": [
       "<Axes: >"
      ]
     },
     "execution_count": 11,
     "metadata": {},
     "output_type": "execute_result"
    },
    {
     "data": {
      "image/png": "[encoded data removed]",
      "text/plain": [
       "<Figure size 1200x400 with 1 Axes>"
      ]
     },
     "metadata": {},
     "output_type": "display_data"
    }
   ],
   "source": [
    "years = df.index.year\n",
    "years.value_counts().sort_index().plot(kind='bar')"
   ]
  },
  {
   "cell_type": "markdown",
   "id": "341f07f7-5352-420c-9f3c-90ba6c219d9b",
   "metadata": {},
   "source": [
    "- The bulk of the data appears to be from 2011 onward, so we will limit our dataset to that."
   ]
  },
  {
   "cell_type": "code",
   "execution_count": 12,
   "id": "37b6912c-7052-4123-b2cc-aab7c455fe8b",
   "metadata": {},
   "outputs": [
    {
     "data": {
      "text/plain": [
       "DatetimeIndex(['2011-01-01 00:00:00+00:00', '2011-01-01 00:00:00+00:00',\n",
       "               '2011-01-01 00:00:00+00:00', '2011-01-01 00:01:00+00:00',\n",
       "               '2011-01-01 00:01:00+00:00', '2011-01-01 00:05:00+00:00',\n",
       "               '2011-01-01 00:05:00+00:00', '2011-01-01 00:05:00+00:00',\n",
       "               '2011-01-01 00:10:00+00:00', '2011-01-01 00:15:00+00:00',\n",
       "               ...\n",
       "               '2023-12-02 20:45:00+00:00', '2023-12-02 20:53:00+00:00',\n",
       "               '2023-12-02 20:58:00+00:00', '2023-12-02 20:58:00+00:00',\n",
       "               '2023-12-02 21:00:00+00:00', '2023-12-02 21:20:00+00:00',\n",
       "               '2023-12-02 21:40:00+00:00', '2023-12-02 21:50:00+00:00',\n",
       "               '2023-12-02 21:50:00+00:00', '2023-12-02 22:10:00+00:00'],\n",
       "              dtype='datetime64[ns, UTC]', name='CrimeDateTime', length=596642, freq=None)"
      ]
     },
     "execution_count": 12,
     "metadata": {},
     "output_type": "execute_result"
    }
   ],
   "source": [
    "# Limit data to 2011-present\n",
    "df = df.loc['2011':]\n",
    "df.index"
   ]
  },
  {
   "cell_type": "markdown",
   "id": "f879480a-4224-42da-81e0-54c0d08ebcd6",
   "metadata": {
    "jp-MarkdownHeadingCollapsed": true
   },
   "source": [
    "### Inspecting the Data Format"
   ]
  },
  {
   "cell_type": "markdown",
   "id": "6aa8fbc1-005e-4a3a-8efb-c5f711c80b31",
   "metadata": {},
   "source": [
    "- Frist, examine features in the dataset to make a gameplan for preparing the time series.\n",
    "- By the end, each row should be 1 day, with each type of crime having it's own column, in which there should be the number(#) of crimes for that specific date.\n",
    "- There is a LOT of information about each specific crime, but the majority of it is extraneous for this exercise/project.\n",
    "    - The CrimeDateTime column has the exact date and time the crime was reported - this will become the datetime index.\n",
    "    - There is a Description column with the name of the type of crime - this will be the starting point for creating individual columns for each type of crime\n",
    "- Give a quick examination of what types of crimes and how many of each."
   ]
  },
  {
   "cell_type": "code",
   "execution_count": 13,
   "id": "2386f8e1-680f-4f8d-b7cc-c53b6d740935",
   "metadata": {},
   "outputs": [
    {
     "data": {
      "image/png": "[encoded data removed]",
      "text/plain": [
       "<Figure size 500x800 with 1 Axes>"
      ]
     },
     "metadata": {},
     "output_type": "display_data"
    }
   ],
   "source": [
    "# Inspect value_counts for the different types of crimes\n",
    "crime_counts = df['Description'].value_counts(normalize=True)\n",
    "crime_counts.sort_values().plot(kind='barh', figsize=(5,8));"
   ]
  },
  {
   "cell_type": "markdown",
   "id": "fd7a0e2b-555b-4cbc-ae00-47336d58f1e3",
   "metadata": {},
   "source": [
    "- Another way to visualize this is to take advantage of Pandas Styling\n",
    " - See 'Table Visualization' section of Pandas doc for details\n",
    "- First, make a DataFrame (not a Series)\n",
    "- Next, use df.style, which allows access to several styling methods\n",
    "    - To convert the series to a dataframe, use the series' .to_frame() method. A name for the series-turned-column can be given inside the method as such `.to_frame('New Name')`\n",
    "- Use .style.bar to add a barplot INSIDE the dataframe"
   ]
  },
  {
   "cell_type": "code",
   "execution_count": 14,
   "id": "3d3b0345-083b-4de5-9263-a447b4f42520",
   "metadata": {},
   "outputs": [
    {
     "data": {
      "text/html": [
       "<div>\n",
       "<style scoped>\n",
       "    .dataframe tbody tr th:only-of-type {\n",
       "        vertical-align: middle;\n",
       "    }\n",
       "\n",
       "    .dataframe tbody tr th {\n",
       "        vertical-align: top;\n",
       "    }\n",
       "\n",
       "    .dataframe thead th {\n",
       "        text-align: right;\n",
       "    }\n",
       "</style>\n",
       "<table border=\"1\" class=\"dataframe\">\n",
       "  <thead>\n",
       "    <tr style=\"text-align: right;\">\n",
       "      <th></th>\n",
       "      <th>Total # of Crimes</th>\n",
       "    </tr>\n",
       "  </thead>\n",
       "  <tbody>\n",
       "    <tr>\n",
       "      <th>LARCENY</th>\n",
       "      <td>132195</td>\n",
       "    </tr>\n",
       "    <tr>\n",
       "      <th>COMMON ASSAULT</th>\n",
       "      <td>108224</td>\n",
       "    </tr>\n",
       "    <tr>\n",
       "      <th>BURGLARY</th>\n",
       "      <td>80422</td>\n",
       "    </tr>\n",
       "    <tr>\n",
       "      <th>LARCENY FROM AUTO</th>\n",
       "      <td>74944</td>\n",
       "    </tr>\n",
       "    <tr>\n",
       "      <th>AGG. ASSAULT</th>\n",
       "      <td>68572</td>\n",
       "    </tr>\n",
       "    <tr>\n",
       "      <th>AUTO THEFT</th>\n",
       "      <td>56822</td>\n",
       "    </tr>\n",
       "    <tr>\n",
       "      <th>ROBBERY</th>\n",
       "      <td>46520</td>\n",
       "    </tr>\n",
       "    <tr>\n",
       "      <th>ROBBERY - COMMERCIAL</th>\n",
       "      <td>7135</td>\n",
       "    </tr>\n",
       "    <tr>\n",
       "      <th>SHOOTING</th>\n",
       "      <td>6645</td>\n",
       "    </tr>\n",
       "    <tr>\n",
       "      <th>ROBBERY - CARJACKING</th>\n",
       "      <td>5094</td>\n",
       "    </tr>\n",
       "    <tr>\n",
       "      <th>RAPE</th>\n",
       "      <td>3802</td>\n",
       "    </tr>\n",
       "    <tr>\n",
       "      <th>HOMICIDE</th>\n",
       "      <td>3659</td>\n",
       "    </tr>\n",
       "    <tr>\n",
       "      <th>ARSON</th>\n",
       "      <td>2608</td>\n",
       "    </tr>\n",
       "  </tbody>\n",
       "</table>\n",
       "</div>"
      ],
      "text/plain": [
       "                      Total # of Crimes\n",
       "LARCENY                          132195\n",
       "COMMON ASSAULT                   108224\n",
       "BURGLARY                          80422\n",
       "LARCENY FROM AUTO                 74944\n",
       "AGG. ASSAULT                      68572\n",
       "AUTO THEFT                        56822\n",
       "ROBBERY                           46520\n",
       "ROBBERY - COMMERCIAL               7135\n",
       "SHOOTING                           6645\n",
       "ROBBERY - CARJACKING               5094\n",
       "RAPE                               3802\n",
       "HOMICIDE                           3659\n",
       "ARSON                              2608"
      ]
     },
     "execution_count": 14,
     "metadata": {},
     "output_type": "execute_result"
    }
   ],
   "source": [
    "# Inspect value_counts for the different types of crimes\n",
    "crime_counts = df['Description'].value_counts().to_frame('Total # of Crimes')\n",
    "crime_counts"
   ]
  },
  {
   "cell_type": "code",
   "execution_count": 15,
   "id": "7b317517-a1e2-4452-94f9-8eff4afeb47d",
   "metadata": {},
   "outputs": [
    {
     "data": {
      "text/html": [
       "<style type=\"text/css\">\n",
       "#T_6a97f_row0_col0 {\n",
       "  width: 10em;\n",
       "  background: linear-gradient(90deg, #d65f5f 100.0%, transparent 100.0%);\n",
       "}\n",
       "#T_6a97f_row1_col0 {\n",
       "  width: 10em;\n",
       "  background: linear-gradient(90deg, #d65f5f 81.9%, transparent 81.9%);\n",
       "}\n",
       "#T_6a97f_row2_col0 {\n",
       "  width: 10em;\n",
       "  background: linear-gradient(90deg, #d65f5f 60.8%, transparent 60.8%);\n",
       "}\n",
       "#T_6a97f_row3_col0 {\n",
       "  width: 10em;\n",
       "  background: linear-gradient(90deg, #d65f5f 56.7%, transparent 56.7%);\n",
       "}\n",
       "#T_6a97f_row4_col0 {\n",
       "  width: 10em;\n",
       "  background: linear-gradient(90deg, #d65f5f 51.9%, transparent 51.9%);\n",
       "}\n",
       "#T_6a97f_row5_col0 {\n",
       "  width: 10em;\n",
       "  background: linear-gradient(90deg, #d65f5f 43.0%, transparent 43.0%);\n",
       "}\n",
       "#T_6a97f_row6_col0 {\n",
       "  width: 10em;\n",
       "  background: linear-gradient(90deg, #d65f5f 35.2%, transparent 35.2%);\n",
       "}\n",
       "#T_6a97f_row7_col0 {\n",
       "  width: 10em;\n",
       "  background: linear-gradient(90deg, #d65f5f 5.4%, transparent 5.4%);\n",
       "}\n",
       "#T_6a97f_row8_col0 {\n",
       "  width: 10em;\n",
       "  background: linear-gradient(90deg, #d65f5f 5.0%, transparent 5.0%);\n",
       "}\n",
       "#T_6a97f_row9_col0 {\n",
       "  width: 10em;\n",
       "  background: linear-gradient(90deg, #d65f5f 3.9%, transparent 3.9%);\n",
       "}\n",
       "#T_6a97f_row10_col0 {\n",
       "  width: 10em;\n",
       "  background: linear-gradient(90deg, #d65f5f 2.9%, transparent 2.9%);\n",
       "}\n",
       "#T_6a97f_row11_col0 {\n",
       "  width: 10em;\n",
       "  background: linear-gradient(90deg, #d65f5f 2.8%, transparent 2.8%);\n",
       "}\n",
       "#T_6a97f_row12_col0 {\n",
       "  width: 10em;\n",
       "  background: linear-gradient(90deg, #d65f5f 2.0%, transparent 2.0%);\n",
       "}\n",
       "</style>\n",
       "<table id=\"T_6a97f\">\n",
       "  <thead>\n",
       "    <tr>\n",
       "      <th class=\"blank level0\" >&nbsp;</th>\n",
       "      <th id=\"T_6a97f_level0_col0\" class=\"col_heading level0 col0\" >Total # of Crimes</th>\n",
       "    </tr>\n",
       "  </thead>\n",
       "  <tbody>\n",
       "    <tr>\n",
       "      <th id=\"T_6a97f_level0_row0\" class=\"row_heading level0 row0\" >LARCENY</th>\n",
       "      <td id=\"T_6a97f_row0_col0\" class=\"data row0 col0\" >132195</td>\n",
       "    </tr>\n",
       "    <tr>\n",
       "      <th id=\"T_6a97f_level0_row1\" class=\"row_heading level0 row1\" >COMMON ASSAULT</th>\n",
       "      <td id=\"T_6a97f_row1_col0\" class=\"data row1 col0\" >108224</td>\n",
       "    </tr>\n",
       "    <tr>\n",
       "      <th id=\"T_6a97f_level0_row2\" class=\"row_heading level0 row2\" >BURGLARY</th>\n",
       "      <td id=\"T_6a97f_row2_col0\" class=\"data row2 col0\" >80422</td>\n",
       "    </tr>\n",
       "    <tr>\n",
       "      <th id=\"T_6a97f_level0_row3\" class=\"row_heading level0 row3\" >LARCENY FROM AUTO</th>\n",
       "      <td id=\"T_6a97f_row3_col0\" class=\"data row3 col0\" >74944</td>\n",
       "    </tr>\n",
       "    <tr>\n",
       "      <th id=\"T_6a97f_level0_row4\" class=\"row_heading level0 row4\" >AGG. ASSAULT</th>\n",
       "      <td id=\"T_6a97f_row4_col0\" class=\"data row4 col0\" >68572</td>\n",
       "    </tr>\n",
       "    <tr>\n",
       "      <th id=\"T_6a97f_level0_row5\" class=\"row_heading level0 row5\" >AUTO THEFT</th>\n",
       "      <td id=\"T_6a97f_row5_col0\" class=\"data row5 col0\" >56822</td>\n",
       "    </tr>\n",
       "    <tr>\n",
       "      <th id=\"T_6a97f_level0_row6\" class=\"row_heading level0 row6\" >ROBBERY</th>\n",
       "      <td id=\"T_6a97f_row6_col0\" class=\"data row6 col0\" >46520</td>\n",
       "    </tr>\n",
       "    <tr>\n",
       "      <th id=\"T_6a97f_level0_row7\" class=\"row_heading level0 row7\" >ROBBERY - COMMERCIAL</th>\n",
       "      <td id=\"T_6a97f_row7_col0\" class=\"data row7 col0\" >7135</td>\n",
       "    </tr>\n",
       "    <tr>\n",
       "      <th id=\"T_6a97f_level0_row8\" class=\"row_heading level0 row8\" >SHOOTING</th>\n",
       "      <td id=\"T_6a97f_row8_col0\" class=\"data row8 col0\" >6645</td>\n",
       "    </tr>\n",
       "    <tr>\n",
       "      <th id=\"T_6a97f_level0_row9\" class=\"row_heading level0 row9\" >ROBBERY - CARJACKING</th>\n",
       "      <td id=\"T_6a97f_row9_col0\" class=\"data row9 col0\" >5094</td>\n",
       "    </tr>\n",
       "    <tr>\n",
       "      <th id=\"T_6a97f_level0_row10\" class=\"row_heading level0 row10\" >RAPE</th>\n",
       "      <td id=\"T_6a97f_row10_col0\" class=\"data row10 col0\" >3802</td>\n",
       "    </tr>\n",
       "    <tr>\n",
       "      <th id=\"T_6a97f_level0_row11\" class=\"row_heading level0 row11\" >HOMICIDE</th>\n",
       "      <td id=\"T_6a97f_row11_col0\" class=\"data row11 col0\" >3659</td>\n",
       "    </tr>\n",
       "    <tr>\n",
       "      <th id=\"T_6a97f_level0_row12\" class=\"row_heading level0 row12\" >ARSON</th>\n",
       "      <td id=\"T_6a97f_row12_col0\" class=\"data row12 col0\" >2608</td>\n",
       "    </tr>\n",
       "  </tbody>\n",
       "</table>\n"
      ],
      "text/plain": [
       "<pandas.io.formats.style.Styler at 0x2b084bc5420>"
      ]
     },
     "execution_count": 15,
     "metadata": {},
     "output_type": "execute_result"
    }
   ],
   "source": [
    "# Display an inline-barplot inside the dataframe\n",
    "crime_counts.style.bar('Total # of Crimes')"
   ]
  },
  {
   "cell_type": "markdown",
   "id": "37fad3ce-b3dd-4ad9-9603-dbc684e27642",
   "metadata": {},
   "source": [
    "- The perks of the visual are that it doesn't take up much space, still displays the data in the value_counts form, but also adds the nice clear visual summary with bars.\n",
    "- It can be noted there are 13 types of crime to create columns for."
   ]
  },
  {
   "cell_type": "markdown",
   "id": "d0583bc7-9c75-47dc-9e66-52f13dc6362d",
   "metadata": {},
   "source": [
    "#### Using Dictionaries and Loops to Prepare Time Series"
   ]
  },
  {
   "cell_type": "markdown",
   "id": "906ca404-86ab-4850-b5ee-bbed4bff5fb4",
   "metadata": {},
   "source": [
    "- Before starting think about how to get the total counts for each crime.\n",
    "    - One option is using the Total Incidents column, which already has a count of the crimes.\n",
    "    - A second option is to use .size as the aggregation method after resampling."
   ]
  },
  {
   "cell_type": "markdown",
   "id": "e866d025-6875-4f15-8486-f2d9ed42c233",
   "metadata": {},
   "source": [
    "- **.size() vs .count()**\n",
    "    - Why not use .count() when the goal is to count the # of crimes per day?\n",
    "    - .count() will produce a 2-dimensional result with a count column for EVERY column.\n",
    "    - .size() will simply return the # of rows (1-dimensional)\n",
    "    - Additionally, the count method includes null values in the result which will be fine for this example.\n",
    "- **For this scenario, .size() will be much cleaner.**"
   ]
  },
  {
   "cell_type": "code",
   "execution_count": 16,
   "id": "a93a508d-314f-4d19-967a-02ca9c10fa03",
   "metadata": {},
   "outputs": [
    {
     "data": {
      "text/html": [
       "<div>\n",
       "<style scoped>\n",
       "    .dataframe tbody tr th:only-of-type {\n",
       "        vertical-align: middle;\n",
       "    }\n",
       "\n",
       "    .dataframe tbody tr th {\n",
       "        vertical-align: top;\n",
       "    }\n",
       "\n",
       "    .dataframe thead th {\n",
       "        text-align: right;\n",
       "    }\n",
       "</style>\n",
       "<table border=\"1\" class=\"dataframe\">\n",
       "  <thead>\n",
       "    <tr style=\"text-align: right;\">\n",
       "      <th></th>\n",
       "      <th>X</th>\n",
       "      <th>Y</th>\n",
       "      <th>RowID</th>\n",
       "      <th>CCNumber</th>\n",
       "      <th>CrimeCode</th>\n",
       "      <th>Inside_Outside</th>\n",
       "      <th>Weapon</th>\n",
       "      <th>Post</th>\n",
       "      <th>Gender</th>\n",
       "      <th>Age</th>\n",
       "      <th>Race</th>\n",
       "      <th>Ethnicity</th>\n",
       "      <th>Location</th>\n",
       "      <th>Old_District</th>\n",
       "      <th>New_District</th>\n",
       "      <th>Neighborhood</th>\n",
       "      <th>Latitude</th>\n",
       "      <th>Longitude</th>\n",
       "      <th>GeoLocation</th>\n",
       "      <th>PremiseType</th>\n",
       "      <th>Total_Incidents</th>\n",
       "    </tr>\n",
       "    <tr>\n",
       "      <th>Description</th>\n",
       "      <th></th>\n",
       "      <th></th>\n",
       "      <th></th>\n",
       "      <th></th>\n",
       "      <th></th>\n",
       "      <th></th>\n",
       "      <th></th>\n",
       "      <th></th>\n",
       "      <th></th>\n",
       "      <th></th>\n",
       "      <th></th>\n",
       "      <th></th>\n",
       "      <th></th>\n",
       "      <th></th>\n",
       "      <th></th>\n",
       "      <th></th>\n",
       "      <th></th>\n",
       "      <th></th>\n",
       "      <th></th>\n",
       "      <th></th>\n",
       "      <th></th>\n",
       "    </tr>\n",
       "  </thead>\n",
       "  <tbody>\n",
       "    <tr>\n",
       "      <th>AGG. ASSAULT</th>\n",
       "      <td>68465</td>\n",
       "      <td>68465</td>\n",
       "      <td>68572</td>\n",
       "      <td>68572</td>\n",
       "      <td>68572</td>\n",
       "      <td>62076</td>\n",
       "      <td>67039</td>\n",
       "      <td>67653</td>\n",
       "      <td>65696</td>\n",
       "      <td>64118</td>\n",
       "      <td>67723</td>\n",
       "      <td>11130</td>\n",
       "      <td>68076</td>\n",
       "      <td>65367</td>\n",
       "      <td>2286</td>\n",
       "      <td>67555</td>\n",
       "      <td>68465</td>\n",
       "      <td>68465</td>\n",
       "      <td>68572</td>\n",
       "      <td>62076</td>\n",
       "      <td>68572</td>\n",
       "    </tr>\n",
       "    <tr>\n",
       "      <th>ARSON</th>\n",
       "      <td>2601</td>\n",
       "      <td>2601</td>\n",
       "      <td>2608</td>\n",
       "      <td>2608</td>\n",
       "      <td>2608</td>\n",
       "      <td>2398</td>\n",
       "      <td>2244</td>\n",
       "      <td>2560</td>\n",
       "      <td>1974</td>\n",
       "      <td>1554</td>\n",
       "      <td>2465</td>\n",
       "      <td>195</td>\n",
       "      <td>2596</td>\n",
       "      <td>2468</td>\n",
       "      <td>92</td>\n",
       "      <td>2558</td>\n",
       "      <td>2601</td>\n",
       "      <td>2601</td>\n",
       "      <td>2608</td>\n",
       "      <td>2398</td>\n",
       "      <td>2608</td>\n",
       "    </tr>\n",
       "    <tr>\n",
       "      <th>AUTO THEFT</th>\n",
       "      <td>56714</td>\n",
       "      <td>56714</td>\n",
       "      <td>56822</td>\n",
       "      <td>56822</td>\n",
       "      <td>56822</td>\n",
       "      <td>53451</td>\n",
       "      <td>73</td>\n",
       "      <td>55924</td>\n",
       "      <td>51302</td>\n",
       "      <td>50221</td>\n",
       "      <td>54064</td>\n",
       "      <td>12268</td>\n",
       "      <td>56371</td>\n",
       "      <td>49894</td>\n",
       "      <td>6027</td>\n",
       "      <td>55866</td>\n",
       "      <td>56714</td>\n",
       "      <td>56714</td>\n",
       "      <td>56822</td>\n",
       "      <td>53451</td>\n",
       "      <td>56822</td>\n",
       "    </tr>\n",
       "    <tr>\n",
       "      <th>BURGLARY</th>\n",
       "      <td>80372</td>\n",
       "      <td>80372</td>\n",
       "      <td>80422</td>\n",
       "      <td>80422</td>\n",
       "      <td>80422</td>\n",
       "      <td>75703</td>\n",
       "      <td>238</td>\n",
       "      <td>79970</td>\n",
       "      <td>62162</td>\n",
       "      <td>56380</td>\n",
       "      <td>75726</td>\n",
       "      <td>4814</td>\n",
       "      <td>80228</td>\n",
       "      <td>78233</td>\n",
       "      <td>1736</td>\n",
       "      <td>79920</td>\n",
       "      <td>80372</td>\n",
       "      <td>80372</td>\n",
       "      <td>80422</td>\n",
       "      <td>75703</td>\n",
       "      <td>80422</td>\n",
       "    </tr>\n",
       "    <tr>\n",
       "      <th>COMMON ASSAULT</th>\n",
       "      <td>108090</td>\n",
       "      <td>108090</td>\n",
       "      <td>108224</td>\n",
       "      <td>108224</td>\n",
       "      <td>108224</td>\n",
       "      <td>98407</td>\n",
       "      <td>20974</td>\n",
       "      <td>107026</td>\n",
       "      <td>103747</td>\n",
       "      <td>100039</td>\n",
       "      <td>106914</td>\n",
       "      <td>16664</td>\n",
       "      <td>107629</td>\n",
       "      <td>103416</td>\n",
       "      <td>3610</td>\n",
       "      <td>106889</td>\n",
       "      <td>108090</td>\n",
       "      <td>108090</td>\n",
       "      <td>108224</td>\n",
       "      <td>98407</td>\n",
       "      <td>108224</td>\n",
       "    </tr>\n",
       "  </tbody>\n",
       "</table>\n",
       "</div>"
      ],
      "text/plain": [
       "                     X       Y   RowID  CCNumber  CrimeCode  Inside_Outside  \\\n",
       "Description                                                                   \n",
       "AGG. ASSAULT     68465   68465   68572     68572      68572           62076   \n",
       "ARSON             2601    2601    2608      2608       2608            2398   \n",
       "AUTO THEFT       56714   56714   56822     56822      56822           53451   \n",
       "BURGLARY         80372   80372   80422     80422      80422           75703   \n",
       "COMMON ASSAULT  108090  108090  108224    108224     108224           98407   \n",
       "\n",
       "                Weapon    Post  Gender     Age    Race  Ethnicity  Location  \\\n",
       "Description                                                                   \n",
       "AGG. ASSAULT     67039   67653   65696   64118   67723      11130     68076   \n",
       "ARSON             2244    2560    1974    1554    2465        195      2596   \n",
       "AUTO THEFT          73   55924   51302   50221   54064      12268     56371   \n",
       "BURGLARY           238   79970   62162   56380   75726       4814     80228   \n",
       "COMMON ASSAULT   20974  107026  103747  100039  106914      16664    107629   \n",
       "\n",
       "                Old_District  New_District  Neighborhood  Latitude  Longitude  \\\n",
       "Description                                                                     \n",
       "AGG. ASSAULT           65367          2286         67555     68465      68465   \n",
       "ARSON                   2468            92          2558      2601       2601   \n",
       "AUTO THEFT             49894          6027         55866     56714      56714   \n",
       "BURGLARY               78233          1736         79920     80372      80372   \n",
       "COMMON ASSAULT        103416          3610        106889    108090     108090   \n",
       "\n",
       "                GeoLocation  PremiseType  Total_Incidents  \n",
       "Description                                                \n",
       "AGG. ASSAULT          68572        62076            68572  \n",
       "ARSON                  2608         2398             2608  \n",
       "AUTO THEFT            56822        53451            56822  \n",
       "BURGLARY              80422        75703            80422  \n",
       "COMMON ASSAULT       108224        98407           108224  "
      ]
     },
     "execution_count": 16,
     "metadata": {},
     "output_type": "execute_result"
    }
   ],
   "source": [
    "# Demoing groupby with .counts() vs .size()\n",
    "df.groupby('Description').count().head()"
   ]
  },
  {
   "cell_type": "code",
   "execution_count": 17,
   "id": "c6b1b8eb-d0e8-4e13-b8e6-13e36fefdd02",
   "metadata": {},
   "outputs": [
    {
     "data": {
      "text/plain": [
       "Description\n",
       "AGG. ASSAULT       68572\n",
       "ARSON               2608\n",
       "AUTO THEFT         56822\n",
       "BURGLARY           80422\n",
       "COMMON ASSAULT    108224\n",
       "dtype: int64"
      ]
     },
     "execution_count": 17,
     "metadata": {},
     "output_type": "execute_result"
    }
   ],
   "source": [
    "df.groupby('Description').size().head()"
   ]
  },
  {
   "cell_type": "markdown",
   "id": "398cbc94-70cf-40ea-8d51-53f2ec1d15bf",
   "metadata": {},
   "source": [
    "- Note that .size() results match the 'Total Incidents' column of the df (far right).\n",
    "- This gives the same information, but in a much cleaner result."
   ]
  },
  {
   "cell_type": "markdown",
   "id": "f1bfa6ef-20cf-4d47-ab51-4aa756a58aa3",
   "metadata": {
    "jp-MarkdownHeadingCollapsed": true
   },
   "source": [
    "### Plan for Creating Columns for each Crime Type"
   ]
  },
  {
   "cell_type": "markdown",
   "id": "9bb1ab5a-f26c-458c-9dad-7e1703a7e0a2",
   "metadata": {},
   "source": [
    "**Putting the above steps together will help create a succinct plan for organizing our data.**\n",
    "\n",
    "In order to create separate columns:\n",
    "1. Get a list of all unique crime descriptions in the dataset\n",
    "2. Create an empty dictionary where the new time series crime columns will be saved.\n",
    "3. Loop through the list of crimes and:\n",
    "    - A) Save a temporary DataFrame to filter all the rows of that type of crime\n",
    "    - B) Resample the temp df as Daily data (crime counts) and save the .size()\n",
    "    - C) Save the temp df in the dictionary, using the crime description as the key\n",
    "4. Finally, convert the dictionaries to a DataFrame"
   ]
  },
  {
   "cell_type": "markdown",
   "id": "5c6e41d0-26cd-48e7-a3db-f4c6e118592e",
   "metadata": {
    "jp-MarkdownHeadingCollapsed": true
   },
   "source": [
    "#### Testing 1 Crime Frist"
   ]
  },
  {
   "cell_type": "code",
   "execution_count": 18,
   "id": "ea0180b7-ff7e-41ae-b112-32716ac20420",
   "metadata": {},
   "outputs": [],
   "source": [
    "# Make the dictionary\n",
    "CRIMES = {}"
   ]
  },
  {
   "cell_type": "code",
   "execution_count": 19,
   "id": "51bcf029-6fe8-4273-9997-e761bcccdf48",
   "metadata": {},
   "outputs": [
    {
     "data": {
      "text/plain": [
       "'ROBBERY'"
      ]
     },
     "execution_count": 19,
     "metadata": {},
     "output_type": "execute_result"
    }
   ],
   "source": [
    "# Test 1 crime before creating the loop\n",
    "crime = 'ROBBERY'\n",
    "crime"
   ]
  },
  {
   "cell_type": "code",
   "execution_count": 20,
   "id": "a165830d-ae3d-4cf7-b8a4-30b35d7be65b",
   "metadata": {},
   "outputs": [
    {
     "data": {
      "text/html": [
       "<div>\n",
       "<style scoped>\n",
       "    .dataframe tbody tr th:only-of-type {\n",
       "        vertical-align: middle;\n",
       "    }\n",
       "\n",
       "    .dataframe tbody tr th {\n",
       "        vertical-align: top;\n",
       "    }\n",
       "\n",
       "    .dataframe thead th {\n",
       "        text-align: right;\n",
       "    }\n",
       "</style>\n",
       "<table border=\"1\" class=\"dataframe\">\n",
       "  <thead>\n",
       "    <tr style=\"text-align: right;\">\n",
       "      <th></th>\n",
       "      <th>X</th>\n",
       "      <th>Y</th>\n",
       "      <th>RowID</th>\n",
       "      <th>CCNumber</th>\n",
       "      <th>CrimeCode</th>\n",
       "      <th>Description</th>\n",
       "      <th>Inside_Outside</th>\n",
       "      <th>Weapon</th>\n",
       "      <th>Post</th>\n",
       "      <th>Gender</th>\n",
       "      <th>Age</th>\n",
       "      <th>Race</th>\n",
       "      <th>Ethnicity</th>\n",
       "      <th>Location</th>\n",
       "      <th>Old_District</th>\n",
       "      <th>New_District</th>\n",
       "      <th>Neighborhood</th>\n",
       "      <th>Latitude</th>\n",
       "      <th>Longitude</th>\n",
       "      <th>GeoLocation</th>\n",
       "      <th>PremiseType</th>\n",
       "      <th>Total_Incidents</th>\n",
       "    </tr>\n",
       "    <tr>\n",
       "      <th>CrimeDateTime</th>\n",
       "      <th></th>\n",
       "      <th></th>\n",
       "      <th></th>\n",
       "      <th></th>\n",
       "      <th></th>\n",
       "      <th></th>\n",
       "      <th></th>\n",
       "      <th></th>\n",
       "      <th></th>\n",
       "      <th></th>\n",
       "      <th></th>\n",
       "      <th></th>\n",
       "      <th></th>\n",
       "      <th></th>\n",
       "      <th></th>\n",
       "      <th></th>\n",
       "      <th></th>\n",
       "      <th></th>\n",
       "      <th></th>\n",
       "      <th></th>\n",
       "      <th></th>\n",
       "      <th></th>\n",
       "    </tr>\n",
       "  </thead>\n",
       "  <tbody>\n",
       "    <tr>\n",
       "      <th>2011-01-01 02:45:00+00:00</th>\n",
       "      <td>-76.593990</td>\n",
       "      <td>39.297354</td>\n",
       "      <td>574471</td>\n",
       "      <td>11A00126</td>\n",
       "      <td>3AF</td>\n",
       "      <td>ROBBERY</td>\n",
       "      <td>O</td>\n",
       "      <td>FIREARM</td>\n",
       "      <td>321.0</td>\n",
       "      <td>M</td>\n",
       "      <td>22.0</td>\n",
       "      <td>BLACK_OR_AFRICAN_AMERICAN</td>\n",
       "      <td>NaN</td>\n",
       "      <td>600 BROADWAY</td>\n",
       "      <td>EASTERN</td>\n",
       "      <td>NaN</td>\n",
       "      <td>DUNBAR-BROADWAY</td>\n",
       "      <td>39.297354</td>\n",
       "      <td>-76.593990</td>\n",
       "      <td>(39.297354,-76.59399)</td>\n",
       "      <td>STREET</td>\n",
       "      <td>1</td>\n",
       "    </tr>\n",
       "    <tr>\n",
       "      <th>2011-01-01 04:25:00+00:00</th>\n",
       "      <td>-76.658482</td>\n",
       "      <td>39.342387</td>\n",
       "      <td>577058</td>\n",
       "      <td>11A00157</td>\n",
       "      <td>3B</td>\n",
       "      <td>ROBBERY</td>\n",
       "      <td>I</td>\n",
       "      <td>NaN</td>\n",
       "      <td>532.0</td>\n",
       "      <td>F</td>\n",
       "      <td>23.0</td>\n",
       "      <td>BLACK_OR_AFRICAN_AMERICAN</td>\n",
       "      <td>NaN</td>\n",
       "      <td>2500 EDGECOMBE CIR N</td>\n",
       "      <td>NORTHERN</td>\n",
       "      <td>NaN</td>\n",
       "      <td>PARKLANE</td>\n",
       "      <td>39.342387</td>\n",
       "      <td>-76.658482</td>\n",
       "      <td>(39.342387,-76.658482)</td>\n",
       "      <td>APT/CONDO - OCCUPIED</td>\n",
       "      <td>1</td>\n",
       "    </tr>\n",
       "    <tr>\n",
       "      <th>2011-01-01 04:55:00+00:00</th>\n",
       "      <td>-76.598510</td>\n",
       "      <td>39.292969</td>\n",
       "      <td>569084</td>\n",
       "      <td>11A00161</td>\n",
       "      <td>3B</td>\n",
       "      <td>ROBBERY</td>\n",
       "      <td>O</td>\n",
       "      <td>NaN</td>\n",
       "      <td>212.0</td>\n",
       "      <td>M</td>\n",
       "      <td>55.0</td>\n",
       "      <td>BLACK_OR_AFRICAN_AMERICAN</td>\n",
       "      <td>NaN</td>\n",
       "      <td>1400 E FAYETTE ST</td>\n",
       "      <td>SOUTHEAST</td>\n",
       "      <td>NaN</td>\n",
       "      <td>DUNBAR-BROADWAY</td>\n",
       "      <td>39.292969</td>\n",
       "      <td>-76.598510</td>\n",
       "      <td>(39.292968763700166,-76.598509626981652)</td>\n",
       "      <td>STREET</td>\n",
       "      <td>1</td>\n",
       "    </tr>\n",
       "  </tbody>\n",
       "</table>\n",
       "</div>"
      ],
      "text/plain": [
       "                                   X          Y   RowID  CCNumber CrimeCode  \\\n",
       "CrimeDateTime                                                                 \n",
       "2011-01-01 02:45:00+00:00 -76.593990  39.297354  574471  11A00126       3AF   \n",
       "2011-01-01 04:25:00+00:00 -76.658482  39.342387  577058  11A00157        3B   \n",
       "2011-01-01 04:55:00+00:00 -76.598510  39.292969  569084  11A00161        3B   \n",
       "\n",
       "                          Description Inside_Outside   Weapon   Post Gender  \\\n",
       "CrimeDateTime                                                                 \n",
       "2011-01-01 02:45:00+00:00     ROBBERY              O  FIREARM  321.0      M   \n",
       "2011-01-01 04:25:00+00:00     ROBBERY              I      NaN  532.0      F   \n",
       "2011-01-01 04:55:00+00:00     ROBBERY              O      NaN  212.0      M   \n",
       "\n",
       "                            Age                       Race Ethnicity  \\\n",
       "CrimeDateTime                                                          \n",
       "2011-01-01 02:45:00+00:00  22.0  BLACK_OR_AFRICAN_AMERICAN       NaN   \n",
       "2011-01-01 04:25:00+00:00  23.0  BLACK_OR_AFRICAN_AMERICAN       NaN   \n",
       "2011-01-01 04:55:00+00:00  55.0  BLACK_OR_AFRICAN_AMERICAN       NaN   \n",
       "\n",
       "                                       Location Old_District New_District  \\\n",
       "CrimeDateTime                                                               \n",
       "2011-01-01 02:45:00+00:00          600 BROADWAY      EASTERN          NaN   \n",
       "2011-01-01 04:25:00+00:00  2500 EDGECOMBE CIR N     NORTHERN          NaN   \n",
       "2011-01-01 04:55:00+00:00     1400 E FAYETTE ST    SOUTHEAST          NaN   \n",
       "\n",
       "                              Neighborhood   Latitude  Longitude  \\\n",
       "CrimeDateTime                                                      \n",
       "2011-01-01 02:45:00+00:00  DUNBAR-BROADWAY  39.297354 -76.593990   \n",
       "2011-01-01 04:25:00+00:00         PARKLANE  39.342387 -76.658482   \n",
       "2011-01-01 04:55:00+00:00  DUNBAR-BROADWAY  39.292969 -76.598510   \n",
       "\n",
       "                                                        GeoLocation  \\\n",
       "CrimeDateTime                                                         \n",
       "2011-01-01 02:45:00+00:00                     (39.297354,-76.59399)   \n",
       "2011-01-01 04:25:00+00:00                    (39.342387,-76.658482)   \n",
       "2011-01-01 04:55:00+00:00  (39.292968763700166,-76.598509626981652)   \n",
       "\n",
       "                                    PremiseType  Total_Incidents  \n",
       "CrimeDateTime                                                     \n",
       "2011-01-01 02:45:00+00:00  STREET                              1  \n",
       "2011-01-01 04:25:00+00:00  APT/CONDO - OCCUPIED                1  \n",
       "2011-01-01 04:55:00+00:00  STREET                              1  "
      ]
     },
     "execution_count": 20,
     "metadata": {},
     "output_type": "execute_result"
    }
   ],
   "source": [
    "# A) Save a temp df of just the rows that match the crime\n",
    "temp = df.loc[ df['Description']==crime]\n",
    "temp.head(3)"
   ]
  },
  {
   "cell_type": "code",
   "execution_count": 21,
   "id": "46b02ad4-8ce5-41ba-98f6-577dd14ee77e",
   "metadata": {},
   "outputs": [
    {
     "data": {
      "text/plain": [
       "CrimeDateTime\n",
       "2011-01-01 00:00:00+00:00     5\n",
       "2011-01-02 00:00:00+00:00    10\n",
       "2011-01-03 00:00:00+00:00     9\n",
       "2011-01-04 00:00:00+00:00     4\n",
       "2011-01-05 00:00:00+00:00     6\n",
       "                             ..\n",
       "2023-11-28 00:00:00+00:00    11\n",
       "2023-11-29 00:00:00+00:00     8\n",
       "2023-11-30 00:00:00+00:00    13\n",
       "2023-12-01 00:00:00+00:00     3\n",
       "2023-12-02 00:00:00+00:00     8\n",
       "Freq: D, Length: 4719, dtype: int64"
      ]
     },
     "execution_count": 21,
     "metadata": {},
     "output_type": "execute_result"
    }
   ],
   "source": [
    "# B) Resample the temp df as Daily data (crime counts)\n",
    "# Keep ONLY the .size()\n",
    "temp_res = temp.resample('D').size()\n",
    "temp_res"
   ]
  },
  {
   "cell_type": "code",
   "execution_count": 22,
   "id": "8e8ba93b-f98d-4e2b-a21e-06dec25b13b2",
   "metadata": {},
   "outputs": [
    {
     "data": {
      "text/plain": [
       "dict_keys(['ROBBERY'])"
      ]
     },
     "execution_count": 22,
     "metadata": {},
     "output_type": "execute_result"
    }
   ],
   "source": [
    "# C) Save the temp df in the dictionary, using the crime description as the key.\n",
    "CRIMES[crime] = temp_res.copy()\n",
    "CRIMES.keys()"
   ]
  },
  {
   "cell_type": "markdown",
   "id": "2214254d-3992-4a12-b8ea-81d19d9c0bd2",
   "metadata": {},
   "source": [
    "- After successfully figuring out and testing the workflow, now construct a loop to do the same thing with each type of crime."
   ]
  },
  {
   "cell_type": "markdown",
   "id": "b7d81b17-8882-4c7b-b03a-809142b54b92",
   "metadata": {
    "jp-MarkdownHeadingCollapsed": true
   },
   "source": [
    "#### Making the Loop"
   ]
  },
  {
   "cell_type": "markdown",
   "id": "46490c1a-8226-4127-84a5-4ca38cfa63cb",
   "metadata": {},
   "source": [
    "- First, create a list of all the different types of crime to loop through. Each of these will become a key in the new dictionary."
   ]
  },
  {
   "cell_type": "code",
   "execution_count": 23,
   "id": "09bbce01-ae5d-44cb-b8b8-609a199e7d70",
   "metadata": {},
   "outputs": [
    {
     "data": {
      "text/plain": [
       "array(['RAPE', 'LARCENY', 'LARCENY FROM AUTO', 'AGG. ASSAULT', 'BURGLARY',\n",
       "       'COMMON ASSAULT', 'AUTO THEFT', 'ROBBERY', 'ROBBERY - COMMERCIAL',\n",
       "       'ARSON', 'HOMICIDE', 'ROBBERY - CARJACKING', 'SHOOTING'],\n",
       "      dtype=object)"
      ]
     },
     "execution_count": 23,
     "metadata": {},
     "output_type": "execute_result"
    }
   ],
   "source": [
    "# 1. Get list of unique crime descriptions\n",
    "crime_list = df['Description'].unique()\n",
    "crime_list"
   ]
  },
  {
   "cell_type": "code",
   "execution_count": 24,
   "id": "6c03e259-4689-48d9-9df2-1ef7ec16a743",
   "metadata": {},
   "outputs": [
    {
     "data": {
      "text/plain": [
       "dict_keys(['RAPE', 'LARCENY', 'LARCENY FROM AUTO', 'AGG. ASSAULT', 'BURGLARY', 'COMMON ASSAULT', 'AUTO THEFT', 'ROBBERY', 'ROBBERY - COMMERCIAL', 'ARSON', 'HOMICIDE', 'ROBBERY - CARJACKING', 'SHOOTING'])"
      ]
     },
     "execution_count": 24,
     "metadata": {},
     "output_type": "execute_result"
    }
   ],
   "source": [
    "# 2. Create the empty dict\n",
    "CRIMES = {}\n",
    "# 3. Loop through the list of crimes\n",
    "for crime in crime_list:\n",
    "    # A) Save a temp df of just the rows that match the crime\n",
    "    temp = df.loc[ df['Description']==crime].copy()\n",
    "    # B) Resample the temp df as Daily data (crime counts)\n",
    "    # keep ONLY the .size()\n",
    "    temp_res = temp.resample('D').size()\n",
    "    # C) Save the temp df in the dictionary, using crime description as the key\n",
    "    CRIMES[crime] = temp_res.copy()\n",
    "CRIMES.keys()"
   ]
  },
  {
   "cell_type": "markdown",
   "id": "59156fe0-fda0-4318-8b5b-ff93c5e5ac82",
   "metadata": {},
   "source": [
    "- The dict above has a key for each type of crime, including for each type of robbery.\n",
    "- Verify values were added; check values for an example (shooting)"
   ]
  },
  {
   "cell_type": "code",
   "execution_count": 25,
   "id": "2637b3a0-2e74-4ec9-9991-6b44c02a88e1",
   "metadata": {},
   "outputs": [
    {
     "data": {
      "text/plain": [
       "CrimeDateTime\n",
       "2012-01-20 00:00:00+00:00    1\n",
       "2012-01-21 00:00:00+00:00    0\n",
       "2012-01-22 00:00:00+00:00    0\n",
       "2012-01-23 00:00:00+00:00    0\n",
       "2012-01-24 00:00:00+00:00    0\n",
       "                            ..\n",
       "2023-11-28 00:00:00+00:00    0\n",
       "2023-11-29 00:00:00+00:00    2\n",
       "2023-11-30 00:00:00+00:00    6\n",
       "2023-12-01 00:00:00+00:00    1\n",
       "2023-12-02 00:00:00+00:00    2\n",
       "Freq: D, Length: 4335, dtype: int64"
      ]
     },
     "execution_count": 25,
     "metadata": {},
     "output_type": "execute_result"
    }
   ],
   "source": [
    "CRIMES['SHOOTING']"
   ]
  },
  {
   "cell_type": "markdown",
   "id": "985f0a8c-cd32-4798-8797-3607268efff1",
   "metadata": {},
   "source": [
    "**Convert Dictionary to DataFrame**"
   ]
  },
  {
   "cell_type": "code",
   "execution_count": 26,
   "id": "c9c6d243-fe8f-43dc-a6d8-9ec7eba7275a",
   "metadata": {},
   "outputs": [
    {
     "data": {
      "text/html": [
       "<div>\n",
       "<style scoped>\n",
       "    .dataframe tbody tr th:only-of-type {\n",
       "        vertical-align: middle;\n",
       "    }\n",
       "\n",
       "    .dataframe tbody tr th {\n",
       "        vertical-align: top;\n",
       "    }\n",
       "\n",
       "    .dataframe thead th {\n",
       "        text-align: right;\n",
       "    }\n",
       "</style>\n",
       "<table border=\"1\" class=\"dataframe\">\n",
       "  <thead>\n",
       "    <tr style=\"text-align: right;\">\n",
       "      <th></th>\n",
       "      <th>RAPE</th>\n",
       "      <th>LARCENY</th>\n",
       "      <th>LARCENY FROM AUTO</th>\n",
       "      <th>AGG. ASSAULT</th>\n",
       "      <th>BURGLARY</th>\n",
       "      <th>COMMON ASSAULT</th>\n",
       "      <th>AUTO THEFT</th>\n",
       "      <th>ROBBERY</th>\n",
       "      <th>ROBBERY - COMMERCIAL</th>\n",
       "      <th>ARSON</th>\n",
       "      <th>HOMICIDE</th>\n",
       "      <th>ROBBERY - CARJACKING</th>\n",
       "      <th>SHOOTING</th>\n",
       "    </tr>\n",
       "    <tr>\n",
       "      <th>CrimeDateTime</th>\n",
       "      <th></th>\n",
       "      <th></th>\n",
       "      <th></th>\n",
       "      <th></th>\n",
       "      <th></th>\n",
       "      <th></th>\n",
       "      <th></th>\n",
       "      <th></th>\n",
       "      <th></th>\n",
       "      <th></th>\n",
       "      <th></th>\n",
       "      <th></th>\n",
       "      <th></th>\n",
       "    </tr>\n",
       "  </thead>\n",
       "  <tbody>\n",
       "    <tr>\n",
       "      <th>2011-01-01 00:00:00+00:00</th>\n",
       "      <td>5.0</td>\n",
       "      <td>39</td>\n",
       "      <td>27</td>\n",
       "      <td>28</td>\n",
       "      <td>21</td>\n",
       "      <td>41</td>\n",
       "      <td>15</td>\n",
       "      <td>5</td>\n",
       "      <td>2</td>\n",
       "      <td>1.0</td>\n",
       "      <td>NaN</td>\n",
       "      <td>NaN</td>\n",
       "      <td>NaN</td>\n",
       "    </tr>\n",
       "    <tr>\n",
       "      <th>2011-01-02 00:00:00+00:00</th>\n",
       "      <td>2.0</td>\n",
       "      <td>20</td>\n",
       "      <td>20</td>\n",
       "      <td>6</td>\n",
       "      <td>19</td>\n",
       "      <td>14</td>\n",
       "      <td>5</td>\n",
       "      <td>10</td>\n",
       "      <td>1</td>\n",
       "      <td>0.0</td>\n",
       "      <td>NaN</td>\n",
       "      <td>NaN</td>\n",
       "      <td>NaN</td>\n",
       "    </tr>\n",
       "    <tr>\n",
       "      <th>2011-01-03 00:00:00+00:00</th>\n",
       "      <td>1.0</td>\n",
       "      <td>19</td>\n",
       "      <td>16</td>\n",
       "      <td>13</td>\n",
       "      <td>21</td>\n",
       "      <td>15</td>\n",
       "      <td>7</td>\n",
       "      <td>9</td>\n",
       "      <td>1</td>\n",
       "      <td>0.0</td>\n",
       "      <td>NaN</td>\n",
       "      <td>NaN</td>\n",
       "      <td>NaN</td>\n",
       "    </tr>\n",
       "    <tr>\n",
       "      <th>2011-01-04 00:00:00+00:00</th>\n",
       "      <td>1.0</td>\n",
       "      <td>29</td>\n",
       "      <td>12</td>\n",
       "      <td>11</td>\n",
       "      <td>12</td>\n",
       "      <td>29</td>\n",
       "      <td>10</td>\n",
       "      <td>4</td>\n",
       "      <td>0</td>\n",
       "      <td>0.0</td>\n",
       "      <td>NaN</td>\n",
       "      <td>NaN</td>\n",
       "      <td>NaN</td>\n",
       "    </tr>\n",
       "    <tr>\n",
       "      <th>2011-01-05 00:00:00+00:00</th>\n",
       "      <td>0.0</td>\n",
       "      <td>30</td>\n",
       "      <td>14</td>\n",
       "      <td>9</td>\n",
       "      <td>28</td>\n",
       "      <td>26</td>\n",
       "      <td>10</td>\n",
       "      <td>6</td>\n",
       "      <td>2</td>\n",
       "      <td>0.0</td>\n",
       "      <td>NaN</td>\n",
       "      <td>NaN</td>\n",
       "      <td>NaN</td>\n",
       "    </tr>\n",
       "    <tr>\n",
       "      <th>...</th>\n",
       "      <td>...</td>\n",
       "      <td>...</td>\n",
       "      <td>...</td>\n",
       "      <td>...</td>\n",
       "      <td>...</td>\n",
       "      <td>...</td>\n",
       "      <td>...</td>\n",
       "      <td>...</td>\n",
       "      <td>...</td>\n",
       "      <td>...</td>\n",
       "      <td>...</td>\n",
       "      <td>...</td>\n",
       "      <td>...</td>\n",
       "    </tr>\n",
       "    <tr>\n",
       "      <th>2023-11-28 00:00:00+00:00</th>\n",
       "      <td>2.0</td>\n",
       "      <td>18</td>\n",
       "      <td>12</td>\n",
       "      <td>14</td>\n",
       "      <td>6</td>\n",
       "      <td>13</td>\n",
       "      <td>27</td>\n",
       "      <td>11</td>\n",
       "      <td>1</td>\n",
       "      <td>0.0</td>\n",
       "      <td>0.0</td>\n",
       "      <td>1.0</td>\n",
       "      <td>0.0</td>\n",
       "    </tr>\n",
       "    <tr>\n",
       "      <th>2023-11-29 00:00:00+00:00</th>\n",
       "      <td>1.0</td>\n",
       "      <td>21</td>\n",
       "      <td>4</td>\n",
       "      <td>11</td>\n",
       "      <td>6</td>\n",
       "      <td>23</td>\n",
       "      <td>18</td>\n",
       "      <td>8</td>\n",
       "      <td>1</td>\n",
       "      <td>2.0</td>\n",
       "      <td>0.0</td>\n",
       "      <td>2.0</td>\n",
       "      <td>2.0</td>\n",
       "    </tr>\n",
       "    <tr>\n",
       "      <th>2023-11-30 00:00:00+00:00</th>\n",
       "      <td>NaN</td>\n",
       "      <td>30</td>\n",
       "      <td>7</td>\n",
       "      <td>15</td>\n",
       "      <td>6</td>\n",
       "      <td>22</td>\n",
       "      <td>24</td>\n",
       "      <td>13</td>\n",
       "      <td>0</td>\n",
       "      <td>10.0</td>\n",
       "      <td>1.0</td>\n",
       "      <td>3.0</td>\n",
       "      <td>6.0</td>\n",
       "    </tr>\n",
       "    <tr>\n",
       "      <th>2023-12-01 00:00:00+00:00</th>\n",
       "      <td>NaN</td>\n",
       "      <td>16</td>\n",
       "      <td>3</td>\n",
       "      <td>13</td>\n",
       "      <td>6</td>\n",
       "      <td>23</td>\n",
       "      <td>24</td>\n",
       "      <td>3</td>\n",
       "      <td>0</td>\n",
       "      <td>NaN</td>\n",
       "      <td>1.0</td>\n",
       "      <td>1.0</td>\n",
       "      <td>1.0</td>\n",
       "    </tr>\n",
       "    <tr>\n",
       "      <th>2023-12-02 00:00:00+00:00</th>\n",
       "      <td>NaN</td>\n",
       "      <td>11</td>\n",
       "      <td>3</td>\n",
       "      <td>16</td>\n",
       "      <td>7</td>\n",
       "      <td>25</td>\n",
       "      <td>19</td>\n",
       "      <td>8</td>\n",
       "      <td>2</td>\n",
       "      <td>NaN</td>\n",
       "      <td>1.0</td>\n",
       "      <td>NaN</td>\n",
       "      <td>2.0</td>\n",
       "    </tr>\n",
       "  </tbody>\n",
       "</table>\n",
       "<p>4719 rows × 13 columns</p>\n",
       "</div>"
      ],
      "text/plain": [
       "                           RAPE  LARCENY  LARCENY FROM AUTO  AGG. ASSAULT  \\\n",
       "CrimeDateTime                                                               \n",
       "2011-01-01 00:00:00+00:00   5.0       39                 27            28   \n",
       "2011-01-02 00:00:00+00:00   2.0       20                 20             6   \n",
       "2011-01-03 00:00:00+00:00   1.0       19                 16            13   \n",
       "2011-01-04 00:00:00+00:00   1.0       29                 12            11   \n",
       "2011-01-05 00:00:00+00:00   0.0       30                 14             9   \n",
       "...                         ...      ...                ...           ...   \n",
       "2023-11-28 00:00:00+00:00   2.0       18                 12            14   \n",
       "2023-11-29 00:00:00+00:00   1.0       21                  4            11   \n",
       "2023-11-30 00:00:00+00:00   NaN       30                  7            15   \n",
       "2023-12-01 00:00:00+00:00   NaN       16                  3            13   \n",
       "2023-12-02 00:00:00+00:00   NaN       11                  3            16   \n",
       "\n",
       "                           BURGLARY  COMMON ASSAULT  AUTO THEFT  ROBBERY  \\\n",
       "CrimeDateTime                                                              \n",
       "2011-01-01 00:00:00+00:00        21              41          15        5   \n",
       "2011-01-02 00:00:00+00:00        19              14           5       10   \n",
       "2011-01-03 00:00:00+00:00        21              15           7        9   \n",
       "2011-01-04 00:00:00+00:00        12              29          10        4   \n",
       "2011-01-05 00:00:00+00:00        28              26          10        6   \n",
       "...                             ...             ...         ...      ...   \n",
       "2023-11-28 00:00:00+00:00         6              13          27       11   \n",
       "2023-11-29 00:00:00+00:00         6              23          18        8   \n",
       "2023-11-30 00:00:00+00:00         6              22          24       13   \n",
       "2023-12-01 00:00:00+00:00         6              23          24        3   \n",
       "2023-12-02 00:00:00+00:00         7              25          19        8   \n",
       "\n",
       "                           ROBBERY - COMMERCIAL  ARSON  HOMICIDE  \\\n",
       "CrimeDateTime                                                      \n",
       "2011-01-01 00:00:00+00:00                     2    1.0       NaN   \n",
       "2011-01-02 00:00:00+00:00                     1    0.0       NaN   \n",
       "2011-01-03 00:00:00+00:00                     1    0.0       NaN   \n",
       "2011-01-04 00:00:00+00:00                     0    0.0       NaN   \n",
       "2011-01-05 00:00:00+00:00                     2    0.0       NaN   \n",
       "...                                         ...    ...       ...   \n",
       "2023-11-28 00:00:00+00:00                     1    0.0       0.0   \n",
       "2023-11-29 00:00:00+00:00                     1    2.0       0.0   \n",
       "2023-11-30 00:00:00+00:00                     0   10.0       1.0   \n",
       "2023-12-01 00:00:00+00:00                     0    NaN       1.0   \n",
       "2023-12-02 00:00:00+00:00                     2    NaN       1.0   \n",
       "\n",
       "                           ROBBERY - CARJACKING  SHOOTING  \n",
       "CrimeDateTime                                              \n",
       "2011-01-01 00:00:00+00:00                   NaN       NaN  \n",
       "2011-01-02 00:00:00+00:00                   NaN       NaN  \n",
       "2011-01-03 00:00:00+00:00                   NaN       NaN  \n",
       "2011-01-04 00:00:00+00:00                   NaN       NaN  \n",
       "2011-01-05 00:00:00+00:00                   NaN       NaN  \n",
       "...                                         ...       ...  \n",
       "2023-11-28 00:00:00+00:00                   1.0       0.0  \n",
       "2023-11-29 00:00:00+00:00                   2.0       2.0  \n",
       "2023-11-30 00:00:00+00:00                   3.0       6.0  \n",
       "2023-12-01 00:00:00+00:00                   1.0       1.0  \n",
       "2023-12-02 00:00:00+00:00                   NaN       2.0  \n",
       "\n",
       "[4719 rows x 13 columns]"
      ]
     },
     "execution_count": 26,
     "metadata": {},
     "output_type": "execute_result"
    }
   ],
   "source": [
    "# Because only one column for each crime type was saved (therefore giving a pandas Series), \n",
    "# it's possible to use pd.DataFrame(CRIMES)\n",
    "crimes_df = pd.DataFrame(CRIMES)\n",
    "crimes_df"
   ]
  },
  {
   "cell_type": "markdown",
   "id": "d760bf30-c92b-4a72-b305-087b3eee3834",
   "metadata": {},
   "source": [
    "- Complete! This leaves a time series of daily crime counts\n",
    "- This can be saved for later use (and will be used in following lessons)"
   ]
  },
  {
   "cell_type": "code",
   "execution_count": 27,
   "id": "d446837e-4550-4902-ae9a-29dbf40efbd5",
   "metadata": {},
   "outputs": [],
   "source": [
    "# Save to disk for later use\n",
    "# crimes_df.to_csv('Data/baltimore_crime_counts_2023.csv')"
   ]
  },
  {
   "cell_type": "markdown",
   "id": "b7a331c9-3fb3-41af-bb3e-5e2b18a1373c",
   "metadata": {
    "jp-MarkdownHeadingCollapsed": true
   },
   "source": [
    "## Timezones"
   ]
  },
  {
   "cell_type": "markdown",
   "id": "7c6b1c27-2e91-4fc3-b183-d71eb4eac8fc",
   "metadata": {},
   "source": [
    "- **This lesson covers how to change or remove timezones from time series data.**"
   ]
  },
  {
   "cell_type": "markdown",
   "id": "c4329d81-5715-4217-998d-e6aa669ba857",
   "metadata": {},
   "source": [
    "### Timezones"
   ]
  },
  {
   "cell_type": "code",
   "execution_count": 28,
   "id": "3f15802f-c65d-410a-8ae6-9f230f05b6c1",
   "metadata": {},
   "outputs": [],
   "source": [
    "# Testing the previously saved data\n",
    "df = pd.read_csv('Data/baltimore_crime_counts_2023.csv', parse_dates=['CrimeDateTime'], index_col=0)"
   ]
  },
  {
   "cell_type": "code",
   "execution_count": 29,
   "id": "96ea46af-b1b9-4f50-9890-778b4728ed91",
   "metadata": {},
   "outputs": [
    {
     "data": {
      "text/plain": [
       "DatetimeIndex(['2011-01-01 00:00:00+00:00', '2011-01-02 00:00:00+00:00',\n",
       "               '2011-01-03 00:00:00+00:00', '2011-01-04 00:00:00+00:00',\n",
       "               '2011-01-05 00:00:00+00:00', '2011-01-06 00:00:00+00:00',\n",
       "               '2011-01-07 00:00:00+00:00', '2011-01-08 00:00:00+00:00',\n",
       "               '2011-01-09 00:00:00+00:00', '2011-01-10 00:00:00+00:00',\n",
       "               ...\n",
       "               '2023-11-23 00:00:00+00:00', '2023-11-24 00:00:00+00:00',\n",
       "               '2023-11-25 00:00:00+00:00', '2023-11-26 00:00:00+00:00',\n",
       "               '2023-11-27 00:00:00+00:00', '2023-11-28 00:00:00+00:00',\n",
       "               '2023-11-29 00:00:00+00:00', '2023-11-30 00:00:00+00:00',\n",
       "               '2023-12-01 00:00:00+00:00', '2023-12-02 00:00:00+00:00'],\n",
       "              dtype='datetime64[ns, UTC]', name='CrimeDateTime', length=4719, freq=None)"
      ]
     },
     "execution_count": 29,
     "metadata": {},
     "output_type": "execute_result"
    }
   ],
   "source": [
    "# Check the df.index\n",
    "df.index"
   ]
  },
  {
   "cell_type": "markdown",
   "id": "f39a7f42-50d4-4bbe-951b-3eb793b822d2",
   "metadata": {},
   "source": [
    "**Observations on dealing with Timezones**\n",
    "- The above datetime index has a large number of 0's\n",
    "- Why is this here? Is it related to teh datetime index frequency?"
   ]
  },
  {
   "cell_type": "markdown",
   "id": "056ffc9f-e6d9-4240-840a-5e69f7b63532",
   "metadata": {},
   "source": [
    "### UTC vs Time Zones"
   ]
  },
  {
   "cell_type": "markdown",
   "id": "248ed4f1-f3d0-47e7-a558-cc81ded9f0f9",
   "metadata": {},
   "source": [
    "- Notice the dtype is 'datetime64[ns, UTC]'\n",
    "    - Previously, datetime indicies had a dtype of 'datetime64[ns]', so what has changed?\n",
    "- There is now timezine data present! The '+00:00' is how Panda's Timestamps represent time zone.\n",
    "- UTC is the default time standard, which is not technically a time zone but it is the standard global time without a time zone.\n",
    "    - All time zones are therefore a specific number of hour +/- from UTC. For example Pacific Standard Time (PST) is UTC (-7)Hours\n",
    "- Check if resampling the data as daily freq will remove the 00:00:00 for Hours/Mins/Secs"
   ]
  },
  {
   "cell_type": "code",
   "execution_count": 30,
   "id": "b01ae4bf-99f6-4876-aa36-017d05027353",
   "metadata": {},
   "outputs": [
    {
     "data": {
      "text/html": [
       "<div>\n",
       "<style scoped>\n",
       "    .dataframe tbody tr th:only-of-type {\n",
       "        vertical-align: middle;\n",
       "    }\n",
       "\n",
       "    .dataframe tbody tr th {\n",
       "        vertical-align: top;\n",
       "    }\n",
       "\n",
       "    .dataframe thead th {\n",
       "        text-align: right;\n",
       "    }\n",
       "</style>\n",
       "<table border=\"1\" class=\"dataframe\">\n",
       "  <thead>\n",
       "    <tr style=\"text-align: right;\">\n",
       "      <th></th>\n",
       "      <th>RAPE</th>\n",
       "      <th>LARCENY</th>\n",
       "      <th>LARCENY FROM AUTO</th>\n",
       "      <th>AGG. ASSAULT</th>\n",
       "      <th>BURGLARY</th>\n",
       "      <th>COMMON ASSAULT</th>\n",
       "      <th>AUTO THEFT</th>\n",
       "      <th>ROBBERY</th>\n",
       "      <th>ROBBERY - COMMERCIAL</th>\n",
       "      <th>ARSON</th>\n",
       "      <th>HOMICIDE</th>\n",
       "      <th>ROBBERY - CARJACKING</th>\n",
       "      <th>SHOOTING</th>\n",
       "    </tr>\n",
       "    <tr>\n",
       "      <th>CrimeDateTime</th>\n",
       "      <th></th>\n",
       "      <th></th>\n",
       "      <th></th>\n",
       "      <th></th>\n",
       "      <th></th>\n",
       "      <th></th>\n",
       "      <th></th>\n",
       "      <th></th>\n",
       "      <th></th>\n",
       "      <th></th>\n",
       "      <th></th>\n",
       "      <th></th>\n",
       "      <th></th>\n",
       "    </tr>\n",
       "  </thead>\n",
       "  <tbody>\n",
       "    <tr>\n",
       "      <th>2011-01-01 00:00:00+00:00</th>\n",
       "      <td>5.0</td>\n",
       "      <td>39</td>\n",
       "      <td>27</td>\n",
       "      <td>28</td>\n",
       "      <td>21</td>\n",
       "      <td>41</td>\n",
       "      <td>15</td>\n",
       "      <td>5</td>\n",
       "      <td>2</td>\n",
       "      <td>1.0</td>\n",
       "      <td>NaN</td>\n",
       "      <td>NaN</td>\n",
       "      <td>NaN</td>\n",
       "    </tr>\n",
       "    <tr>\n",
       "      <th>2011-01-02 00:00:00+00:00</th>\n",
       "      <td>2.0</td>\n",
       "      <td>20</td>\n",
       "      <td>20</td>\n",
       "      <td>6</td>\n",
       "      <td>19</td>\n",
       "      <td>14</td>\n",
       "      <td>5</td>\n",
       "      <td>10</td>\n",
       "      <td>1</td>\n",
       "      <td>0.0</td>\n",
       "      <td>NaN</td>\n",
       "      <td>NaN</td>\n",
       "      <td>NaN</td>\n",
       "    </tr>\n",
       "    <tr>\n",
       "      <th>2011-01-03 00:00:00+00:00</th>\n",
       "      <td>1.0</td>\n",
       "      <td>19</td>\n",
       "      <td>16</td>\n",
       "      <td>13</td>\n",
       "      <td>21</td>\n",
       "      <td>15</td>\n",
       "      <td>7</td>\n",
       "      <td>9</td>\n",
       "      <td>1</td>\n",
       "      <td>0.0</td>\n",
       "      <td>NaN</td>\n",
       "      <td>NaN</td>\n",
       "      <td>NaN</td>\n",
       "    </tr>\n",
       "  </tbody>\n",
       "</table>\n",
       "</div>"
      ],
      "text/plain": [
       "                           RAPE  LARCENY  LARCENY FROM AUTO  AGG. ASSAULT  \\\n",
       "CrimeDateTime                                                               \n",
       "2011-01-01 00:00:00+00:00   5.0       39                 27            28   \n",
       "2011-01-02 00:00:00+00:00   2.0       20                 20             6   \n",
       "2011-01-03 00:00:00+00:00   1.0       19                 16            13   \n",
       "\n",
       "                           BURGLARY  COMMON ASSAULT  AUTO THEFT  ROBBERY  \\\n",
       "CrimeDateTime                                                              \n",
       "2011-01-01 00:00:00+00:00        21              41          15        5   \n",
       "2011-01-02 00:00:00+00:00        19              14           5       10   \n",
       "2011-01-03 00:00:00+00:00        21              15           7        9   \n",
       "\n",
       "                           ROBBERY - COMMERCIAL  ARSON  HOMICIDE  \\\n",
       "CrimeDateTime                                                      \n",
       "2011-01-01 00:00:00+00:00                     2    1.0       NaN   \n",
       "2011-01-02 00:00:00+00:00                     1    0.0       NaN   \n",
       "2011-01-03 00:00:00+00:00                     1    0.0       NaN   \n",
       "\n",
       "                           ROBBERY - CARJACKING  SHOOTING  \n",
       "CrimeDateTime                                              \n",
       "2011-01-01 00:00:00+00:00                   NaN       NaN  \n",
       "2011-01-02 00:00:00+00:00                   NaN       NaN  \n",
       "2011-01-03 00:00:00+00:00                   NaN       NaN  "
      ]
     },
     "execution_count": 30,
     "metadata": {},
     "output_type": "execute_result"
    }
   ],
   "source": [
    "df = df.resample('D').asfreq()\n",
    "df.head(3)"
   ]
  },
  {
   "cell_type": "markdown",
   "id": "49856eec-7ba8-450a-8833-ea13304097f7",
   "metadata": {},
   "source": [
    "- As can be seen here, timezone-aware Timestamps will always display this level of detail, even when the freq is set to lower than a specific time (in this case, days)\n",
    "- Pull out the first value of the index and display it:"
   ]
  },
  {
   "cell_type": "code",
   "execution_count": 31,
   "id": "cc4e75c8-3c59-4853-884b-0872cd704ce8",
   "metadata": {},
   "outputs": [
    {
     "data": {
      "text/plain": [
       "Timestamp('2011-01-01 00:00:00+0000', tz='UTC', freq='D')"
      ]
     },
     "execution_count": 31,
     "metadata": {},
     "output_type": "execute_result"
    }
   ],
   "source": [
    "ts0 = df.index[0]\n",
    "ts0"
   ]
  },
  {
   "cell_type": "markdown",
   "id": "210406a8-68a1-4533-897d-00d4c59789e4",
   "metadata": {},
   "source": [
    "- This Timestamp shows that the tz='UTC'\n",
    "- A single timestamp has a .astimezone() method that will display the datetime to the requested time zone."
   ]
  },
  {
   "cell_type": "code",
   "execution_count": 32,
   "id": "fd40b486-6704-49a5-91c9-f3c2f4dce964",
   "metadata": {},
   "outputs": [
    {
     "data": {
      "text/plain": [
       "\u001b[1;31mSignature:\u001b[0m \u001b[0mts0\u001b[0m\u001b[1;33m.\u001b[0m\u001b[0mastimezone\u001b[0m\u001b[1;33m(\u001b[0m\u001b[0mtz\u001b[0m\u001b[1;33m)\u001b[0m\u001b[1;33m\u001b[0m\u001b[1;33m\u001b[0m\u001b[0m\n",
       "\u001b[1;31mDocstring:\u001b[0m\n",
       "Convert timezone-aware Timestamp to another time zone.\n",
       "\n",
       "Parameters\n",
       "----------\n",
       "tz : str, pytz.timezone, dateutil.tz.tzfile or None\n",
       "    Time zone for time which Timestamp will be converted to.\n",
       "    None will remove timezone holding UTC time.\n",
       "\n",
       "Returns\n",
       "-------\n",
       "converted : Timestamp\n",
       "\n",
       "Raises\n",
       "------\n",
       "TypeError\n",
       "    If Timestamp is tz-naive.\n",
       "\n",
       "Examples\n",
       "--------\n",
       "Create a timestamp object with UTC timezone:\n",
       "\n",
       ">>> ts = pd.Timestamp('2020-03-14T15:32:52.192548651', tz='UTC')\n",
       ">>> ts\n",
       "Timestamp('2020-03-14 15:32:52.192548651+0000', tz='UTC')\n",
       "\n",
       "Change to Tokyo timezone:\n",
       "\n",
       ">>> ts.tz_convert(tz='Asia/Tokyo')\n",
       "Timestamp('2020-03-15 00:32:52.192548651+0900', tz='Asia/Tokyo')\n",
       "\n",
       "Can also use ``astimezone``:\n",
       "\n",
       ">>> ts.astimezone(tz='Asia/Tokyo')\n",
       "Timestamp('2020-03-15 00:32:52.192548651+0900', tz='Asia/Tokyo')\n",
       "\n",
       "Analogous for ``pd.NaT``:\n",
       "\n",
       ">>> pd.NaT.tz_convert(tz='Asia/Tokyo')\n",
       "NaT\n",
       "\u001b[1;31mType:\u001b[0m      method"
      ]
     },
     "metadata": {},
     "output_type": "display_data"
    }
   ],
   "source": [
    "# Checking the documentation for astimezone\n",
    "ts0.astimezone?"
   ]
  },
  {
   "cell_type": "markdown",
   "id": "d914ff72-0714-4aa3-8f9d-ed63cfc72b3e",
   "metadata": {},
   "source": [
    "- The docstring above shows astimezone accepts several different types of arguments for the time zone, one option being `pytz.timezone`\n",
    "- For a list of all of the named time zones that are available in pytz module, import it and then check `pytz.all_timezones` variable"
   ]
  },
  {
   "cell_type": "code",
   "execution_count": 33,
   "id": "17a5dd5f-e117-41b1-8f87-ef836fb017a0",
   "metadata": {},
   "outputs": [
    {
     "data": {
      "text/plain": [
       "596"
      ]
     },
     "execution_count": 33,
     "metadata": {},
     "output_type": "execute_result"
    }
   ],
   "source": [
    "import pytz\n",
    "all_tzs = pytz.all_timezones\n",
    "len(all_tzs)"
   ]
  },
  {
   "cell_type": "markdown",
   "id": "97db4749-0813-4f0b-9395-611266f4c356",
   "metadata": {},
   "source": [
    "- This is quite a large number of timezones; limit it to only the tz's within the US"
   ]
  },
  {
   "cell_type": "code",
   "execution_count": 34,
   "id": "ebb3fb38-57bd-4008-9a19-5797f4206b65",
   "metadata": {},
   "outputs": [
    {
     "data": {
      "text/plain": [
       "['US/Alaska',\n",
       " 'US/Aleutian',\n",
       " 'US/Arizona',\n",
       " 'US/Central',\n",
       " 'US/East-Indiana',\n",
       " 'US/Eastern',\n",
       " 'US/Hawaii',\n",
       " 'US/Indiana-Starke',\n",
       " 'US/Michigan',\n",
       " 'US/Mountain',\n",
       " 'US/Pacific',\n",
       " 'US/Samoa']"
      ]
     },
     "execution_count": 34,
     "metadata": {},
     "output_type": "execute_result"
    }
   ],
   "source": [
    "# Get US timezones\n",
    "[tz for tz in all_tzs if tz.startswith(\"US\")]"
   ]
  },
  {
   "cell_type": "markdown",
   "id": "13988313-7d11-43b9-b732-ce313e78c7bc",
   "metadata": {},
   "source": [
    "- Try converting timezones to Eastern Time:"
   ]
  },
  {
   "cell_type": "code",
   "execution_count": 35,
   "id": "51e5e131-1e43-4aeb-98bc-d925a2d79d45",
   "metadata": {},
   "outputs": [
    {
     "data": {
      "text/plain": [
       "Timestamp('2010-12-31 19:00:00-0500', tz='US/Eastern', freq='D')"
      ]
     },
     "execution_count": 35,
     "metadata": {},
     "output_type": "execute_result"
    }
   ],
   "source": [
    "# Convert to Eastern Time\n",
    "ts0.astimezone('US/Eastern')"
   ]
  },
  {
   "cell_type": "markdown",
   "id": "e5858de9-39ea-48e6-894f-8e2e92fb9499",
   "metadata": {},
   "source": [
    "- This demonstrates that the tz has been changed to another tz. There will now be an actual hour appearing in the time and the \"+00:00\" reflects the hours of difference between UTC and the selected zone.\n",
    "- Compare these to the original ts and see if there are any unexpected problems."
   ]
  },
  {
   "cell_type": "code",
   "execution_count": 36,
   "id": "f16affbd-5ae8-4bc6-be25-16483328bf33",
   "metadata": {},
   "outputs": [
    {
     "data": {
      "text/plain": [
       "Timestamp('2011-01-01 00:00:00+0000', tz='UTC', freq='D')"
      ]
     },
     "execution_count": 36,
     "metadata": {},
     "output_type": "execute_result"
    }
   ],
   "source": [
    "# View original\n",
    "ts0"
   ]
  },
  {
   "cell_type": "code",
   "execution_count": 37,
   "id": "cd1f66f0-12cb-4208-a55f-1a3b4b7c2d30",
   "metadata": {},
   "outputs": [
    {
     "data": {
      "text/plain": [
       "Timestamp('2010-12-31 16:00:00-0800', tz='US/Pacific', freq='D')"
      ]
     },
     "execution_count": 37,
     "metadata": {},
     "output_type": "execute_result"
    }
   ],
   "source": [
    "# Try converting to US Pacific\n",
    "ts0.astimezone('US/Pacific')"
   ]
  },
  {
   "cell_type": "markdown",
   "id": "aed78ed4-008e-4144-b120-3f32364eaad0",
   "metadata": {},
   "source": [
    "- Is there any noticable issue?\n",
    "    - Converting the timestamps has caused the DATE to change!\n",
    "    - Because of the time of the reported crime, and the difference in time zones, changing the hours shifted the date from 2011-01-01 to 2010-12-31\n",
    "    - For many operations, timezone-aware time series can actually cause issues.\n",
    "- If they are not required, it is often best to remove the time zone altogether, especially when dealing with days or an even lower frequency, such as weeks or years."
   ]
  },
  {
   "cell_type": "markdown",
   "id": "e2682b1a-4b7d-4d0d-8db5-e36c1fb2287b",
   "metadata": {},
   "source": [
    "### Converting to TimeZone-naive timestamps"
   ]
  },
  {
   "cell_type": "markdown",
   "id": "2e6b9425-a870-4a45-984c-5959edfd1773",
   "metadata": {},
   "source": [
    "- With a sinlge timestamp, the timezone *cannot* be removed altogether.\n",
    "- However, if working with a DataTime Index, the *entire index* can be converted to a timezone-naive index by using `df.tz_convert(None)`"
   ]
  },
  {
   "cell_type": "code",
   "execution_count": 38,
   "id": "aebc5f7f-d66d-407a-a038-8e881c45b230",
   "metadata": {},
   "outputs": [
    {
     "data": {
      "text/html": [
       "<div>\n",
       "<style scoped>\n",
       "    .dataframe tbody tr th:only-of-type {\n",
       "        vertical-align: middle;\n",
       "    }\n",
       "\n",
       "    .dataframe tbody tr th {\n",
       "        vertical-align: top;\n",
       "    }\n",
       "\n",
       "    .dataframe thead th {\n",
       "        text-align: right;\n",
       "    }\n",
       "</style>\n",
       "<table border=\"1\" class=\"dataframe\">\n",
       "  <thead>\n",
       "    <tr style=\"text-align: right;\">\n",
       "      <th></th>\n",
       "      <th>RAPE</th>\n",
       "      <th>LARCENY</th>\n",
       "      <th>LARCENY FROM AUTO</th>\n",
       "      <th>AGG. ASSAULT</th>\n",
       "      <th>BURGLARY</th>\n",
       "      <th>COMMON ASSAULT</th>\n",
       "      <th>AUTO THEFT</th>\n",
       "      <th>ROBBERY</th>\n",
       "      <th>ROBBERY - COMMERCIAL</th>\n",
       "      <th>ARSON</th>\n",
       "      <th>HOMICIDE</th>\n",
       "      <th>ROBBERY - CARJACKING</th>\n",
       "      <th>SHOOTING</th>\n",
       "    </tr>\n",
       "    <tr>\n",
       "      <th>CrimeDateTime</th>\n",
       "      <th></th>\n",
       "      <th></th>\n",
       "      <th></th>\n",
       "      <th></th>\n",
       "      <th></th>\n",
       "      <th></th>\n",
       "      <th></th>\n",
       "      <th></th>\n",
       "      <th></th>\n",
       "      <th></th>\n",
       "      <th></th>\n",
       "      <th></th>\n",
       "      <th></th>\n",
       "    </tr>\n",
       "  </thead>\n",
       "  <tbody>\n",
       "    <tr>\n",
       "      <th>2011-01-01</th>\n",
       "      <td>5.0</td>\n",
       "      <td>39</td>\n",
       "      <td>27</td>\n",
       "      <td>28</td>\n",
       "      <td>21</td>\n",
       "      <td>41</td>\n",
       "      <td>15</td>\n",
       "      <td>5</td>\n",
       "      <td>2</td>\n",
       "      <td>1.0</td>\n",
       "      <td>NaN</td>\n",
       "      <td>NaN</td>\n",
       "      <td>NaN</td>\n",
       "    </tr>\n",
       "    <tr>\n",
       "      <th>2011-01-02</th>\n",
       "      <td>2.0</td>\n",
       "      <td>20</td>\n",
       "      <td>20</td>\n",
       "      <td>6</td>\n",
       "      <td>19</td>\n",
       "      <td>14</td>\n",
       "      <td>5</td>\n",
       "      <td>10</td>\n",
       "      <td>1</td>\n",
       "      <td>0.0</td>\n",
       "      <td>NaN</td>\n",
       "      <td>NaN</td>\n",
       "      <td>NaN</td>\n",
       "    </tr>\n",
       "    <tr>\n",
       "      <th>2011-01-03</th>\n",
       "      <td>1.0</td>\n",
       "      <td>19</td>\n",
       "      <td>16</td>\n",
       "      <td>13</td>\n",
       "      <td>21</td>\n",
       "      <td>15</td>\n",
       "      <td>7</td>\n",
       "      <td>9</td>\n",
       "      <td>1</td>\n",
       "      <td>0.0</td>\n",
       "      <td>NaN</td>\n",
       "      <td>NaN</td>\n",
       "      <td>NaN</td>\n",
       "    </tr>\n",
       "  </tbody>\n",
       "</table>\n",
       "</div>"
      ],
      "text/plain": [
       "               RAPE  LARCENY  LARCENY FROM AUTO  AGG. ASSAULT  BURGLARY  \\\n",
       "CrimeDateTime                                                             \n",
       "2011-01-01      5.0       39                 27            28        21   \n",
       "2011-01-02      2.0       20                 20             6        19   \n",
       "2011-01-03      1.0       19                 16            13        21   \n",
       "\n",
       "               COMMON ASSAULT  AUTO THEFT  ROBBERY  ROBBERY - COMMERCIAL  \\\n",
       "CrimeDateTime                                                              \n",
       "2011-01-01                 41          15        5                     2   \n",
       "2011-01-02                 14           5       10                     1   \n",
       "2011-01-03                 15           7        9                     1   \n",
       "\n",
       "               ARSON  HOMICIDE  ROBBERY - CARJACKING  SHOOTING  \n",
       "CrimeDateTime                                                   \n",
       "2011-01-01       1.0       NaN                   NaN       NaN  \n",
       "2011-01-02       0.0       NaN                   NaN       NaN  \n",
       "2011-01-03       0.0       NaN                   NaN       NaN  "
      ]
     },
     "execution_count": 38,
     "metadata": {},
     "output_type": "execute_result"
    }
   ],
   "source": [
    "# Remove the timezone from the dt index\n",
    "df = df.tz_convert(None)\n",
    "df.head(3)"
   ]
  },
  {
   "cell_type": "markdown",
   "id": "ec6ea471-d9e9-43ac-a085-1f195f414c42",
   "metadata": {},
   "source": [
    "- Removing the timezone has helped create a much cleaner value for our CrimeDateTime Index."
   ]
  },
  {
   "cell_type": "markdown",
   "id": "37793141-3b54-4367-b541-bffb8c355d48",
   "metadata": {},
   "source": [
    "### Summary"
   ]
  },
  {
   "cell_type": "markdown",
   "id": "472a17eb-6980-4bbc-b19d-6d937ab6551d",
   "metadata": {},
   "source": [
    "- This lesson showed how timezones are represented with datetime objects.\n",
    "- It also showed how to convert to different timezones, and how to remove timezones to create a timezone-naive datetime index."
   ]
  },
  {
   "cell_type": "markdown",
   "id": "2b55b565-da36-45b5-b83a-7457fa144c25",
   "metadata": {
    "jp-MarkdownHeadingCollapsed": true
   },
   "source": [
    "## Binning Time Series"
   ]
  },
  {
   "cell_type": "markdown",
   "id": "30bc46dc-1b1a-471a-b53c-46890c64dcdb",
   "metadata": {},
   "source": [
    "- **This lesson covers how to aggregate/bin time series data based on time of day, dayof the week, etc.**"
   ]
  },
  {
   "cell_type": "markdown",
   "id": "16d815eb-19ce-4f8c-b944-b442e50abbe4",
   "metadata": {
    "jp-MarkdownHeadingCollapsed": true
   },
   "source": [
    "### Re-Engineering Raw Crime Data"
   ]
  },
  {
   "cell_type": "markdown",
   "id": "4b68299c-18d5-4bfd-89e7-b523832ea716",
   "metadata": {},
   "source": [
    "- Previous lessons created a crime-counts dataset from the Baltimore Crime Data that allowed the creation of a high-level summary of how many of which types of crimes occur on a given day.\n",
    "- This was great for basic time series visualization, but most of the nuance/details originally available were lost.\n",
    "- Revist the original crime data and perform some feature engineering for EDA purposes."
   ]
  },
  {
   "cell_type": "code",
   "execution_count": 39,
   "id": "5c284af4-6d67-4ac5-b929-70ff6be62858",
   "metadata": {},
   "outputs": [],
   "source": [
    "# Set options\n",
    "pd.set_option('display.max_columns',100)\n",
    "# Customize figure style for stakeholder-facing visualizations\n",
    "plt.style.use(('ggplot','fivethirtyeight'))\n",
    "sns.set_context('notebook', font_scale=1.2)\n",
    "plt.rcParams['figure.figsize'] = (12,4)\n",
    "plt.rcParams['savefig.transparent'] = False\n",
    "plt.rcParams['savefig.bbox'] = 'tight'"
   ]
  },
  {
   "cell_type": "code",
   "execution_count": 40,
   "id": "b23ea723-123d-4681-9987-c0b37d8ef478",
   "metadata": {},
   "outputs": [
    {
     "data": {
      "text/html": [
       "<div>\n",
       "<style scoped>\n",
       "    .dataframe tbody tr th:only-of-type {\n",
       "        vertical-align: middle;\n",
       "    }\n",
       "\n",
       "    .dataframe tbody tr th {\n",
       "        vertical-align: top;\n",
       "    }\n",
       "\n",
       "    .dataframe thead th {\n",
       "        text-align: right;\n",
       "    }\n",
       "</style>\n",
       "<table border=\"1\" class=\"dataframe\">\n",
       "  <thead>\n",
       "    <tr style=\"text-align: right;\">\n",
       "      <th></th>\n",
       "      <th>X</th>\n",
       "      <th>Y</th>\n",
       "      <th>RowID</th>\n",
       "      <th>CCNumber</th>\n",
       "      <th>CrimeCode</th>\n",
       "      <th>Description</th>\n",
       "      <th>Inside_Outside</th>\n",
       "      <th>Weapon</th>\n",
       "      <th>Post</th>\n",
       "      <th>Gender</th>\n",
       "      <th>Age</th>\n",
       "      <th>Race</th>\n",
       "      <th>Ethnicity</th>\n",
       "      <th>Location</th>\n",
       "      <th>Old_District</th>\n",
       "      <th>New_District</th>\n",
       "      <th>Neighborhood</th>\n",
       "      <th>Latitude</th>\n",
       "      <th>Longitude</th>\n",
       "      <th>GeoLocation</th>\n",
       "      <th>PremiseType</th>\n",
       "      <th>Total_Incidents</th>\n",
       "    </tr>\n",
       "    <tr>\n",
       "      <th>CrimeDateTime</th>\n",
       "      <th></th>\n",
       "      <th></th>\n",
       "      <th></th>\n",
       "      <th></th>\n",
       "      <th></th>\n",
       "      <th></th>\n",
       "      <th></th>\n",
       "      <th></th>\n",
       "      <th></th>\n",
       "      <th></th>\n",
       "      <th></th>\n",
       "      <th></th>\n",
       "      <th></th>\n",
       "      <th></th>\n",
       "      <th></th>\n",
       "      <th></th>\n",
       "      <th></th>\n",
       "      <th></th>\n",
       "      <th></th>\n",
       "      <th></th>\n",
       "      <th></th>\n",
       "      <th></th>\n",
       "    </tr>\n",
       "  </thead>\n",
       "  <tbody>\n",
       "    <tr>\n",
       "      <th>1720-08-14 02:56:02+00:00</th>\n",
       "      <td>-76.605440</td>\n",
       "      <td>39.300101</td>\n",
       "      <td>572400</td>\n",
       "      <td>23H06330</td>\n",
       "      <td>6F</td>\n",
       "      <td>LARCENY</td>\n",
       "      <td>Outside</td>\n",
       "      <td>NaN</td>\n",
       "      <td>324.0</td>\n",
       "      <td>F</td>\n",
       "      <td>39.0</td>\n",
       "      <td>BLACK_OR_AFRICAN_AMERICAN</td>\n",
       "      <td>UNKNOWN</td>\n",
       "      <td>800 MC ALEER CT</td>\n",
       "      <td>EASTERN</td>\n",
       "      <td>NaN</td>\n",
       "      <td>OLDTOWN</td>\n",
       "      <td>39.300101</td>\n",
       "      <td>-76.605440</td>\n",
       "      <td>(39.300100999999998,-76.605440000000002)</td>\n",
       "      <td>OTHER/RESIDENTIAL</td>\n",
       "      <td>1</td>\n",
       "    </tr>\n",
       "    <tr>\n",
       "      <th>1730-09-03 18:26:02+00:00</th>\n",
       "      <td>-76.614148</td>\n",
       "      <td>39.279043</td>\n",
       "      <td>572399</td>\n",
       "      <td>23I01590</td>\n",
       "      <td>6D</td>\n",
       "      <td>LARCENY FROM AUTO</td>\n",
       "      <td>Inside</td>\n",
       "      <td>NaN</td>\n",
       "      <td>942.0</td>\n",
       "      <td>F</td>\n",
       "      <td>0.0</td>\n",
       "      <td>WHITE</td>\n",
       "      <td>UNKNOWN</td>\n",
       "      <td>0 E HENRIETTA ST</td>\n",
       "      <td>SOUTHERN</td>\n",
       "      <td>NaN</td>\n",
       "      <td>FEDERAL HILL</td>\n",
       "      <td>39.279043</td>\n",
       "      <td>-76.614148</td>\n",
       "      <td>(39.279043000000001,-76.614148)</td>\n",
       "      <td>STREET</td>\n",
       "      <td>1</td>\n",
       "    </tr>\n",
       "    <tr>\n",
       "      <th>1920-06-18 01:30:00+00:00</th>\n",
       "      <td>-76.566719</td>\n",
       "      <td>39.291959</td>\n",
       "      <td>572398</td>\n",
       "      <td>22F05949</td>\n",
       "      <td>3AO</td>\n",
       "      <td>ROBBERY</td>\n",
       "      <td>Inside</td>\n",
       "      <td>PERSONAL_WEAPONS</td>\n",
       "      <td>223.0</td>\n",
       "      <td>M</td>\n",
       "      <td>20.0</td>\n",
       "      <td>WHITE</td>\n",
       "      <td>HISPANIC_OR_LATINO</td>\n",
       "      <td>3700 LEVERTON AVE</td>\n",
       "      <td>SOUTHEAST</td>\n",
       "      <td>NaN</td>\n",
       "      <td>BALTIMORE HIGHLANDS</td>\n",
       "      <td>39.291959</td>\n",
       "      <td>-76.566719</td>\n",
       "      <td>(39.291958801114234,-76.566719001516489)</td>\n",
       "      <td>STREET</td>\n",
       "      <td>1</td>\n",
       "    </tr>\n",
       "  </tbody>\n",
       "</table>\n",
       "</div>"
      ],
      "text/plain": [
       "                                   X          Y   RowID  CCNumber CrimeCode  \\\n",
       "CrimeDateTime                                                                 \n",
       "1720-08-14 02:56:02+00:00 -76.605440  39.300101  572400  23H06330        6F   \n",
       "1730-09-03 18:26:02+00:00 -76.614148  39.279043  572399  23I01590        6D   \n",
       "1920-06-18 01:30:00+00:00 -76.566719  39.291959  572398  22F05949       3AO   \n",
       "\n",
       "                                 Description Inside_Outside            Weapon  \\\n",
       "CrimeDateTime                                                                   \n",
       "1720-08-14 02:56:02+00:00            LARCENY        Outside               NaN   \n",
       "1730-09-03 18:26:02+00:00  LARCENY FROM AUTO         Inside               NaN   \n",
       "1920-06-18 01:30:00+00:00            ROBBERY         Inside  PERSONAL_WEAPONS   \n",
       "\n",
       "                            Post Gender   Age                       Race  \\\n",
       "CrimeDateTime                                                              \n",
       "1720-08-14 02:56:02+00:00  324.0      F  39.0  BLACK_OR_AFRICAN_AMERICAN   \n",
       "1730-09-03 18:26:02+00:00  942.0      F   0.0                      WHITE   \n",
       "1920-06-18 01:30:00+00:00  223.0      M  20.0                      WHITE   \n",
       "\n",
       "                                    Ethnicity           Location Old_District  \\\n",
       "CrimeDateTime                                                                   \n",
       "1720-08-14 02:56:02+00:00             UNKNOWN    800 MC ALEER CT      EASTERN   \n",
       "1730-09-03 18:26:02+00:00             UNKNOWN   0 E HENRIETTA ST     SOUTHERN   \n",
       "1920-06-18 01:30:00+00:00  HISPANIC_OR_LATINO  3700 LEVERTON AVE    SOUTHEAST   \n",
       "\n",
       "                          New_District         Neighborhood   Latitude  \\\n",
       "CrimeDateTime                                                            \n",
       "1720-08-14 02:56:02+00:00          NaN              OLDTOWN  39.300101   \n",
       "1730-09-03 18:26:02+00:00          NaN         FEDERAL HILL  39.279043   \n",
       "1920-06-18 01:30:00+00:00          NaN  BALTIMORE HIGHLANDS  39.291959   \n",
       "\n",
       "                           Longitude  \\\n",
       "CrimeDateTime                          \n",
       "1720-08-14 02:56:02+00:00 -76.605440   \n",
       "1730-09-03 18:26:02+00:00 -76.614148   \n",
       "1920-06-18 01:30:00+00:00 -76.566719   \n",
       "\n",
       "                                                        GeoLocation  \\\n",
       "CrimeDateTime                                                         \n",
       "1720-08-14 02:56:02+00:00  (39.300100999999998,-76.605440000000002)   \n",
       "1730-09-03 18:26:02+00:00           (39.279043000000001,-76.614148)   \n",
       "1920-06-18 01:30:00+00:00  (39.291958801114234,-76.566719001516489)   \n",
       "\n",
       "                                 PremiseType  Total_Incidents  \n",
       "CrimeDateTime                                                  \n",
       "1720-08-14 02:56:02+00:00  OTHER/RESIDENTIAL                1  \n",
       "1730-09-03 18:26:02+00:00             STREET                1  \n",
       "1920-06-18 01:30:00+00:00             STREET                1  "
      ]
     },
     "execution_count": 40,
     "metadata": {},
     "output_type": "execute_result"
    }
   ],
   "source": [
    "df = pd.read_csv(\"Data/Part_1_Crime_Data.csv\", low_memory=False)\n",
    "## Converting crimedatetime and coercing errors\n",
    "df['CrimeDateTime'] = pd.to_datetime(df['CrimeDateTime'], errors='coerce')\n",
    "df = df.dropna(subset=['CrimeDateTime'])\n",
    "## setting and sorting the index\n",
    "df = df.set_index(\"CrimeDateTime\")\n",
    "df = df.sort_index()\n",
    "df.head(3)"
   ]
  },
  {
   "cell_type": "code",
   "execution_count": 41,
   "id": "93e8a11d-62aa-4f96-a136-5559bbe087e7",
   "metadata": {},
   "outputs": [
    {
     "data": {
      "text/html": [
       "<div>\n",
       "<style scoped>\n",
       "    .dataframe tbody tr th:only-of-type {\n",
       "        vertical-align: middle;\n",
       "    }\n",
       "\n",
       "    .dataframe tbody tr th {\n",
       "        vertical-align: top;\n",
       "    }\n",
       "\n",
       "    .dataframe thead th {\n",
       "        text-align: right;\n",
       "    }\n",
       "</style>\n",
       "<table border=\"1\" class=\"dataframe\">\n",
       "  <thead>\n",
       "    <tr style=\"text-align: right;\">\n",
       "      <th></th>\n",
       "      <th>X</th>\n",
       "      <th>Y</th>\n",
       "      <th>RowID</th>\n",
       "      <th>CCNumber</th>\n",
       "      <th>CrimeCode</th>\n",
       "      <th>Description</th>\n",
       "      <th>Inside_Outside</th>\n",
       "      <th>Weapon</th>\n",
       "      <th>Post</th>\n",
       "      <th>Gender</th>\n",
       "      <th>Age</th>\n",
       "      <th>Race</th>\n",
       "      <th>Ethnicity</th>\n",
       "      <th>Location</th>\n",
       "      <th>Old_District</th>\n",
       "      <th>New_District</th>\n",
       "      <th>Neighborhood</th>\n",
       "      <th>Latitude</th>\n",
       "      <th>Longitude</th>\n",
       "      <th>GeoLocation</th>\n",
       "      <th>PremiseType</th>\n",
       "      <th>Total_Incidents</th>\n",
       "    </tr>\n",
       "    <tr>\n",
       "      <th>CrimeDateTime</th>\n",
       "      <th></th>\n",
       "      <th></th>\n",
       "      <th></th>\n",
       "      <th></th>\n",
       "      <th></th>\n",
       "      <th></th>\n",
       "      <th></th>\n",
       "      <th></th>\n",
       "      <th></th>\n",
       "      <th></th>\n",
       "      <th></th>\n",
       "      <th></th>\n",
       "      <th></th>\n",
       "      <th></th>\n",
       "      <th></th>\n",
       "      <th></th>\n",
       "      <th></th>\n",
       "      <th></th>\n",
       "      <th></th>\n",
       "      <th></th>\n",
       "      <th></th>\n",
       "      <th></th>\n",
       "    </tr>\n",
       "  </thead>\n",
       "  <tbody>\n",
       "    <tr>\n",
       "      <th>1720-08-14 02:56:02</th>\n",
       "      <td>-76.605440</td>\n",
       "      <td>39.300101</td>\n",
       "      <td>572400</td>\n",
       "      <td>23H06330</td>\n",
       "      <td>6F</td>\n",
       "      <td>LARCENY</td>\n",
       "      <td>Outside</td>\n",
       "      <td>NaN</td>\n",
       "      <td>324.0</td>\n",
       "      <td>F</td>\n",
       "      <td>39.0</td>\n",
       "      <td>BLACK_OR_AFRICAN_AMERICAN</td>\n",
       "      <td>UNKNOWN</td>\n",
       "      <td>800 MC ALEER CT</td>\n",
       "      <td>EASTERN</td>\n",
       "      <td>NaN</td>\n",
       "      <td>OLDTOWN</td>\n",
       "      <td>39.300101</td>\n",
       "      <td>-76.605440</td>\n",
       "      <td>(39.300100999999998,-76.605440000000002)</td>\n",
       "      <td>OTHER/RESIDENTIAL</td>\n",
       "      <td>1</td>\n",
       "    </tr>\n",
       "    <tr>\n",
       "      <th>1730-09-03 18:26:02</th>\n",
       "      <td>-76.614148</td>\n",
       "      <td>39.279043</td>\n",
       "      <td>572399</td>\n",
       "      <td>23I01590</td>\n",
       "      <td>6D</td>\n",
       "      <td>LARCENY FROM AUTO</td>\n",
       "      <td>Inside</td>\n",
       "      <td>NaN</td>\n",
       "      <td>942.0</td>\n",
       "      <td>F</td>\n",
       "      <td>0.0</td>\n",
       "      <td>WHITE</td>\n",
       "      <td>UNKNOWN</td>\n",
       "      <td>0 E HENRIETTA ST</td>\n",
       "      <td>SOUTHERN</td>\n",
       "      <td>NaN</td>\n",
       "      <td>FEDERAL HILL</td>\n",
       "      <td>39.279043</td>\n",
       "      <td>-76.614148</td>\n",
       "      <td>(39.279043000000001,-76.614148)</td>\n",
       "      <td>STREET</td>\n",
       "      <td>1</td>\n",
       "    </tr>\n",
       "    <tr>\n",
       "      <th>1920-06-18 01:30:00</th>\n",
       "      <td>-76.566719</td>\n",
       "      <td>39.291959</td>\n",
       "      <td>572398</td>\n",
       "      <td>22F05949</td>\n",
       "      <td>3AO</td>\n",
       "      <td>ROBBERY</td>\n",
       "      <td>Inside</td>\n",
       "      <td>PERSONAL_WEAPONS</td>\n",
       "      <td>223.0</td>\n",
       "      <td>M</td>\n",
       "      <td>20.0</td>\n",
       "      <td>WHITE</td>\n",
       "      <td>HISPANIC_OR_LATINO</td>\n",
       "      <td>3700 LEVERTON AVE</td>\n",
       "      <td>SOUTHEAST</td>\n",
       "      <td>NaN</td>\n",
       "      <td>BALTIMORE HIGHLANDS</td>\n",
       "      <td>39.291959</td>\n",
       "      <td>-76.566719</td>\n",
       "      <td>(39.291958801114234,-76.566719001516489)</td>\n",
       "      <td>STREET</td>\n",
       "      <td>1</td>\n",
       "    </tr>\n",
       "  </tbody>\n",
       "</table>\n",
       "</div>"
      ],
      "text/plain": [
       "                             X          Y   RowID  CCNumber CrimeCode  \\\n",
       "CrimeDateTime                                                           \n",
       "1720-08-14 02:56:02 -76.605440  39.300101  572400  23H06330        6F   \n",
       "1730-09-03 18:26:02 -76.614148  39.279043  572399  23I01590        6D   \n",
       "1920-06-18 01:30:00 -76.566719  39.291959  572398  22F05949       3AO   \n",
       "\n",
       "                           Description Inside_Outside            Weapon  \\\n",
       "CrimeDateTime                                                             \n",
       "1720-08-14 02:56:02            LARCENY        Outside               NaN   \n",
       "1730-09-03 18:26:02  LARCENY FROM AUTO         Inside               NaN   \n",
       "1920-06-18 01:30:00            ROBBERY         Inside  PERSONAL_WEAPONS   \n",
       "\n",
       "                      Post Gender   Age                       Race  \\\n",
       "CrimeDateTime                                                        \n",
       "1720-08-14 02:56:02  324.0      F  39.0  BLACK_OR_AFRICAN_AMERICAN   \n",
       "1730-09-03 18:26:02  942.0      F   0.0                      WHITE   \n",
       "1920-06-18 01:30:00  223.0      M  20.0                      WHITE   \n",
       "\n",
       "                              Ethnicity           Location Old_District  \\\n",
       "CrimeDateTime                                                             \n",
       "1720-08-14 02:56:02             UNKNOWN    800 MC ALEER CT      EASTERN   \n",
       "1730-09-03 18:26:02             UNKNOWN   0 E HENRIETTA ST     SOUTHERN   \n",
       "1920-06-18 01:30:00  HISPANIC_OR_LATINO  3700 LEVERTON AVE    SOUTHEAST   \n",
       "\n",
       "                    New_District         Neighborhood   Latitude  Longitude  \\\n",
       "CrimeDateTime                                                                 \n",
       "1720-08-14 02:56:02          NaN              OLDTOWN  39.300101 -76.605440   \n",
       "1730-09-03 18:26:02          NaN         FEDERAL HILL  39.279043 -76.614148   \n",
       "1920-06-18 01:30:00          NaN  BALTIMORE HIGHLANDS  39.291959 -76.566719   \n",
       "\n",
       "                                                  GeoLocation  \\\n",
       "CrimeDateTime                                                   \n",
       "1720-08-14 02:56:02  (39.300100999999998,-76.605440000000002)   \n",
       "1730-09-03 18:26:02           (39.279043000000001,-76.614148)   \n",
       "1920-06-18 01:30:00  (39.291958801114234,-76.566719001516489)   \n",
       "\n",
       "                           PremiseType  Total_Incidents  \n",
       "CrimeDateTime                                            \n",
       "1720-08-14 02:56:02  OTHER/RESIDENTIAL                1  \n",
       "1730-09-03 18:26:02             STREET                1  \n",
       "1920-06-18 01:30:00             STREET                1  "
      ]
     },
     "execution_count": 41,
     "metadata": {},
     "output_type": "execute_result"
    }
   ],
   "source": [
    "# Baltimore is in the Eastern Timezone, but tz-naive index can be used by choosing None\n",
    "df = df.tz_convert(None)\n",
    "df.head(3)"
   ]
  },
  {
   "cell_type": "code",
   "execution_count": 42,
   "id": "00cf22ba-96df-4511-b548-cd8d4c80c876",
   "metadata": {},
   "outputs": [
    {
     "name": "stdout",
     "output_type": "stream",
     "text": [
      "<class 'pandas.core.frame.DataFrame'>\n",
      "DatetimeIndex: 597669 entries, 1720-08-14 02:56:02 to 2023-12-02 22:10:00\n",
      "Data columns (total 14 columns):\n",
      " #   Column           Non-Null Count   Dtype  \n",
      "---  ------           --------------   -----  \n",
      " 0   CrimeCode        597669 non-null  object \n",
      " 1   Description      597669 non-null  object \n",
      " 2   Inside_Outside   544339 non-null  object \n",
      " 3   Weapon           145142 non-null  object \n",
      " 4   Gender           502216 non-null  object \n",
      " 5   Age              481272 non-null  float64\n",
      " 6   Race             573343 non-null  object \n",
      " 7   Ethnicity        70814 non-null   object \n",
      " 8   Old_District     567601 non-null  object \n",
      " 9   New_District     22198 non-null   object \n",
      " 10  Neighborhood     589144 non-null  object \n",
      " 11  Latitude         596689 non-null  float64\n",
      " 12  Longitude        596689 non-null  float64\n",
      " 13  Total_Incidents  597669 non-null  int64  \n",
      "dtypes: float64(3), int64(1), object(10)\n",
      "memory usage: 68.4+ MB\n"
     ]
    }
   ],
   "source": [
    "# Next, drop extra columns not needed for analysis\n",
    "drop_cols = ['X', 'Y', 'RowID', 'CCNumber', 'Post', 'GeoLocation', 'Location', 'PremiseType']\n",
    "df = df.drop(columns=drop_cols)\n",
    "df.info()"
   ]
  },
  {
   "cell_type": "markdown",
   "id": "f86bf69c-e52c-4761-ab50-640275a8d1d9",
   "metadata": {
    "jp-MarkdownHeadingCollapsed": true
   },
   "source": [
    "### Feature Engineering & Initial EDA"
   ]
  },
  {
   "cell_type": "markdown",
   "id": "6d2464c6-56b2-49e9-b4d2-177385908067",
   "metadata": {
    "jp-MarkdownHeadingCollapsed": true
   },
   "source": [
    "### Datetime Components"
   ]
  },
  {
   "cell_type": "markdown",
   "id": "4b07b025-cfb4-48c9-b15d-c9341018a160",
   "metadata": {},
   "source": [
    "- Remember that date time objects in Python (and datetime indicies in Pandas) contain methods and attributes for exytacting specific pieces/components of the time series.\n",
    "- Below, save many individual pieces of the datetime column as separate features for EDA."
   ]
  },
  {
   "cell_type": "code",
   "execution_count": 43,
   "id": "9a119100-ff68-4993-9fcc-4b430de0924c",
   "metadata": {},
   "outputs": [
    {
     "data": {
      "text/html": [
       "<div>\n",
       "<style scoped>\n",
       "    .dataframe tbody tr th:only-of-type {\n",
       "        vertical-align: middle;\n",
       "    }\n",
       "\n",
       "    .dataframe tbody tr th {\n",
       "        vertical-align: top;\n",
       "    }\n",
       "\n",
       "    .dataframe thead th {\n",
       "        text-align: right;\n",
       "    }\n",
       "</style>\n",
       "<table border=\"1\" class=\"dataframe\">\n",
       "  <thead>\n",
       "    <tr style=\"text-align: right;\">\n",
       "      <th></th>\n",
       "      <th>CrimeCode</th>\n",
       "      <th>Description</th>\n",
       "      <th>Inside_Outside</th>\n",
       "      <th>Weapon</th>\n",
       "      <th>Gender</th>\n",
       "      <th>Age</th>\n",
       "      <th>Race</th>\n",
       "      <th>Ethnicity</th>\n",
       "      <th>Old_District</th>\n",
       "      <th>New_District</th>\n",
       "      <th>Neighborhood</th>\n",
       "      <th>Latitude</th>\n",
       "      <th>Longitude</th>\n",
       "      <th>Total_Incidents</th>\n",
       "      <th>Date</th>\n",
       "    </tr>\n",
       "    <tr>\n",
       "      <th>CrimeDateTime</th>\n",
       "      <th></th>\n",
       "      <th></th>\n",
       "      <th></th>\n",
       "      <th></th>\n",
       "      <th></th>\n",
       "      <th></th>\n",
       "      <th></th>\n",
       "      <th></th>\n",
       "      <th></th>\n",
       "      <th></th>\n",
       "      <th></th>\n",
       "      <th></th>\n",
       "      <th></th>\n",
       "      <th></th>\n",
       "      <th></th>\n",
       "    </tr>\n",
       "  </thead>\n",
       "  <tbody>\n",
       "    <tr>\n",
       "      <th>1720-08-14 02:56:02</th>\n",
       "      <td>6F</td>\n",
       "      <td>LARCENY</td>\n",
       "      <td>Outside</td>\n",
       "      <td>NaN</td>\n",
       "      <td>F</td>\n",
       "      <td>39.0</td>\n",
       "      <td>BLACK_OR_AFRICAN_AMERICAN</td>\n",
       "      <td>UNKNOWN</td>\n",
       "      <td>EASTERN</td>\n",
       "      <td>NaN</td>\n",
       "      <td>OLDTOWN</td>\n",
       "      <td>39.300101</td>\n",
       "      <td>-76.605440</td>\n",
       "      <td>1</td>\n",
       "      <td>1720-08-14</td>\n",
       "    </tr>\n",
       "    <tr>\n",
       "      <th>1730-09-03 18:26:02</th>\n",
       "      <td>6D</td>\n",
       "      <td>LARCENY FROM AUTO</td>\n",
       "      <td>Inside</td>\n",
       "      <td>NaN</td>\n",
       "      <td>F</td>\n",
       "      <td>0.0</td>\n",
       "      <td>WHITE</td>\n",
       "      <td>UNKNOWN</td>\n",
       "      <td>SOUTHERN</td>\n",
       "      <td>NaN</td>\n",
       "      <td>FEDERAL HILL</td>\n",
       "      <td>39.279043</td>\n",
       "      <td>-76.614148</td>\n",
       "      <td>1</td>\n",
       "      <td>1730-09-03</td>\n",
       "    </tr>\n",
       "    <tr>\n",
       "      <th>1920-06-18 01:30:00</th>\n",
       "      <td>3AO</td>\n",
       "      <td>ROBBERY</td>\n",
       "      <td>Inside</td>\n",
       "      <td>PERSONAL_WEAPONS</td>\n",
       "      <td>M</td>\n",
       "      <td>20.0</td>\n",
       "      <td>WHITE</td>\n",
       "      <td>HISPANIC_OR_LATINO</td>\n",
       "      <td>SOUTHEAST</td>\n",
       "      <td>NaN</td>\n",
       "      <td>BALTIMORE HIGHLANDS</td>\n",
       "      <td>39.291959</td>\n",
       "      <td>-76.566719</td>\n",
       "      <td>1</td>\n",
       "      <td>1920-06-18</td>\n",
       "    </tr>\n",
       "  </tbody>\n",
       "</table>\n",
       "</div>"
      ],
      "text/plain": [
       "                    CrimeCode        Description Inside_Outside  \\\n",
       "CrimeDateTime                                                     \n",
       "1720-08-14 02:56:02        6F            LARCENY        Outside   \n",
       "1730-09-03 18:26:02        6D  LARCENY FROM AUTO         Inside   \n",
       "1920-06-18 01:30:00       3AO            ROBBERY         Inside   \n",
       "\n",
       "                               Weapon Gender   Age                       Race  \\\n",
       "CrimeDateTime                                                                   \n",
       "1720-08-14 02:56:02               NaN      F  39.0  BLACK_OR_AFRICAN_AMERICAN   \n",
       "1730-09-03 18:26:02               NaN      F   0.0                      WHITE   \n",
       "1920-06-18 01:30:00  PERSONAL_WEAPONS      M  20.0                      WHITE   \n",
       "\n",
       "                              Ethnicity Old_District New_District  \\\n",
       "CrimeDateTime                                                       \n",
       "1720-08-14 02:56:02             UNKNOWN      EASTERN          NaN   \n",
       "1730-09-03 18:26:02             UNKNOWN     SOUTHERN          NaN   \n",
       "1920-06-18 01:30:00  HISPANIC_OR_LATINO    SOUTHEAST          NaN   \n",
       "\n",
       "                            Neighborhood   Latitude  Longitude  \\\n",
       "CrimeDateTime                                                    \n",
       "1720-08-14 02:56:02              OLDTOWN  39.300101 -76.605440   \n",
       "1730-09-03 18:26:02         FEDERAL HILL  39.279043 -76.614148   \n",
       "1920-06-18 01:30:00  BALTIMORE HIGHLANDS  39.291959 -76.566719   \n",
       "\n",
       "                     Total_Incidents        Date  \n",
       "CrimeDateTime                                     \n",
       "1720-08-14 02:56:02                1  1720-08-14  \n",
       "1730-09-03 18:26:02                1  1730-09-03  \n",
       "1920-06-18 01:30:00                1  1920-06-18  "
      ]
     },
     "execution_count": 43,
     "metadata": {},
     "output_type": "execute_result"
    }
   ],
   "source": [
    "## Separate out date (without time) as its own column\n",
    "# Saving just the date\n",
    "df['Date'] = df.index.date\n",
    "df.head(3)\n",
    "## Another option would have been to use .strftime + pd.to_datetime\n",
    "## df['Date'] = pd.to_datetime(df.index.strftime('%Y-%m-%d'))"
   ]
  },
  {
   "cell_type": "markdown",
   "id": "1348a4f1-30c1-4fdf-840c-7d0248c2e3c0",
   "metadata": {
    "jp-MarkdownHeadingCollapsed": true
   },
   "source": [
    "#### Year"
   ]
  },
  {
   "cell_type": "code",
   "execution_count": 44,
   "id": "a8e57599-e1c2-41b4-ac6e-48c1e713d7b5",
   "metadata": {},
   "outputs": [],
   "source": [
    "# Create a column with just the year\n",
    "df['Year'] = df.index.year"
   ]
  },
  {
   "cell_type": "markdown",
   "id": "4b40e477-f10e-4278-af0b-65f3a2509fa1",
   "metadata": {},
   "source": [
    "- The most efficient way to explore the data is with a visual, so examine how mnay crimes were documented each year with Seaborn's countplot."
   ]
  },
  {
   "cell_type": "code",
   "execution_count": 45,
   "id": "7b68e19f-726e-491c-82c8-a8e4f9dd9bb4",
   "metadata": {},
   "outputs": [
    {
     "data": {
      "image/png": "[encoded data removed]",
      "text/plain": [
       "<Figure size 1200x400 with 1 Axes>"
      ]
     },
     "metadata": {},
     "output_type": "display_data"
    }
   ],
   "source": [
    "# Visualize years\n",
    "ax = sns.countplot(data=df, x='Year')\n",
    "fig = ax.get_figure()\n",
    "fig.autofmt_xdate()"
   ]
  },
  {
   "cell_type": "markdown",
   "id": "0ae1141b-4f08-46c5-ae28-b4686f49f5ed",
   "metadata": {},
   "source": [
    "- It seems there are documented crimes stretching back a long time, but the bulk of the data is recent. Example values to confirm."
   ]
  },
  {
   "cell_type": "code",
   "execution_count": 46,
   "id": "d1bb5d63-188d-47fe-b857-e7f05076779a",
   "metadata": {},
   "outputs": [
    {
     "data": {
      "text/plain": [
       "2023    46799\n",
       "2022    41402\n",
       "2021    37223\n",
       "2020    36303\n",
       "2019    46606\n",
       "2018    48594\n",
       "2017    52296\n",
       "2016    48674\n",
       "2015    48072\n",
       "2014    45231\n",
       "2013    48333\n",
       "2012    48142\n",
       "2011    48967\n",
       "2010      349\n",
       "2009      211\n",
       "2008      240\n",
       "2007       27\n",
       "2006       18\n",
       "2005        9\n",
       "2004       18\n",
       "Name: Year, dtype: int64"
      ]
     },
     "execution_count": 46,
     "metadata": {},
     "output_type": "execute_result"
    }
   ],
   "source": [
    "df['Year'].value_counts().sort_index(ascending = False).head(20)"
   ]
  },
  {
   "cell_type": "markdown",
   "id": "bc6c544b-aa94-496b-9167-a7f29fc0fe08",
   "metadata": {},
   "source": [
    "- Limit this dataset to just 2011-present.\n",
    "    - Because the lesson was drawn up in 2022, we will stop the data there to match with the lesson examples."
   ]
  },
  {
   "cell_type": "code",
   "execution_count": 47,
   "id": "126455ff-61d7-474d-a96d-71093f2c440f",
   "metadata": {},
   "outputs": [],
   "source": [
    "# Trim the years of the dataset\n",
    "df = df.loc['2011':'2022'].copy()"
   ]
  },
  {
   "cell_type": "code",
   "execution_count": 48,
   "id": "413977df-8089-4ee1-af4d-d061d8fd4c8a",
   "metadata": {},
   "outputs": [
    {
     "data": {
      "image/png": "[encoded data removed]",
      "text/plain": [
       "<Figure size 1200x400 with 1 Axes>"
      ]
     },
     "metadata": {},
     "output_type": "display_data"
    }
   ],
   "source": [
    "# Create another visual with only the more recent years\n",
    "sns.countplot(data=df, x='Year', palette='dark');"
   ]
  },
  {
   "cell_type": "markdown",
   "id": "89ad0d1d-17f5-4153-872e-8c9a3061c975",
   "metadata": {},
   "source": [
    "- This gives a much better representation of crimes by year. Save the year counts data for later use."
   ]
  },
  {
   "cell_type": "code",
   "execution_count": 49,
   "id": "65919cbd-1047-4043-aec5-c489e61733b1",
   "metadata": {},
   "outputs": [
    {
     "data": {
      "image/png": "[encoded data removed]",
      "text/plain": [
       "<Figure size 1200x400 with 1 Axes>"
      ]
     },
     "metadata": {},
     "output_type": "display_data"
    }
   ],
   "source": [
    "## Save year counts data.\n",
    "year_counts = df['Year'].value_counts().sort_index()\n",
    "year_counts.plot(style='o-', grid=True, ylabel='# of Crimes', xlabel='Year');"
   ]
  },
  {
   "cell_type": "markdown",
   "id": "66209a4e-c5ae-468b-8ab1-1e4b21a4d534",
   "metadata": {
    "jp-MarkdownHeadingCollapsed": true
   },
   "source": [
    "#### Month"
   ]
  },
  {
   "cell_type": "markdown",
   "id": "93451145-125d-4488-8ede-7b18521fef9d",
   "metadata": {},
   "source": [
    "- Next determine which months have a higher or lower crime rate. As with year, it's possible to pull just the month from Datetime and create a new column.\n",
    "- Additionally, create a column with the name of the month.\n",
    "- Having both will allow sorting by number to keep months in order, and to display the name in visuals."
   ]
  },
  {
   "cell_type": "code",
   "execution_count": 50,
   "id": "16098366-6bdb-4008-9a90-f04b6aa96ed2",
   "metadata": {},
   "outputs": [
    {
     "data": {
      "text/html": [
       "<div>\n",
       "<style scoped>\n",
       "    .dataframe tbody tr th:only-of-type {\n",
       "        vertical-align: middle;\n",
       "    }\n",
       "\n",
       "    .dataframe tbody tr th {\n",
       "        vertical-align: top;\n",
       "    }\n",
       "\n",
       "    .dataframe thead th {\n",
       "        text-align: right;\n",
       "    }\n",
       "</style>\n",
       "<table border=\"1\" class=\"dataframe\">\n",
       "  <thead>\n",
       "    <tr style=\"text-align: right;\">\n",
       "      <th></th>\n",
       "      <th>CrimeCode</th>\n",
       "      <th>Description</th>\n",
       "      <th>Inside_Outside</th>\n",
       "      <th>Weapon</th>\n",
       "      <th>Gender</th>\n",
       "      <th>Age</th>\n",
       "      <th>Race</th>\n",
       "      <th>Ethnicity</th>\n",
       "      <th>Old_District</th>\n",
       "      <th>New_District</th>\n",
       "      <th>Neighborhood</th>\n",
       "      <th>Latitude</th>\n",
       "      <th>Longitude</th>\n",
       "      <th>Total_Incidents</th>\n",
       "      <th>Date</th>\n",
       "      <th>Year</th>\n",
       "      <th>Month</th>\n",
       "      <th>MonthName</th>\n",
       "    </tr>\n",
       "    <tr>\n",
       "      <th>CrimeDateTime</th>\n",
       "      <th></th>\n",
       "      <th></th>\n",
       "      <th></th>\n",
       "      <th></th>\n",
       "      <th></th>\n",
       "      <th></th>\n",
       "      <th></th>\n",
       "      <th></th>\n",
       "      <th></th>\n",
       "      <th></th>\n",
       "      <th></th>\n",
       "      <th></th>\n",
       "      <th></th>\n",
       "      <th></th>\n",
       "      <th></th>\n",
       "      <th></th>\n",
       "      <th></th>\n",
       "      <th></th>\n",
       "    </tr>\n",
       "  </thead>\n",
       "  <tbody>\n",
       "    <tr>\n",
       "      <th>2011-01-01</th>\n",
       "      <td>2A</td>\n",
       "      <td>RAPE</td>\n",
       "      <td>NaN</td>\n",
       "      <td>OTHER</td>\n",
       "      <td>M</td>\n",
       "      <td>16.0</td>\n",
       "      <td>BLACK_OR_AFRICAN_AMERICAN</td>\n",
       "      <td>NaN</td>\n",
       "      <td>WESTERN</td>\n",
       "      <td>NaN</td>\n",
       "      <td>HARLEM PARK</td>\n",
       "      <td>39.298964</td>\n",
       "      <td>-76.639291</td>\n",
       "      <td>1</td>\n",
       "      <td>2011-01-01</td>\n",
       "      <td>2011</td>\n",
       "      <td>1</td>\n",
       "      <td>January</td>\n",
       "    </tr>\n",
       "    <tr>\n",
       "      <th>2011-01-01</th>\n",
       "      <td>6E</td>\n",
       "      <td>LARCENY</td>\n",
       "      <td>O</td>\n",
       "      <td>NaN</td>\n",
       "      <td>M</td>\n",
       "      <td>44.0</td>\n",
       "      <td>BLACK_OR_AFRICAN_AMERICAN</td>\n",
       "      <td>NaN</td>\n",
       "      <td>WESTERN</td>\n",
       "      <td>NaN</td>\n",
       "      <td>MOSHER</td>\n",
       "      <td>39.295633</td>\n",
       "      <td>-76.661518</td>\n",
       "      <td>1</td>\n",
       "      <td>2011-01-01</td>\n",
       "      <td>2011</td>\n",
       "      <td>1</td>\n",
       "      <td>January</td>\n",
       "    </tr>\n",
       "    <tr>\n",
       "      <th>2011-01-01</th>\n",
       "      <td>6G</td>\n",
       "      <td>LARCENY</td>\n",
       "      <td>I</td>\n",
       "      <td>NaN</td>\n",
       "      <td>F</td>\n",
       "      <td>26.0</td>\n",
       "      <td>WHITE</td>\n",
       "      <td>NaN</td>\n",
       "      <td>SOUTHERN</td>\n",
       "      <td>NaN</td>\n",
       "      <td>FEDERAL HILL</td>\n",
       "      <td>39.276987</td>\n",
       "      <td>-76.613380</td>\n",
       "      <td>1</td>\n",
       "      <td>2011-01-01</td>\n",
       "      <td>2011</td>\n",
       "      <td>1</td>\n",
       "      <td>January</td>\n",
       "    </tr>\n",
       "  </tbody>\n",
       "</table>\n",
       "</div>"
      ],
      "text/plain": [
       "              CrimeCode Description Inside_Outside Weapon Gender   Age  \\\n",
       "CrimeDateTime                                                            \n",
       "2011-01-01           2A        RAPE            NaN  OTHER      M  16.0   \n",
       "2011-01-01           6E     LARCENY              O    NaN      M  44.0   \n",
       "2011-01-01           6G     LARCENY              I    NaN      F  26.0   \n",
       "\n",
       "                                    Race Ethnicity Old_District New_District  \\\n",
       "CrimeDateTime                                                                  \n",
       "2011-01-01     BLACK_OR_AFRICAN_AMERICAN       NaN      WESTERN          NaN   \n",
       "2011-01-01     BLACK_OR_AFRICAN_AMERICAN       NaN      WESTERN          NaN   \n",
       "2011-01-01                         WHITE       NaN     SOUTHERN          NaN   \n",
       "\n",
       "               Neighborhood   Latitude  Longitude  Total_Incidents  \\\n",
       "CrimeDateTime                                                        \n",
       "2011-01-01      HARLEM PARK  39.298964 -76.639291                1   \n",
       "2011-01-01           MOSHER  39.295633 -76.661518                1   \n",
       "2011-01-01     FEDERAL HILL  39.276987 -76.613380                1   \n",
       "\n",
       "                     Date  Year  Month MonthName  \n",
       "CrimeDateTime                                     \n",
       "2011-01-01     2011-01-01  2011      1   January  \n",
       "2011-01-01     2011-01-01  2011      1   January  \n",
       "2011-01-01     2011-01-01  2011      1   January  "
      ]
     },
     "execution_count": 50,
     "metadata": {},
     "output_type": "execute_result"
    }
   ],
   "source": [
    "# Extracting the month\n",
    "df['Month'] = df.index.month\n",
    "df['MonthName'] = df.index.month_name()\n",
    "df.head(3)"
   ]
  },
  {
   "cell_type": "markdown",
   "id": "c13391d8-f8f2-475d-8816-23bf2db8c2d1",
   "metadata": {},
   "source": [
    "- Next create a dictionary to match the number of the month to the month name. This will allow keeping months in order by number."
   ]
  },
  {
   "cell_type": "code",
   "execution_count": 51,
   "id": "0b5f501c-19d2-45b5-bbc1-96071784a1da",
   "metadata": {},
   "outputs": [
    {
     "data": {
      "text/plain": [
       "{1: 'January',\n",
       " 2: 'February',\n",
       " 3: 'March',\n",
       " 4: 'April',\n",
       " 5: 'May',\n",
       " 6: 'June',\n",
       " 7: 'July',\n",
       " 8: 'August',\n",
       " 9: 'September',\n",
       " 10: 'October',\n",
       " 11: 'November',\n",
       " 12: 'December'}"
      ]
     },
     "execution_count": 51,
     "metadata": {},
     "output_type": "execute_result"
    }
   ],
   "source": [
    "# Saving lookup for number vs name\n",
    "unique_months = df.drop_duplicates(subset=['Month']).sort_values('Month')\n",
    "month_lookup = dict(zip(unique_months['Month'], unique_months['MonthName']))\n",
    "month_lookup"
   ]
  },
  {
   "cell_type": "code",
   "execution_count": 52,
   "id": "0bac778a-53e9-4e27-85ba-b5475ce9544e",
   "metadata": {},
   "outputs": [
    {
     "data": {
      "image/png": "[encoded data removed]",
      "text/plain": [
       "<Figure size 1200x400 with 1 Axes>"
      ]
     },
     "metadata": {},
     "output_type": "display_data"
    }
   ],
   "source": [
    "# Make a countplot by month\n",
    "ax = sns.countplot(data=df, x='MonthName', palette='dark', order=month_lookup.values());\n",
    "# Rotate xtick labels and align the text to the bar\n",
    "ax.set_xticklabels(ax.get_xticklabels(), rotation=45, ha='right');"
   ]
  },
  {
   "cell_type": "code",
   "execution_count": 53,
   "id": "69e76293-e991-4c9c-9761-340ce94dd2c8",
   "metadata": {},
   "outputs": [
    {
     "data": {
      "image/png": "[encoded data removed]",
      "text/plain": [
       "<Figure size 1200x400 with 1 Axes>"
      ]
     },
     "metadata": {},
     "output_type": "display_data"
    }
   ],
   "source": [
    "# Next, save crime counts by month\n",
    "month_counts = df['MonthName'].value_counts()[month_lookup.values()]\n",
    "ax = month_counts.plot(style='o-', grid=True,\n",
    "                       ylabel='# of Crimes',\n",
    "                       xlabel='Month');"
   ]
  },
  {
   "cell_type": "markdown",
   "id": "b7b8e5d4-3822-46bd-98df-69e1208c3465",
   "metadata": {
    "jp-MarkdownHeadingCollapsed": true
   },
   "source": [
    "#### Day of Week"
   ]
  },
  {
   "cell_type": "markdown",
   "id": "d70ebbb2-f9b9-4b9e-947b-1448bb7e2004",
   "metadata": {},
   "source": [
    "- Crimes can be broken down by day of the week in a similar way to months.\n",
    "- Again, create a column for both the name of the day, and the number"
   ]
  },
  {
   "cell_type": "code",
   "execution_count": 54,
   "id": "69bb7a0e-1e58-4f64-b071-b01258be2250",
   "metadata": {},
   "outputs": [
    {
     "data": {
      "text/html": [
       "<div>\n",
       "<style scoped>\n",
       "    .dataframe tbody tr th:only-of-type {\n",
       "        vertical-align: middle;\n",
       "    }\n",
       "\n",
       "    .dataframe tbody tr th {\n",
       "        vertical-align: top;\n",
       "    }\n",
       "\n",
       "    .dataframe thead th {\n",
       "        text-align: right;\n",
       "    }\n",
       "</style>\n",
       "<table border=\"1\" class=\"dataframe\">\n",
       "  <thead>\n",
       "    <tr style=\"text-align: right;\">\n",
       "      <th></th>\n",
       "      <th>CrimeCode</th>\n",
       "      <th>Description</th>\n",
       "      <th>Inside_Outside</th>\n",
       "      <th>Weapon</th>\n",
       "      <th>Gender</th>\n",
       "      <th>Age</th>\n",
       "      <th>Race</th>\n",
       "      <th>Ethnicity</th>\n",
       "      <th>Old_District</th>\n",
       "      <th>New_District</th>\n",
       "      <th>Neighborhood</th>\n",
       "      <th>Latitude</th>\n",
       "      <th>Longitude</th>\n",
       "      <th>Total_Incidents</th>\n",
       "      <th>Date</th>\n",
       "      <th>Year</th>\n",
       "      <th>Month</th>\n",
       "      <th>MonthName</th>\n",
       "      <th>DayOfWeek</th>\n",
       "      <th>DayNum</th>\n",
       "    </tr>\n",
       "    <tr>\n",
       "      <th>CrimeDateTime</th>\n",
       "      <th></th>\n",
       "      <th></th>\n",
       "      <th></th>\n",
       "      <th></th>\n",
       "      <th></th>\n",
       "      <th></th>\n",
       "      <th></th>\n",
       "      <th></th>\n",
       "      <th></th>\n",
       "      <th></th>\n",
       "      <th></th>\n",
       "      <th></th>\n",
       "      <th></th>\n",
       "      <th></th>\n",
       "      <th></th>\n",
       "      <th></th>\n",
       "      <th></th>\n",
       "      <th></th>\n",
       "      <th></th>\n",
       "      <th></th>\n",
       "    </tr>\n",
       "  </thead>\n",
       "  <tbody>\n",
       "    <tr>\n",
       "      <th>2011-01-01</th>\n",
       "      <td>2A</td>\n",
       "      <td>RAPE</td>\n",
       "      <td>NaN</td>\n",
       "      <td>OTHER</td>\n",
       "      <td>M</td>\n",
       "      <td>16.0</td>\n",
       "      <td>BLACK_OR_AFRICAN_AMERICAN</td>\n",
       "      <td>NaN</td>\n",
       "      <td>WESTERN</td>\n",
       "      <td>NaN</td>\n",
       "      <td>HARLEM PARK</td>\n",
       "      <td>39.298964</td>\n",
       "      <td>-76.639291</td>\n",
       "      <td>1</td>\n",
       "      <td>2011-01-01</td>\n",
       "      <td>2011</td>\n",
       "      <td>1</td>\n",
       "      <td>January</td>\n",
       "      <td>Saturday</td>\n",
       "      <td>5</td>\n",
       "    </tr>\n",
       "    <tr>\n",
       "      <th>2011-01-01</th>\n",
       "      <td>6E</td>\n",
       "      <td>LARCENY</td>\n",
       "      <td>O</td>\n",
       "      <td>NaN</td>\n",
       "      <td>M</td>\n",
       "      <td>44.0</td>\n",
       "      <td>BLACK_OR_AFRICAN_AMERICAN</td>\n",
       "      <td>NaN</td>\n",
       "      <td>WESTERN</td>\n",
       "      <td>NaN</td>\n",
       "      <td>MOSHER</td>\n",
       "      <td>39.295633</td>\n",
       "      <td>-76.661518</td>\n",
       "      <td>1</td>\n",
       "      <td>2011-01-01</td>\n",
       "      <td>2011</td>\n",
       "      <td>1</td>\n",
       "      <td>January</td>\n",
       "      <td>Saturday</td>\n",
       "      <td>5</td>\n",
       "    </tr>\n",
       "    <tr>\n",
       "      <th>2011-01-01</th>\n",
       "      <td>6G</td>\n",
       "      <td>LARCENY</td>\n",
       "      <td>I</td>\n",
       "      <td>NaN</td>\n",
       "      <td>F</td>\n",
       "      <td>26.0</td>\n",
       "      <td>WHITE</td>\n",
       "      <td>NaN</td>\n",
       "      <td>SOUTHERN</td>\n",
       "      <td>NaN</td>\n",
       "      <td>FEDERAL HILL</td>\n",
       "      <td>39.276987</td>\n",
       "      <td>-76.613380</td>\n",
       "      <td>1</td>\n",
       "      <td>2011-01-01</td>\n",
       "      <td>2011</td>\n",
       "      <td>1</td>\n",
       "      <td>January</td>\n",
       "      <td>Saturday</td>\n",
       "      <td>5</td>\n",
       "    </tr>\n",
       "  </tbody>\n",
       "</table>\n",
       "</div>"
      ],
      "text/plain": [
       "              CrimeCode Description Inside_Outside Weapon Gender   Age  \\\n",
       "CrimeDateTime                                                            \n",
       "2011-01-01           2A        RAPE            NaN  OTHER      M  16.0   \n",
       "2011-01-01           6E     LARCENY              O    NaN      M  44.0   \n",
       "2011-01-01           6G     LARCENY              I    NaN      F  26.0   \n",
       "\n",
       "                                    Race Ethnicity Old_District New_District  \\\n",
       "CrimeDateTime                                                                  \n",
       "2011-01-01     BLACK_OR_AFRICAN_AMERICAN       NaN      WESTERN          NaN   \n",
       "2011-01-01     BLACK_OR_AFRICAN_AMERICAN       NaN      WESTERN          NaN   \n",
       "2011-01-01                         WHITE       NaN     SOUTHERN          NaN   \n",
       "\n",
       "               Neighborhood   Latitude  Longitude  Total_Incidents  \\\n",
       "CrimeDateTime                                                        \n",
       "2011-01-01      HARLEM PARK  39.298964 -76.639291                1   \n",
       "2011-01-01           MOSHER  39.295633 -76.661518                1   \n",
       "2011-01-01     FEDERAL HILL  39.276987 -76.613380                1   \n",
       "\n",
       "                     Date  Year  Month MonthName DayOfWeek  DayNum  \n",
       "CrimeDateTime                                                       \n",
       "2011-01-01     2011-01-01  2011      1   January  Saturday       5  \n",
       "2011-01-01     2011-01-01  2011      1   January  Saturday       5  \n",
       "2011-01-01     2011-01-01  2011      1   January  Saturday       5  "
      ]
     },
     "execution_count": 54,
     "metadata": {},
     "output_type": "execute_result"
    }
   ],
   "source": [
    "# Add day of the week as both a number and name\n",
    "df['DayOfWeek'] = df.index.day_name()\n",
    "df['DayNum'] = df.index.day_of_week\n",
    "df.head(3)"
   ]
  },
  {
   "cell_type": "code",
   "execution_count": 55,
   "id": "739cdea5-928a-4bf0-a5bf-4f72ff9106a2",
   "metadata": {},
   "outputs": [
    {
     "data": {
      "text/plain": [
       "{0: 'Monday',\n",
       " 1: 'Tuesday',\n",
       " 2: 'Wednesday',\n",
       " 3: 'Thursday',\n",
       " 4: 'Friday',\n",
       " 5: 'Saturday',\n",
       " 6: 'Sunday'}"
      ]
     },
     "execution_count": 55,
     "metadata": {},
     "output_type": "execute_result"
    }
   ],
   "source": [
    "# As above, create a dictionary to match the name and number\n",
    "unique_days = df.drop_duplicates(subset=['DayNum']).sort_values('DayNum')\n",
    "day_lookup = dict(zip(unique_days['DayNum'], unique_days['DayOfWeek']))\n",
    "day_lookup"
   ]
  },
  {
   "cell_type": "markdown",
   "id": "805abce5-28ac-44ec-b3ed-16b98f7ba078",
   "metadata": {},
   "source": [
    "- Note that datetime's day_of_week starts on Monday with 0, and ends on Sunday with 6."
   ]
  },
  {
   "cell_type": "code",
   "execution_count": 56,
   "id": "6a476ec7-c76c-4dc9-b0e7-a43b17bcf5dd",
   "metadata": {},
   "outputs": [
    {
     "data": {
      "image/png": "[encoded data removed]",
      "text/plain": [
       "<Figure size 1200x400 with 1 Axes>"
      ]
     },
     "metadata": {},
     "output_type": "display_data"
    }
   ],
   "source": [
    "# Plot DayNum, but use names from day_lookup for ticks\n",
    "ax = sns.countplot(data=df, x='DayNum', palette='dark')\n",
    "ax.set_xticklabels([v for k,v in day_lookup.items()]);"
   ]
  },
  {
   "cell_type": "code",
   "execution_count": 57,
   "id": "fe384c7c-be07-45d1-92f6-9ff8f437479c",
   "metadata": {},
   "outputs": [
    {
     "data": {
      "image/png": "[encoded data removed]",
      "text/plain": [
       "<Figure size 1200x400 with 1 Axes>"
      ]
     },
     "metadata": {},
     "output_type": "display_data"
    }
   ],
   "source": [
    "# Save day counts\n",
    "day_counts = df['DayNum'].value_counts().sort_index()\n",
    "# With the data in order, rename using day_lookup\n",
    "day_counts = day_counts.rename(day_lookup)\n",
    "ax = day_counts.plot(style='o-', grid=True, ylabel='# of Crimes', xlabel='Day of Week')"
   ]
  },
  {
   "cell_type": "markdown",
   "id": "6f869336-f691-40f2-ae0c-0a8eb49480c2",
   "metadata": {},
   "source": [
    "- It appears crime is the highest on Fridays and lowest on Sundays."
   ]
  },
  {
   "cell_type": "markdown",
   "id": "f91cf0f4-ec21-4fdb-a5f7-404582345a16",
   "metadata": {
    "jp-MarkdownHeadingCollapsed": true
   },
   "source": [
    "#### Weekend"
   ]
  },
  {
   "cell_type": "code",
   "execution_count": 58,
   "id": "fdce9583-306a-4c5d-b570-4b887a009892",
   "metadata": {},
   "outputs": [
    {
     "data": {
      "image/png": "[encoded data removed]",
      "text/plain": [
       "<Figure size 800x400 with 1 Axes>"
      ]
     },
     "metadata": {},
     "output_type": "display_data"
    }
   ],
   "source": [
    "# Examine how crime on the weekends compares to weekdays\n",
    "df['Weekend'] = df['DayOfWeek'].isin(['Saturday', 'Sunday'])\n",
    "plt.figure(figsize=(8,4))\n",
    "sns.countplot(data=df, x='Weekend', palette='dark');"
   ]
  },
  {
   "cell_type": "markdown",
   "id": "e7e3169a-63af-4d80-a14e-5473abc0d619",
   "metadata": {},
   "source": [
    "- The initial examination could be misleading, because there are five weekdays and only 2 weekend days. A better approach is to examine normalized data by comparing crimes per day."
   ]
  },
  {
   "cell_type": "code",
   "execution_count": 59,
   "id": "493d5fa4-eec3-4349-9b12-d1aef6c2ae0b",
   "metadata": {},
   "outputs": [
    {
     "data": {
      "text/plain": [
       "False    79407.8\n",
       "True     76402.0\n",
       "Name: Weekend, dtype: float64"
      ]
     },
     "execution_count": 59,
     "metadata": {},
     "output_type": "execute_result"
    }
   ],
   "source": [
    "# Calculating value counts and then dividing by appropriate number\n",
    "weekend_counts = df['Weekend'].value_counts()\n",
    "weekend_counts.loc[False] /= 5\n",
    "weekend_counts.loc[True] /= 2\n",
    "weekend_counts"
   ]
  },
  {
   "cell_type": "code",
   "execution_count": 60,
   "id": "b2d53695-88dc-48b5-b47f-ae4adcf9d53e",
   "metadata": {},
   "outputs": [
    {
     "data": {
      "image/png": "[encoded data removed]",
      "text/plain": [
       "<Figure size 800x400 with 1 Axes>"
      ]
     },
     "metadata": {},
     "output_type": "display_data"
    }
   ],
   "source": [
    "ax = weekend_counts.plot(kind='bar', figsize=(8,4))\n",
    "ax.set(ylabel='Crimes Per Day', xlabel='Is_Weekend');"
   ]
  },
  {
   "cell_type": "markdown",
   "id": "ce5578cc-b191-42d2-8394-cc0641fdcda0",
   "metadata": {},
   "source": [
    "- After normalization, weekdays and weekends appear very similar."
   ]
  },
  {
   "cell_type": "markdown",
   "id": "c37169ee-092c-4dfc-b296-0469f37c6916",
   "metadata": {
    "jp-MarkdownHeadingCollapsed": true
   },
   "source": [
    "#### Hour of the Day"
   ]
  },
  {
   "cell_type": "code",
   "execution_count": 61,
   "id": "830ee267-851c-4a19-8296-c7b1e4e57ff3",
   "metadata": {},
   "outputs": [
    {
     "data": {
      "image/png": "[encoded data removed]",
      "text/plain": [
       "<Figure size 1200x400 with 1 Axes>"
      ]
     },
     "metadata": {},
     "output_type": "display_data"
    }
   ],
   "source": [
    "# Examine crimes by hour of the day\n",
    "df['HourOfDay'] = df.index.hour\n",
    "sns.countplot(data=df, x='HourOfDay', palette='dark');"
   ]
  },
  {
   "cell_type": "code",
   "execution_count": 62,
   "id": "b6d48be9-e184-41a3-9d19-c49cc3c8e7a2",
   "metadata": {},
   "outputs": [
    {
     "data": {
      "image/png": "[encoded data removed]",
      "text/plain": [
       "<Figure size 1200x400 with 1 Axes>"
      ]
     },
     "metadata": {},
     "output_type": "display_data"
    }
   ],
   "source": [
    "# Save the hour counts\n",
    "hour_counts = df['HourOfDay'].value_counts().sort_index()\n",
    "ax = hour_counts.plot(style='o-', grid=True,\n",
    "                      ylabel='# of Crimes', \n",
    "                      xlabel='Hour of Day',\n",
    "                      xticks=hour_counts.index);"
   ]
  },
  {
   "cell_type": "markdown",
   "id": "7c28e767-77ce-4361-be58-4922ceaa328c",
   "metadata": {},
   "source": [
    "### Summary\n",
    "- This lesson explored 'binning' values in time series based on a period of time. This allows examination of aggregated data based on different time units such as year, month, etc., down to detailed time data such as hour of the day.\n",
    "- Depending on the data, the time period can be customized as desired."
   ]
  },
  {
   "cell_type": "markdown",
   "id": "6fb1505a-e182-4b61-a345-671f179491e6",
   "metadata": {
    "jp-MarkdownHeadingCollapsed": true
   },
   "source": [
    "## Seasonality"
   ]
  },
  {
   "cell_type": "markdown",
   "id": "5a2f563a-2e8f-4f66-a31f-3b5411b3da8f",
   "metadata": {},
   "source": [
    "- Goals of this lesson are to:\n",
    "    - Identify seasonality in time series\n",
    "    - Apply Seasonal Decomposition to separate time series components\n",
    "    - Use visualizations to quantify the magnitude and duration of a season "
   ]
  },
  {
   "cell_type": "markdown",
   "id": "45cbf1f7-852b-4d18-be16-e2b8c8b28784",
   "metadata": {
    "jp-MarkdownHeadingCollapsed": true
   },
   "source": [
    "### Fixing the dataset"
   ]
  },
  {
   "cell_type": "markdown",
   "id": "ac0b58ab-0aa9-46b0-a6f4-6eca1f14b383",
   "metadata": {},
   "source": [
    "**NOTE: The lesson starts with a manipulated dataframe from material that is not online. A workaround is included below.**"
   ]
  },
  {
   "cell_type": "code",
   "execution_count": 63,
   "id": "e913c786-50ea-4bea-907b-94bca678e218",
   "metadata": {},
   "outputs": [
    {
     "ename": "NameError",
     "evalue": "name 'crimes' is not defined",
     "output_type": "error",
     "traceback": [
      "\u001b[1;31m---------------------------------------------------------------------------\u001b[0m",
      "\u001b[1;31mNameError\u001b[0m                                 Traceback (most recent call last)",
      "Cell \u001b[1;32mIn[63], line 3\u001b[0m\n\u001b[0;32m      1\u001b[0m \u001b[38;5;66;03m# Select a few crimes from the DataFrame to visualize\u001b[39;00m\n\u001b[0;32m      2\u001b[0m crimes_list \u001b[38;5;241m=\u001b[39m [\u001b[38;5;124m'\u001b[39m\u001b[38;5;124mLARCENY\u001b[39m\u001b[38;5;124m'\u001b[39m, \u001b[38;5;124m'\u001b[39m\u001b[38;5;124mLARCENY FROM AUTO\u001b[39m\u001b[38;5;124m'\u001b[39m, \u001b[38;5;124m'\u001b[39m\u001b[38;5;124mAUTO THEFT\u001b[39m\u001b[38;5;124m'\u001b[39m, \u001b[38;5;124m'\u001b[39m\u001b[38;5;124mSHOOTING\u001b[39m\u001b[38;5;124m'\u001b[39m, \u001b[38;5;124m'\u001b[39m\u001b[38;5;124mROBBERY - CARJACKING\u001b[39m\u001b[38;5;124m'\u001b[39m]\n\u001b[1;32m----> 3\u001b[0m crimes_mask \u001b[38;5;241m=\u001b[39m df[\u001b[38;5;124m'\u001b[39m\u001b[38;5;124mDescription\u001b[39m\u001b[38;5;124m'\u001b[39m]\u001b[38;5;241m.\u001b[39misin(\u001b[43mcrimes\u001b[49m)\n\u001b[0;32m      4\u001b[0m crimes_filtered \u001b[38;5;241m=\u001b[39m df[crimes_mask]\n\u001b[0;32m      5\u001b[0m crimes_filtered\u001b[38;5;241m.\u001b[39minfo()\n",
      "\u001b[1;31mNameError\u001b[0m: name 'crimes' is not defined"
     ]
    }
   ],
   "source": [
    "# Select a few crimes from the DataFrame to visualize\n",
    "crimes_list = ['LARCENY', 'LARCENY FROM AUTO', 'AUTO THEFT', 'SHOOTING', 'ROBBERY - CARJACKING']\n",
    "crimes_mask = df['Description'].isin(crimes)\n",
    "crimes_filtered = df[crimes_mask]\n",
    "crimes_filtered.info()\n",
    "crimes_filtered"
   ]
  },
  {
   "cell_type": "code",
   "execution_count": null,
   "id": "2c13794e-24f9-42a6-a9d5-7204cdbeb41a",
   "metadata": {},
   "outputs": [],
   "source": [
    "crimes_ts = crimes_filtered.groupby('Description').resample('D').sum(numeric_only=True)"
   ]
  },
  {
   "cell_type": "code",
   "execution_count": null,
   "id": "efec03b5-8cd5-49d2-a248-40cd2c80765f",
   "metadata": {},
   "outputs": [],
   "source": [
    "crimes_ts = crimes_ts.drop(crimes_ts.columns.difference(['CrimeDateTime', 'Total_Incidents']), 1)"
   ]
  },
  {
   "cell_type": "code",
   "execution_count": null,
   "id": "4ac47d41-bc84-4e19-abfc-2e34e3cb867e",
   "metadata": {},
   "outputs": [],
   "source": [
    "crimes_ts = crimes_ts.unstack(level=0)\n",
    "crimes_ts"
   ]
  },
  {
   "cell_type": "code",
   "execution_count": null,
   "id": "9af3714f-01a2-42fe-aa9c-a39b2dd9d0f4",
   "metadata": {},
   "outputs": [],
   "source": [
    "crimes_ts = crimes_ts.droplevel(0, axis=1)"
   ]
  },
  {
   "cell_type": "markdown",
   "id": "381d2c4e-dbb9-4b15-8944-7929210a1990",
   "metadata": {},
   "source": [
    "**Normal lesson material resumes here**"
   ]
  },
  {
   "cell_type": "code",
   "execution_count": null,
   "id": "67567fb2-98ff-4eac-8cc5-c4150f742559",
   "metadata": {},
   "outputs": [],
   "source": [
    "crimes_ts.isna().sum()"
   ]
  },
  {
   "cell_type": "code",
   "execution_count": null,
   "id": "2a1afbb9-58fe-4501-9571-26465ff36b0e",
   "metadata": {},
   "outputs": [],
   "source": [
    "# Fill null values with 0\n",
    "crimes_ts = crimes_ts.fillna(0)"
   ]
  },
  {
   "cell_type": "code",
   "execution_count": null,
   "id": "9c18b07a-b4c9-40c1-bbd2-ca6afee10425",
   "metadata": {},
   "outputs": [],
   "source": [
    "crimes_ts.plot(grid=True, alpha=0.7);"
   ]
  },
  {
   "cell_type": "markdown",
   "id": "69281c66-4a0c-4bf3-bcac-d21f5244abe0",
   "metadata": {
    "jp-MarkdownHeadingCollapsed": true
   },
   "source": [
    "### Identifying Seasonality"
   ]
  },
  {
   "cell_type": "markdown",
   "id": "1b314121-a6e9-474e-a655-63357ac96cb0",
   "metadata": {
    "jp-MarkdownHeadingCollapsed": true
   },
   "source": [
    "#### Initial Examination"
   ]
  },
  {
   "cell_type": "markdown",
   "id": "a07eb261-db41-40fa-a708-877af80f9272",
   "metadata": {},
   "source": [
    "- The goal is to identify any patterns that may occur within the time series.\n",
    "- Whenever a periodic change in values of a time series repeats, it is considered to have 'seasonality'\n",
    "    - Just as temperature and weather will change with seasons, many time series also exhibit natural fluctuations, but the time period of a season can vary wildly.\n",
    "- For this example, take a closer look at ~5 years worth of data."
   ]
  },
  {
   "cell_type": "code",
   "execution_count": null,
   "id": "b999c660-a223-4e14-b2b1-a4842d9bcc35",
   "metadata": {},
   "outputs": [],
   "source": [
    "plot_df = crimes_ts.loc['2017':'2021']\n",
    "plot_df.plot(grid=True);"
   ]
  },
  {
   "cell_type": "code",
   "execution_count": null,
   "id": "0fb940a4-b29f-4189-98b6-e4b25adedab0",
   "metadata": {},
   "outputs": [],
   "source": [
    "# Separate each crime into its own plot using subplots = True\n",
    "plot_df.plot(subplots=True, figsize=(10,12), grid=True);"
   ]
  },
  {
   "cell_type": "markdown",
   "id": "1a1a7369-74aa-4c9c-a217-4046f9f3063d",
   "metadata": {
    "jp-MarkdownHeadingCollapsed": true
   },
   "source": [
    "#### Resampling to a Larger Frequency"
   ]
  },
  {
   "cell_type": "markdown",
   "id": "2984ab6f-f08f-4acd-bd50-3aa9f271f28d",
   "metadata": {},
   "source": [
    "- Since the crime data was in daily freq, try resampling it as weekly data.\n",
    "- Sum the values from each day to get the weekly value."
   ]
  },
  {
   "cell_type": "code",
   "execution_count": null,
   "id": "567984ea-dc48-4c41-baa5-1286a4cb062f",
   "metadata": {},
   "outputs": [],
   "source": [
    "plot_df_W = crimes_ts.loc['2017':'2021'].resample(\"W\").sum(numeric_only=True)\n",
    "plot_df_W.plot(grid=True, subplots=True, figsize=(10,15));"
   ]
  },
  {
   "cell_type": "markdown",
   "id": "c7e3e161-4177-473d-931c-93d62bb18ae3",
   "metadata": {},
   "source": [
    "- It is still hard to identify patterns when there are large fluctuations between time steps.\n",
    "- The effect of random changes between each step can make it more difficult to identify things like seasonality."
   ]
  },
  {
   "cell_type": "markdown",
   "id": "3e58fb4d-ba2f-4ef6-9918-e2acccd6c89d",
   "metadata": {
    "jp-MarkdownHeadingCollapsed": true
   },
   "source": [
    "#### Use Rolling Mean to Smooth Time Series"
   ]
  },
  {
   "cell_type": "code",
   "execution_count": null,
   "id": "82cb9829-e199-4e44-88cc-76dcbbdfed19",
   "metadata": {},
   "outputs": [],
   "source": [
    "# Leverage use of the rolling mean with a window of 4 weeks to further smooth the data\n",
    "plot_df_W.rolling(4).mean().dropna().plot(subplots=True, figsize=(10,12));"
   ]
  },
  {
   "cell_type": "markdown",
   "id": "69b05e82-8bc9-4ac1-82f7-8f3474bd2abe",
   "metadata": {},
   "source": [
    "- Now that a rolling 4-week average is being utilized, some cyclical patterns in the crimes can start to be observed.\n",
    "    - It appears shootings, auto theft, and possibly larceny have seasonality to them.\n",
    "- How can seasonal fluctuations in crime data be isolated to better understand the effect of a season? And can it be done without having to smooth the data?"
   ]
  },
  {
   "cell_type": "markdown",
   "id": "9dfd5a1a-0d72-4790-ad97-ddef7d2dafdc",
   "metadata": {
    "jp-MarkdownHeadingCollapsed": true
   },
   "source": [
    "### Decomposition"
   ]
  },
  {
   "cell_type": "markdown",
   "id": "957393bc-773c-4503-8098-a017b2ff6446",
   "metadata": {
    "jp-MarkdownHeadingCollapsed": true
   },
   "source": [
    "#### Seasonal Decomposition"
   ]
  },
  {
   "cell_type": "markdown",
   "id": "aa45dfb4-739e-49fa-9fc8-05ed185e2942",
   "metadata": {},
   "source": [
    "- Statsmodels has a function for dividing time series data into 3 components, called `seasonal_decompose`\n",
    "- The function will decompose the time series into 3 components\n",
    "    - The trend component (slow, gradual, non-cyclical changes over time)\n",
    "    - The seasonal component (cyclical changes)\n",
    "    - The residuals (the remaining fluctuations after removing the trend and seasonal components)\n",
    "- As an example, apply this function to LARCENY FROM AUTO data"
   ]
  },
  {
   "cell_type": "code",
   "execution_count": null,
   "id": "05a459a4-896f-4f2b-abff-68a706ac44f9",
   "metadata": {},
   "outputs": [],
   "source": [
    "# Import statsmodel time series analysis api module\n",
    "import statsmodels.tsa.api as tsa\n",
    "tsa"
   ]
  },
  {
   "cell_type": "code",
   "execution_count": null,
   "id": "5eb8d946-7033-4358-add1-645a92fc8e7d",
   "metadata": {},
   "outputs": [],
   "source": [
    "crime_type = 'LARCENY FROM AUTO'\n",
    "ts = plot_df_W[crime_type]\n",
    "ts.plot(title=crime_type);"
   ]
  },
  {
   "cell_type": "code",
   "execution_count": null,
   "id": "38db5bdf-3737-424a-98f8-c98bbdb4cc92",
   "metadata": {},
   "outputs": [],
   "source": [
    "decomp = tsa.seasonal_decompose(ts)\n",
    "decomp"
   ]
  },
  {
   "cell_type": "markdown",
   "id": "babed3e3-4732-48a7-95d4-dde1f4f8e98a",
   "metadata": {},
   "source": [
    "- The DecomposeResult object doesn't show very much, but contains all the previously mentioned information."
   ]
  },
  {
   "cell_type": "markdown",
   "id": "efdaa3e6-4cc5-4c38-acb9-c634794dd125",
   "metadata": {
    "jp-MarkdownHeadingCollapsed": true
   },
   "source": [
    "#### Visualizing Decomposed Results"
   ]
  },
  {
   "cell_type": "code",
   "execution_count": null,
   "id": "c769751e-d077-4f2e-b72c-0c21253ece0d",
   "metadata": {},
   "outputs": [],
   "source": [
    "# Use .plot() method to view results of decomp\n",
    "fig = decomp.plot();"
   ]
  },
  {
   "cell_type": "markdown",
   "id": "e0cf4f3c-e27d-414f-bd84-435f8618f653",
   "metadata": {},
   "source": [
    "- Sadly, there is no way to instruct seasonal decomp to use a different figsize.\n",
    "- However, a figure's size can be updated after it is created using `fig.set_size_inches()` method.\n",
    "- Additionally, expand the subplots to fill in the larger figsize, which can be done using `fig.tight_layout()` method."
   ]
  },
  {
   "cell_type": "code",
   "execution_count": null,
   "id": "d8deb5c2-aaa8-4185-bab7-3717b407a3bf",
   "metadata": {},
   "outputs": [],
   "source": [
    "fig = decomp.plot()\n",
    "fig.set_size_inches(10,8)\n",
    "fig.tight_layout()"
   ]
  },
  {
   "cell_type": "markdown",
   "id": "233fef3d-5ac5-4c1a-8de5-68b09e323ee7",
   "metadata": {},
   "source": [
    "- From the above figures we can see:\n",
    "    - The original raw ts is on top\n",
    "    - Second is the slower, non-cyclical *trend*\n",
    "    - Third is the cyclical *seasonal* component\n",
    "    - Last is the *residuals* after removing the trend and seasonal components"
   ]
  },
  {
   "cell_type": "markdown",
   "id": "6602d5ad-2bd5-4e01-b4bf-7f3314dcb3f3",
   "metadata": {
    "jp-MarkdownHeadingCollapsed": true
   },
   "source": [
    "#### Inspecting the Individual Components of Decomposition"
   ]
  },
  {
   "cell_type": "markdown",
   "id": "6a8f0f74-bc48-4c6a-b681-aa608e92535f",
   "metadata": {},
   "source": [
    "**Decompose - Trend**"
   ]
  },
  {
   "cell_type": "code",
   "execution_count": null,
   "id": "ee83e87f-ea89-49ab-8b98-91e7fb702337",
   "metadata": {},
   "outputs": [],
   "source": [
    "decomp.trend"
   ]
  },
  {
   "cell_type": "code",
   "execution_count": null,
   "id": "1e24aed0-8992-44b6-83a6-0f97c9c3ec62",
   "metadata": {},
   "outputs": [],
   "source": [
    "decomp.trend.plot(title='Trend');"
   ]
  },
  {
   "cell_type": "markdown",
   "id": "69673c95-33d9-4e85-b67b-75ed3e694b0c",
   "metadata": {},
   "source": [
    "**Decompose - Seasonal**"
   ]
  },
  {
   "cell_type": "code",
   "execution_count": null,
   "id": "38b60702-15fe-458d-abba-1068585cfc74",
   "metadata": {},
   "outputs": [],
   "source": [
    "decomp.seasonal.head()"
   ]
  },
  {
   "cell_type": "code",
   "execution_count": null,
   "id": "71a559d6-8ce1-41da-b991-616d6669292e",
   "metadata": {},
   "outputs": [],
   "source": [
    "decomp.seasonal.plot(title='Seasonal');"
   ]
  },
  {
   "cell_type": "markdown",
   "id": "035cf75f-b7e5-48c0-8f64-56322dfd6b68",
   "metadata": {},
   "source": [
    "**Decompose - Residuals**"
   ]
  },
  {
   "cell_type": "code",
   "execution_count": null,
   "id": "c1705e90-5f53-4b9c-8dda-cd1cff5d41a8",
   "metadata": {},
   "outputs": [],
   "source": [
    "decomp.resid.head()"
   ]
  },
  {
   "cell_type": "code",
   "execution_count": null,
   "id": "38bf402a-2acf-4148-8be3-269e393842a5",
   "metadata": {},
   "outputs": [],
   "source": [
    "decomp.resid.plot(title='Residual');"
   ]
  },
  {
   "cell_type": "markdown",
   "id": "7684eb88-d912-4ca9-877a-686d76054658",
   "metadata": {
    "jp-MarkdownHeadingCollapsed": true
   },
   "source": [
    "#### Decomposition's Separate Components"
   ]
  },
  {
   "cell_type": "markdown",
   "id": "9ab6d32c-6f5a-43ce-8231-f986e59204a4",
   "metadata": {},
   "source": [
    "- The decomposition separated the original raw time series into 3 components.\n",
    "- The default method for seasonal_decompose is to create components that can be added together to recreate the original time series."
   ]
  },
  {
   "cell_type": "code",
   "execution_count": null,
   "id": "fb16cc90-1491-4aac-994b-75b1200ed41f",
   "metadata": {},
   "outputs": [],
   "source": [
    "# Adding decomposition components together\n",
    "ts_model = decomp.trend + decomp.seasonal + decomp.resid\n",
    "# Visualize the result\n",
    "ax = ts_model.plot(label='Recombined from Decomposition')\n",
    "ax.legend()"
   ]
  },
  {
   "cell_type": "code",
   "execution_count": null,
   "id": "f20010b9-44eb-4759-844e-bdaf695bbfd6",
   "metadata": {},
   "outputs": [],
   "source": [
    "# Visually confirm the original time series is the same as the calculated one\n",
    "ax = ts.plot(label='Original, Raw')\n",
    "ts_model.plot(label='Recombined from Decomposition', ax=ax, ls='--', alpha=0.8)\n",
    "ax.legend();"
   ]
  },
  {
   "cell_type": "markdown",
   "id": "b389d10e-99fc-4982-8075-ec917569bd3c",
   "metadata": {},
   "source": [
    "- Observe that although decomposition could not recreate the very beginning or end of the time series, the recreated portion matches the original data."
   ]
  },
  {
   "cell_type": "markdown",
   "id": "c806803b-f183-4f39-88c1-759e59488533",
   "metadata": {
    "jp-MarkdownHeadingCollapsed": true
   },
   "source": [
    "### Assessing Seasonal Contributions"
   ]
  },
  {
   "cell_type": "markdown",
   "id": "aeb669c9-874a-4484-a079-a28bc3f673e8",
   "metadata": {},
   "source": [
    "- Now that it's possible to decompose a time series to extract the seasonal component, it's also possible to answer questions about how much the time series varies across a season."
   ]
  },
  {
   "cell_type": "code",
   "execution_count": null,
   "id": "807b0ae8-b699-4ceb-8e1a-43c6b0415de2",
   "metadata": {},
   "outputs": [],
   "source": [
    "seasonal = decomp.seasonal\n",
    "ax = seasonal.plot(title=f'Seasonal Component for {crime_type}');\n",
    "ax.grid(which='both', axis='x');"
   ]
  },
  {
   "cell_type": "markdown",
   "id": "f393bd49-8815-4997-aca5-46e64bfd44a3",
   "metadata": {},
   "source": [
    "- The default x-axis ticks are too far apart to reliably estimate the months of peaks and valleys.\n",
    "- Using matplotlib tick formatters and locators to add minor ticks for each month will make it easier to inspect."
   ]
  },
  {
   "cell_type": "code",
   "execution_count": null,
   "id": "fa969055-285a-43ba-bb47-0e9f599c29d5",
   "metadata": {},
   "outputs": [],
   "source": [
    "import matplotlib.dates as mdates\n",
    "minor_loc = mdates.MonthLocator()\n",
    "fig, ax = plt.subplots()\n",
    "ax.plot(seasonal)\n",
    "ax.set(title=f'Seasonal Component for {crime_type}');\n",
    "ax.xaxis.set_minor_locator(minor_loc)\n",
    "ax.grid(which='major', axis='x', lw=1, color='k')\n",
    "ax.grid(which='minor', axis='x', lw=0.5)\n",
    "fig.autofmt_xdate(rotation=90, ha='center')"
   ]
  },
  {
   "cell_type": "markdown",
   "id": "74fe9d92-5d1a-405a-b249-c472b333d932",
   "metadata": {},
   "source": [
    "- Examination of the figure shows a recurring pattern with the lowest # of crimes occurring in the month of March.\n",
    "- Next comes a gradual increase until October, then finally a gradual decrease until March of the following year."
   ]
  },
  {
   "cell_type": "markdown",
   "id": "2b005954-55cd-4802-b944-1fced40a2f87",
   "metadata": {},
   "source": [
    "#### Determining Seasonal Fluctuation - Magnitude"
   ]
  },
  {
   "cell_type": "markdown",
   "id": "2ab05c57-687c-4077-ba1a-0d90551d9598",
   "metadata": {},
   "source": [
    "- It's possible to get a more definitive answer than a simple visual inspection of a figure.\n",
    "- To further quantify the magnitude of the seasonal change in the time series, try measuring the distance between the min and max values of the seasonal component."
   ]
  },
  {
   "cell_type": "code",
   "execution_count": null,
   "id": "1ddf4917-73a6-493f-8a82-5d903f0b1858",
   "metadata": {},
   "outputs": [],
   "source": [
    "seasonal.max()"
   ]
  },
  {
   "cell_type": "code",
   "execution_count": null,
   "id": "385a821c-78cf-4fa7-939d-a2eb3ba621c1",
   "metadata": {},
   "outputs": [],
   "source": [
    "seasonal.min()"
   ]
  },
  {
   "cell_type": "code",
   "execution_count": null,
   "id": "7247b0ee-2635-477a-9440-67f6ea6f6169",
   "metadata": {},
   "outputs": [],
   "source": [
    "magnitude = seasonal.max() - seasonal.min()\n",
    "magnitude"
   ]
  },
  {
   "cell_type": "markdown",
   "id": "bec8277b-6992-4df2-a2cf-f1e4815e7970",
   "metadata": {},
   "source": [
    "- There is a seasonal fluctuation of ~72 crimes per week for 'LARCENY FROM AUTO'"
   ]
  },
  {
   "cell_type": "markdown",
   "id": "edfcc9c9-6088-4d21-8672-8dcbc89f998b",
   "metadata": {},
   "source": [
    "#### Determining the Duration of a Season"
   ]
  },
  {
   "cell_type": "code",
   "execution_count": null,
   "id": "ca9eec0c-0f8e-46fd-8b3d-656dfa3bdbfb",
   "metadata": {},
   "outputs": [],
   "source": [
    "# Identify the dates with the min and max (using idxmin/idxmax),\n",
    "# then calculate the length of this time period\n",
    "seasonal.idxmax()"
   ]
  },
  {
   "cell_type": "code",
   "execution_count": null,
   "id": "63d6e82b-2851-4ad3-9810-db7bb31898d5",
   "metadata": {},
   "outputs": [],
   "source": [
    "seasonal.idxmin()"
   ]
  },
  {
   "cell_type": "markdown",
   "id": "eb8f62bb-edec-48e7-9591-43f0c3be2d1c",
   "metadata": {},
   "source": [
    "**Annotating Periods**\n",
    "- Because this concerns a period of time, use axvspan to annotate this instead of axvline.\n",
    "    - Check documentation regarding ax.axvspan\n",
    "- Below, the figure will be recreated several times, so this will be converted into a simple function.\n",
    "    - It won't be reused in other contexts in the future, so it can remain simple.\n",
    "    - The func will take the `seasonal` variable as the only input\n",
    "    - It will return the fig and ax for the visualization"
   ]
  },
  {
   "cell_type": "code",
   "execution_count": null,
   "id": "d489050f-53ff-48e9-885c-dcbc52fdb892",
   "metadata": {},
   "outputs": [],
   "source": [
    "import matplotlib.dates as mdates\n",
    "def plot_seasonal(seasonal):\n",
    "    minor_loc = mdates.MonthLocator()\n",
    "    fig, ax = plt.subplots()\n",
    "    ax.plot(seasonal)\n",
    "    ax.set(title=f'Seasonal Component for {crime_type}');\n",
    "    ax.xaxis.set_minor_locator(minor_loc)\n",
    "    ax.grid(which='major', axis='x', lw=1, color='k')\n",
    "    ax.grid(which='minor', axis='x', lw=0.5)\n",
    "    fig.autofmt_xdate(rotation=90, ha='center')\n",
    "\n",
    "    return fig, ax"
   ]
  },
  {
   "cell_type": "code",
   "execution_count": null,
   "id": "efd2c4fe-7230-493f-ab17-23fe5c47ffdf",
   "metadata": {},
   "outputs": [],
   "source": [
    "fig, ax = plot_seasonal(seasonal)\n",
    "ax.axvspan(seasonal.idxmin(), seasonal.idxmax(), color='lightgreen');"
   ]
  },
  {
   "cell_type": "markdown",
   "id": "0233b064-194a-4ca1-bc78-b7f9fcae188a",
   "metadata": {},
   "source": [
    "- The above figure covers the period from the first minimum to the first peak of our season."
   ]
  },
  {
   "cell_type": "code",
   "execution_count": null,
   "id": "9b5f7e24-2b89-4e5b-bcaf-51395fa9bdad",
   "metadata": {},
   "outputs": [],
   "source": [
    "delta = seasonal.idxmax() - seasonal.idxmin()\n",
    "delta"
   ]
  },
  {
   "cell_type": "markdown",
   "id": "dd64e963-8a39-4781-b78a-d4f338a52964",
   "metadata": {},
   "source": [
    "- The time difference between the min and max is 224 days.\n",
    "- To find the time between one full cycle, calculate the time between one max and the next max."
   ]
  },
  {
   "cell_type": "markdown",
   "id": "bfc2ea72-e285-44c8-a054-e865800987a7",
   "metadata": {},
   "source": [
    "#### Using `scipy`'s `find_peaks` Function"
   ]
  },
  {
   "cell_type": "markdown",
   "id": "a92f51f2-ef40-4b5f-9b84-e672706c4f2c",
   "metadata": {},
   "source": [
    "- Identify the maximum point of each season (the peaks). Then calculate the time between peaks as the seasonal period.\n",
    "- To do so, make use of scipy's signal submodule. Specifically, scipy.signal.find_peaks\n",
    "- This takes the time series as the first argument, and supply the height of expected peaks.\n",
    "    - The maximum value of the seasonal component is already known, as it is the peak height number."
   ]
  },
  {
   "cell_type": "code",
   "execution_count": null,
   "id": "71cdc2cf-7ed2-4030-9765-dbb9ba00c718",
   "metadata": {},
   "outputs": [],
   "source": [
    "from scipy.signal import find_peaks\n",
    "peaks, props = find_peaks(seasonal, height=seasonal.max())"
   ]
  },
  {
   "cell_type": "markdown",
   "id": "226ec296-44db-4cab-a54c-c6e72db9286a",
   "metadata": {},
   "source": [
    "- This will supply two variables: peaks, and props\n",
    "- Peaks: the integer index of the identified peaks\n",
    "- Props: a dictionary with additional information calculated during the process of finding the peaks\n",
    "    - In this instance, it gives the actual height of each peak"
   ]
  },
  {
   "cell_type": "code",
   "execution_count": null,
   "id": "d543983c-e907-414e-b8ae-da5943eb6ea9",
   "metadata": {},
   "outputs": [],
   "source": [
    "peaks"
   ]
  },
  {
   "cell_type": "code",
   "execution_count": null,
   "id": "8314d60b-c23a-452d-bf02-76df757ffaa8",
   "metadata": {},
   "outputs": [],
   "source": [
    "props"
   ]
  },
  {
   "cell_type": "markdown",
   "id": "ed2e8c66-0408-4d9f-b5da-771a3e6ea891",
   "metadata": {},
   "source": [
    "- To get the dates from the datetime index that corresponds to the integer index for the peaks, simply slice from `seasonal.index` using the peak's integer positions."
   ]
  },
  {
   "cell_type": "code",
   "execution_count": null,
   "id": "915f6202-4df0-465c-8f10-3dd54e350caf",
   "metadata": {},
   "outputs": [],
   "source": [
    "peak_dates = seasonal.index[peaks]\n",
    "peak_dates"
   ]
  },
  {
   "cell_type": "markdown",
   "id": "4030a208-75ef-4d35-bce3-23b1f79011e2",
   "metadata": {},
   "source": [
    "- Now, recreate the graph, but annotate the identified peaks.\n",
    "- Since both the date and peak value for each peak are known, these values can be added as an additional scatter plot on top of the original figure."
   ]
  },
  {
   "cell_type": "code",
   "execution_count": null,
   "id": "40df28c5-6f5f-401c-a2ba-6430be77a626",
   "metadata": {},
   "outputs": [],
   "source": [
    "fig, ax = plot_seasonal(seasonal)\n",
    "ax.scatter(peak_dates, props['peak_heights'], color='orange');"
   ]
  },
  {
   "cell_type": "markdown",
   "id": "b9088349-ada1-4b94-ab25-f0e296903906",
   "metadata": {},
   "source": [
    "- It looks as though the peaks have been properly identified.\n",
    "- Next, calculate the length of a period using the peaks.\n",
    "    - Find the date of the second peak to calculate the period from the first."
   ]
  },
  {
   "cell_type": "code",
   "execution_count": null,
   "id": "21f22e2d-a938-4140-801a-af81bc54e9a4",
   "metadata": {},
   "outputs": [],
   "source": [
    "peak_dates"
   ]
  },
  {
   "cell_type": "code",
   "execution_count": null,
   "id": "61a91ec3-eb53-4108-804e-823f93945c6b",
   "metadata": {},
   "outputs": [],
   "source": [
    "period = peak_dates[1] - peak_dates[0]\n",
    "period"
   ]
  },
  {
   "cell_type": "markdown",
   "id": "4118719c-69b8-4c61-ab7a-64b3adcdacfb",
   "metadata": {},
   "source": [
    "- It appears the period is approximately a full year.\n",
    "- Confirm this is the same for all dates using a loop."
   ]
  },
  {
   "cell_type": "code",
   "execution_count": null,
   "id": "63b7fb6f-224e-4cc0-a6fb-aec1ef6991f7",
   "metadata": {},
   "outputs": [],
   "source": [
    "periods = []\n",
    "for i in range(len(peak_dates)-1):\n",
    "    delta = peak_dates[i+1] - peak_dates[i]\n",
    "    periods.append(delta)\n",
    "periods"
   ]
  },
  {
   "cell_type": "markdown",
   "id": "cd3f1e09-38e8-45e6-8477-995f1b484093",
   "metadata": {
    "jp-MarkdownHeadingCollapsed": true
   },
   "source": [
    "### Final Annotation"
   ]
  },
  {
   "cell_type": "markdown",
   "id": "f54a0ace-e605-465c-9c13-6603810bc54c",
   "metadata": {},
   "source": [
    "- Confident that the period is 364 days, next is annotating the season as an axvspan, and then the start date of the season as ax axvline with a label."
   ]
  },
  {
   "cell_type": "code",
   "execution_count": null,
   "id": "2abb63c8-a9d2-4e53-84b9-85c9d999deb3",
   "metadata": {
    "scrolled": true
   },
   "outputs": [],
   "source": [
    "fig, ax = plot_seasonal(seasonal)\n",
    "season_start = seasonal.idxmin()\n",
    "ax.axvspan(season_start, season_start+period, color='lightgreen')\n",
    "ax.axvline(season_start, color='green', ls='--',\n",
    "           label=f\"Start of Season {season_start.strftime('%B')}\")\n",
    "ax.legend();"
   ]
  },
  {
   "cell_type": "code",
   "execution_count": null,
   "id": "367811a3-c35a-4203-b049-b291918467b5",
   "metadata": {},
   "outputs": [],
   "source": [
    "seasonal.max() - seasonal.min() "
   ]
  },
  {
   "cell_type": "markdown",
   "id": "6efdac5b-fe4c-41f3-88cb-4c2ca1ed4fdd",
   "metadata": {},
   "source": [
    "- The figure above aligns perfectly with data!\n",
    "- The seasonality of larceny from auto crimes has a period of 364 days, and an overall fluctuation of ~72 crimes per week."
   ]
  },
  {
   "cell_type": "markdown",
   "id": "2074e786-9172-4ac7-a325-b2150b6032a0",
   "metadata": {
    "jp-MarkdownHeadingCollapsed": true
   },
   "source": [
    "### Summary"
   ]
  },
  {
   "cell_type": "markdown",
   "id": "93222d04-a5d6-424d-904d-de0721b8c884",
   "metadata": {},
   "source": [
    "- This lesson covered Seasonality in time series, and then applied seasonal decomposition to separate the time series into three components: the trend, season, and residuals.\n",
    "- The seasonal component was further explored with visuals, pandas time deltas, and scipy's find_peaks function to calculate the magnitude of the seasonal fluctuations and duration of season (or period)."
   ]
  },
  {
   "cell_type": "markdown",
   "id": "d334a2bb-fd9e-4537-bac5-1650cfc1dc7b",
   "metadata": {},
   "source": [
    "# Feature Engineering - Holidays"
   ]
  },
  {
   "cell_type": "markdown",
   "id": "dfc9aea1-d7c8-4423-a351-39931b4e55f0",
   "metadata": {},
   "source": [
    "- Learn to lookup/merge national and regional holidays"
   ]
  },
  {
   "cell_type": "code",
   "execution_count": 64,
   "id": "36eed26e-1946-487d-a600-ee7262e2d622",
   "metadata": {},
   "outputs": [
    {
     "name": "stdout",
     "output_type": "stream",
     "text": [
      "Requirement already satisfied: holidays in c:\\users\\malue\\anaconda3\\envs\\dojo-env\\lib\\site-packages (0.25)\n",
      "Requirement already satisfied: korean-lunar-calendar in c:\\users\\malue\\anaconda3\\envs\\dojo-env\\lib\\site-packages (from holidays) (0.3.1)\n",
      "Requirement already satisfied: python-dateutil in c:\\users\\malue\\anaconda3\\envs\\dojo-env\\lib\\site-packages (from holidays) (2.8.2)\n",
      "Requirement already satisfied: six>=1.5 in c:\\users\\malue\\anaconda3\\envs\\dojo-env\\lib\\site-packages (from python-dateutil->holidays) (1.16.0)\n"
     ]
    }
   ],
   "source": [
    "!pip install holidays"
   ]
  },
  {
   "cell_type": "code",
   "execution_count": 65,
   "id": "52a33177-bcc5-4ce1-a0e3-c7a7b805ea29",
   "metadata": {},
   "outputs": [],
   "source": [
    "import holidays\n",
    "import datetime as dt\n",
    "from holidays import country_holidays"
   ]
  },
  {
   "cell_type": "code",
   "execution_count": 66,
   "id": "30c6c4ee-23eb-41af-b07b-2cfbe3d4435c",
   "metadata": {},
   "outputs": [
    {
     "data": {
      "text/plain": [
       "DatetimeIndex(['2011-01-01', '2011-01-02', '2011-01-03', '2011-01-04',\n",
       "               '2011-01-05', '2011-01-06', '2011-01-07', '2011-01-08',\n",
       "               '2011-01-09', '2011-01-10',\n",
       "               ...\n",
       "               '2022-12-22', '2022-12-23', '2022-12-24', '2022-12-25',\n",
       "               '2022-12-26', '2022-12-27', '2022-12-28', '2022-12-29',\n",
       "               '2022-12-30', '2022-12-31'],\n",
       "              dtype='datetime64[ns]', length=4383, freq='D')"
      ]
     },
     "execution_count": 66,
     "metadata": {},
     "output_type": "execute_result"
    }
   ],
   "source": [
    "# Making a date range that covers full dataset\n",
    "all_days = pd.date_range(df['Date'].min(), df['Date'].max())\n",
    "all_days"
   ]
  },
  {
   "cell_type": "markdown",
   "id": "55d6862f-76f1-44a7-b5d3-459bf5ccce09",
   "metadata": {},
   "source": [
    "### Getting General US Holidays"
   ]
  },
  {
   "cell_type": "code",
   "execution_count": 67,
   "id": "e00223a1-66f4-41fb-bf0d-4e9ee0a42d42",
   "metadata": {},
   "outputs": [
    {
     "data": {
      "text/plain": [
       "holidays.country_holidays('US')"
      ]
     },
     "execution_count": 67,
     "metadata": {},
     "output_type": "execute_result"
    }
   ],
   "source": [
    "# Create an instance of the US country holidays\n",
    "us_holidays = country_holidays('US')\n",
    "us_holidays"
   ]
  },
  {
   "cell_type": "code",
   "execution_count": 68,
   "id": "e5f09593-11d5-4265-8d59-0c9213024251",
   "metadata": {},
   "outputs": [
    {
     "name": "stdout",
     "output_type": "stream",
     "text": [
      "2011-01-01 00:00:00\n"
     ]
    },
    {
     "data": {
      "text/plain": [
       "\"New Year's Day\""
      ]
     },
     "execution_count": 68,
     "metadata": {},
     "output_type": "execute_result"
    }
   ],
   "source": [
    "# Testing first date\n",
    "print(all_days[0])\n",
    "us_holidays.get(all_days[0])"
   ]
  },
  {
   "cell_type": "code",
   "execution_count": 69,
   "id": "9864a0d4-9d9e-405c-8eb9-5880009c5298",
   "metadata": {},
   "outputs": [
    {
     "data": {
      "text/plain": [
       "[\"New Year's Day\", None, None, None, None]"
      ]
     },
     "execution_count": 69,
     "metadata": {},
     "output_type": "execute_result"
    }
   ],
   "source": [
    "# Getting US holidays for all dates\n",
    "holiday_list = [us_holidays.get(day) for day in all_days]\n",
    "holiday_list[:5]"
   ]
  },
  {
   "cell_type": "markdown",
   "id": "5e5178bb-47f8-447d-91d7-a15e1fb0a19f",
   "metadata": {},
   "source": [
    "### Getting Sub-Region Holidays"
   ]
  },
  {
   "cell_type": "code",
   "execution_count": 70,
   "id": "44894918-4966-491a-8aab-9ff03ab167ba",
   "metadata": {},
   "outputs": [
    {
     "data": {
      "text/plain": [
       "holidays.country_holidays('US', subdiv='MD')"
      ]
     },
     "execution_count": 70,
     "metadata": {},
     "output_type": "execute_result"
    }
   ],
   "source": [
    "# For a specific subdivisions (e.g., state or province)\n",
    "md_holidays = country_holidays('US', subdiv='MD')\n",
    "md_holidays"
   ]
  },
  {
   "cell_type": "code",
   "execution_count": 72,
   "id": "9744849e-3f22-4be4-8d92-5a70b4e6de53",
   "metadata": {},
   "outputs": [
    {
     "data": {
      "text/html": [
       "<div>\n",
       "<style scoped>\n",
       "    .dataframe tbody tr th:only-of-type {\n",
       "        vertical-align: middle;\n",
       "    }\n",
       "\n",
       "    .dataframe tbody tr th {\n",
       "        vertical-align: top;\n",
       "    }\n",
       "\n",
       "    .dataframe thead th {\n",
       "        text-align: right;\n",
       "    }\n",
       "</style>\n",
       "<table border=\"1\" class=\"dataframe\">\n",
       "  <thead>\n",
       "    <tr style=\"text-align: right;\">\n",
       "      <th></th>\n",
       "      <th>CrimeCode</th>\n",
       "      <th>Description</th>\n",
       "      <th>Inside_Outside</th>\n",
       "      <th>Weapon</th>\n",
       "      <th>Gender</th>\n",
       "      <th>Age</th>\n",
       "      <th>Race</th>\n",
       "      <th>Ethnicity</th>\n",
       "      <th>Old_District</th>\n",
       "      <th>New_District</th>\n",
       "      <th>Neighborhood</th>\n",
       "      <th>Latitude</th>\n",
       "      <th>Longitude</th>\n",
       "      <th>Total_Incidents</th>\n",
       "      <th>Date</th>\n",
       "      <th>Year</th>\n",
       "      <th>Month</th>\n",
       "      <th>MonthName</th>\n",
       "      <th>DayOfWeek</th>\n",
       "      <th>DayNum</th>\n",
       "      <th>Weekend</th>\n",
       "      <th>HourOfDay</th>\n",
       "      <th>US Holiday</th>\n",
       "      <th>MD Holiday</th>\n",
       "    </tr>\n",
       "    <tr>\n",
       "      <th>CrimeDateTime</th>\n",
       "      <th></th>\n",
       "      <th></th>\n",
       "      <th></th>\n",
       "      <th></th>\n",
       "      <th></th>\n",
       "      <th></th>\n",
       "      <th></th>\n",
       "      <th></th>\n",
       "      <th></th>\n",
       "      <th></th>\n",
       "      <th></th>\n",
       "      <th></th>\n",
       "      <th></th>\n",
       "      <th></th>\n",
       "      <th></th>\n",
       "      <th></th>\n",
       "      <th></th>\n",
       "      <th></th>\n",
       "      <th></th>\n",
       "      <th></th>\n",
       "      <th></th>\n",
       "      <th></th>\n",
       "      <th></th>\n",
       "      <th></th>\n",
       "    </tr>\n",
       "  </thead>\n",
       "  <tbody>\n",
       "    <tr>\n",
       "      <th>2011-01-01 00:00:00</th>\n",
       "      <td>2A</td>\n",
       "      <td>RAPE</td>\n",
       "      <td>NaN</td>\n",
       "      <td>OTHER</td>\n",
       "      <td>M</td>\n",
       "      <td>16.0</td>\n",
       "      <td>BLACK_OR_AFRICAN_AMERICAN</td>\n",
       "      <td>NaN</td>\n",
       "      <td>WESTERN</td>\n",
       "      <td>NaN</td>\n",
       "      <td>HARLEM PARK</td>\n",
       "      <td>39.298964</td>\n",
       "      <td>-76.639291</td>\n",
       "      <td>1</td>\n",
       "      <td>2011-01-01</td>\n",
       "      <td>2011</td>\n",
       "      <td>1</td>\n",
       "      <td>January</td>\n",
       "      <td>Saturday</td>\n",
       "      <td>5</td>\n",
       "      <td>True</td>\n",
       "      <td>0</td>\n",
       "      <td>New Year's Day</td>\n",
       "      <td>New Year's Day</td>\n",
       "    </tr>\n",
       "    <tr>\n",
       "      <th>2011-01-01 00:00:00</th>\n",
       "      <td>6E</td>\n",
       "      <td>LARCENY</td>\n",
       "      <td>O</td>\n",
       "      <td>NaN</td>\n",
       "      <td>M</td>\n",
       "      <td>44.0</td>\n",
       "      <td>BLACK_OR_AFRICAN_AMERICAN</td>\n",
       "      <td>NaN</td>\n",
       "      <td>WESTERN</td>\n",
       "      <td>NaN</td>\n",
       "      <td>MOSHER</td>\n",
       "      <td>39.295633</td>\n",
       "      <td>-76.661518</td>\n",
       "      <td>1</td>\n",
       "      <td>2011-01-01</td>\n",
       "      <td>2011</td>\n",
       "      <td>1</td>\n",
       "      <td>January</td>\n",
       "      <td>Saturday</td>\n",
       "      <td>5</td>\n",
       "      <td>True</td>\n",
       "      <td>0</td>\n",
       "      <td>New Year's Day</td>\n",
       "      <td>New Year's Day</td>\n",
       "    </tr>\n",
       "    <tr>\n",
       "      <th>2011-01-01 00:00:00</th>\n",
       "      <td>6G</td>\n",
       "      <td>LARCENY</td>\n",
       "      <td>I</td>\n",
       "      <td>NaN</td>\n",
       "      <td>F</td>\n",
       "      <td>26.0</td>\n",
       "      <td>WHITE</td>\n",
       "      <td>NaN</td>\n",
       "      <td>SOUTHERN</td>\n",
       "      <td>NaN</td>\n",
       "      <td>FEDERAL HILL</td>\n",
       "      <td>39.276987</td>\n",
       "      <td>-76.613380</td>\n",
       "      <td>1</td>\n",
       "      <td>2011-01-01</td>\n",
       "      <td>2011</td>\n",
       "      <td>1</td>\n",
       "      <td>January</td>\n",
       "      <td>Saturday</td>\n",
       "      <td>5</td>\n",
       "      <td>True</td>\n",
       "      <td>0</td>\n",
       "      <td>New Year's Day</td>\n",
       "      <td>New Year's Day</td>\n",
       "    </tr>\n",
       "    <tr>\n",
       "      <th>2011-01-01 00:01:00</th>\n",
       "      <td>6J</td>\n",
       "      <td>LARCENY</td>\n",
       "      <td>I</td>\n",
       "      <td>NaN</td>\n",
       "      <td>M</td>\n",
       "      <td>24.0</td>\n",
       "      <td>WHITE</td>\n",
       "      <td>NaN</td>\n",
       "      <td>SOUTHERN</td>\n",
       "      <td>NaN</td>\n",
       "      <td>FEDERAL HILL</td>\n",
       "      <td>39.274854</td>\n",
       "      <td>-76.612777</td>\n",
       "      <td>1</td>\n",
       "      <td>2011-01-01</td>\n",
       "      <td>2011</td>\n",
       "      <td>1</td>\n",
       "      <td>January</td>\n",
       "      <td>Saturday</td>\n",
       "      <td>5</td>\n",
       "      <td>True</td>\n",
       "      <td>0</td>\n",
       "      <td>New Year's Day</td>\n",
       "      <td>New Year's Day</td>\n",
       "    </tr>\n",
       "    <tr>\n",
       "      <th>2011-01-01 00:01:00</th>\n",
       "      <td>6G</td>\n",
       "      <td>LARCENY</td>\n",
       "      <td>I</td>\n",
       "      <td>NaN</td>\n",
       "      <td>NaN</td>\n",
       "      <td>NaN</td>\n",
       "      <td>UNKNOWN</td>\n",
       "      <td>NaN</td>\n",
       "      <td>SOUTHEAST</td>\n",
       "      <td>NaN</td>\n",
       "      <td>GREEKTOWN</td>\n",
       "      <td>39.285083</td>\n",
       "      <td>-76.552772</td>\n",
       "      <td>1</td>\n",
       "      <td>2011-01-01</td>\n",
       "      <td>2011</td>\n",
       "      <td>1</td>\n",
       "      <td>January</td>\n",
       "      <td>Saturday</td>\n",
       "      <td>5</td>\n",
       "      <td>True</td>\n",
       "      <td>0</td>\n",
       "      <td>New Year's Day</td>\n",
       "      <td>New Year's Day</td>\n",
       "    </tr>\n",
       "  </tbody>\n",
       "</table>\n",
       "</div>"
      ],
      "text/plain": [
       "                    CrimeCode Description Inside_Outside Weapon Gender   Age  \\\n",
       "CrimeDateTime                                                                  \n",
       "2011-01-01 00:00:00        2A        RAPE            NaN  OTHER      M  16.0   \n",
       "2011-01-01 00:00:00        6E     LARCENY              O    NaN      M  44.0   \n",
       "2011-01-01 00:00:00        6G     LARCENY              I    NaN      F  26.0   \n",
       "2011-01-01 00:01:00        6J     LARCENY              I    NaN      M  24.0   \n",
       "2011-01-01 00:01:00        6G     LARCENY              I    NaN    NaN   NaN   \n",
       "\n",
       "                                          Race Ethnicity Old_District  \\\n",
       "CrimeDateTime                                                           \n",
       "2011-01-01 00:00:00  BLACK_OR_AFRICAN_AMERICAN       NaN      WESTERN   \n",
       "2011-01-01 00:00:00  BLACK_OR_AFRICAN_AMERICAN       NaN      WESTERN   \n",
       "2011-01-01 00:00:00                      WHITE       NaN     SOUTHERN   \n",
       "2011-01-01 00:01:00                      WHITE       NaN     SOUTHERN   \n",
       "2011-01-01 00:01:00                    UNKNOWN       NaN    SOUTHEAST   \n",
       "\n",
       "                    New_District  Neighborhood   Latitude  Longitude  \\\n",
       "CrimeDateTime                                                          \n",
       "2011-01-01 00:00:00          NaN   HARLEM PARK  39.298964 -76.639291   \n",
       "2011-01-01 00:00:00          NaN        MOSHER  39.295633 -76.661518   \n",
       "2011-01-01 00:00:00          NaN  FEDERAL HILL  39.276987 -76.613380   \n",
       "2011-01-01 00:01:00          NaN  FEDERAL HILL  39.274854 -76.612777   \n",
       "2011-01-01 00:01:00          NaN     GREEKTOWN  39.285083 -76.552772   \n",
       "\n",
       "                     Total_Incidents        Date  Year  Month MonthName  \\\n",
       "CrimeDateTime                                                             \n",
       "2011-01-01 00:00:00                1  2011-01-01  2011      1   January   \n",
       "2011-01-01 00:00:00                1  2011-01-01  2011      1   January   \n",
       "2011-01-01 00:00:00                1  2011-01-01  2011      1   January   \n",
       "2011-01-01 00:01:00                1  2011-01-01  2011      1   January   \n",
       "2011-01-01 00:01:00                1  2011-01-01  2011      1   January   \n",
       "\n",
       "                    DayOfWeek  DayNum  Weekend  HourOfDay      US Holiday  \\\n",
       "CrimeDateTime                                                               \n",
       "2011-01-01 00:00:00  Saturday       5     True          0  New Year's Day   \n",
       "2011-01-01 00:00:00  Saturday       5     True          0  New Year's Day   \n",
       "2011-01-01 00:00:00  Saturday       5     True          0  New Year's Day   \n",
       "2011-01-01 00:01:00  Saturday       5     True          0  New Year's Day   \n",
       "2011-01-01 00:01:00  Saturday       5     True          0  New Year's Day   \n",
       "\n",
       "                         MD Holiday  \n",
       "CrimeDateTime                        \n",
       "2011-01-01 00:00:00  New Year's Day  \n",
       "2011-01-01 00:00:00  New Year's Day  \n",
       "2011-01-01 00:00:00  New Year's Day  \n",
       "2011-01-01 00:01:00  New Year's Day  \n",
       "2011-01-01 00:01:00  New Year's Day  "
      ]
     },
     "execution_count": 72,
     "metadata": {},
     "output_type": "execute_result"
    }
   ],
   "source": [
    "# Next create a column for US holidays and Maryland holidays in the dataframe\n",
    "df['US Holiday'] = [us_holidays.get(day) for day in df['Date']]\n",
    "df['MD Holiday'] = [md_holidays.get(day) for day in df['Date']]\n",
    "df.head()"
   ]
  },
  {
   "cell_type": "code",
   "execution_count": 73,
   "id": "8ff148a1-0bd8-4b6d-845f-01a19bd60347",
   "metadata": {},
   "outputs": [
    {
     "data": {
      "text/plain": [
       "New Year's Day                                     1782\n",
       "Columbus Day                                       1686\n",
       "Labor Day                                          1673\n",
       "Memorial Day                                       1537\n",
       "Veterans Day                                       1524\n",
       "Independence Day                                   1522\n",
       "Martin Luther King Jr. Day                         1305\n",
       "Christmas Day                                      1246\n",
       "Thanksgiving                                       1208\n",
       "Washington's Birthday                              1194\n",
       "Christmas Day (Observed)                            415\n",
       "Veterans Day (Observed)                             394\n",
       "New Year's Day (Observed)                           390\n",
       "Independence Day (Observed)                         377\n",
       "Juneteenth National Independence Day                267\n",
       "Juneteenth National Independence Day (Observed)     210\n",
       "Name: US Holiday, dtype: int64"
      ]
     },
     "execution_count": 73,
     "metadata": {},
     "output_type": "execute_result"
    }
   ],
   "source": [
    "# US holidays\n",
    "df['US Holiday'].value_counts()"
   ]
  },
  {
   "cell_type": "code",
   "execution_count": 74,
   "id": "effb48db-0c27-4ef7-a9e6-98f8bf37c6a0",
   "metadata": {},
   "outputs": [
    {
     "data": {
      "text/plain": [
       "New Year's Day                                             1782\n",
       "Columbus Day                                               1686\n",
       "Labor Day                                                  1673\n",
       "Memorial Day                                               1537\n",
       "Veterans Day                                               1524\n",
       "Independence Day                                           1522\n",
       "American Indian Heritage Day                               1472\n",
       "Christmas Day                                              1246\n",
       "Thanksgiving                                               1208\n",
       "Washington's Birthday                                      1194\n",
       "Martin Luther King Jr. Day                                 1194\n",
       "Christmas Day (Observed)                                    415\n",
       "Inauguration Day                                            409\n",
       "Veterans Day (Observed)                                     394\n",
       "New Year's Day (Observed)                                   390\n",
       "Independence Day (Observed)                                 377\n",
       "Juneteenth National Independence Day                        267\n",
       "Juneteenth National Independence Day (Observed)             210\n",
       "Inauguration Day (Observed); Martin Luther King Jr. Day     111\n",
       "Name: MD Holiday, dtype: int64"
      ]
     },
     "execution_count": 74,
     "metadata": {},
     "output_type": "execute_result"
    }
   ],
   "source": [
    "# MD Holidays\n",
    "df['MD Holiday'].value_counts()"
   ]
  },
  {
   "cell_type": "code",
   "execution_count": 75,
   "id": "0d2b38a9-2ab6-4c1d-a0c1-d48a1f7554db",
   "metadata": {},
   "outputs": [
    {
     "data": {
      "image/png": "[encoded data removed]",
      "text/plain": [
       "<Figure size 1200x400 with 1 Axes>"
      ]
     },
     "metadata": {},
     "output_type": "display_data"
    }
   ],
   "source": [
    "ax = sns.barplot(data=df, x='US Holiday', y='Total_Incidents', estimator=np.sum)\n",
    "ax.set_xticklabels(ax.get_xticklabels(), rotation=45, ha='right');"
   ]
  },
  {
   "cell_type": "code",
   "execution_count": 76,
   "id": "8664a580-6bd0-4a86-94e9-926d96353187",
   "metadata": {},
   "outputs": [
    {
     "data": {
      "text/plain": [
       "False    533113\n",
       "True      16730\n",
       "Name: Is_Holiday, dtype: int64"
      ]
     },
     "execution_count": 76,
     "metadata": {},
     "output_type": "execute_result"
    }
   ],
   "source": [
    "# Saving a binay of is holiday feature\n",
    "df['Is_Holiday'] = df['US Holiday'].notna()\n",
    "df['Is_Holiday'].value_counts()"
   ]
  },
  {
   "cell_type": "markdown",
   "id": "391c80da-a1cd-4b7f-b0b7-8cb6a9e7fe91",
   "metadata": {},
   "source": [
    "### Summary"
   ]
  },
  {
   "cell_type": "markdown",
   "id": "4f718859-cc80-4b13-90e1-05622e122b85",
   "metadata": {},
   "source": [
    "- This lesson demonstrated how to use the 'holidays' package and extract holiday information for specific dates and locations.\n",
    "- Time series data is easy to supplement with other sources, as long as the dates can be aligned."
   ]
  }
 ],
 "metadata": {
  "kernelspec": {
   "display_name": "Python 3 (ipykernel)",
   "language": "python",
   "name": "python3"
  },
  "language_info": {
   "codemirror_mode": {
    "name": "ipython",
    "version": 3
   },
   "file_extension": ".py",
   "mimetype": "text/x-python",
   "name": "python",
   "nbconvert_exporter": "python",
   "pygments_lexer": "ipython3",
   "version": "3.10.10"
  },
  "widgets": {
   "application/vnd.jupyter.widget-state+json": {
    "state": {},
    "version_major": 2,
    "version_minor": 0
   }
  }
 },
 "nbformat": 4,
 "nbformat_minor": 5
}
