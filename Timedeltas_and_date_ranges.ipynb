{
 "cells": [
  {
   "cell_type": "markdown",
   "id": "a293edcf-4bc5-4a0b-8277-f0d26cbb43f7",
   "metadata": {},
   "source": [
    "# Timedeltas and Date Ranges"
   ]
  },
  {
   "cell_type": "markdown",
   "id": "bb7247f2-600c-41ff-9f27-4db3b8b3f3df",
   "metadata": {},
   "source": [
    "## Timedeltas"
   ]
  },
  {
   "cell_type": "markdown",
   "id": "24951b30-c08e-4a05-a088-be2b2d82ccf5",
   "metadata": {},
   "source": [
    "- Timedelatas are a way to represent an increase or decrease in time. It is used primarily for calculating relative datetimes.\n",
    "- To use pd.to_timedelta:\n",
    "    - The first arg is the number of time steps\n",
    "    - Second arg is the unit. Possible values:\n",
    "        - W\n",
    "        - D, days, day\n",
    "        - hours, hour, hr, h\n",
    "        - m, minutes, minute, min, T\n",
    "        - S, seconds, sec, second\n",
    "        - ms, milliseconds, millisecond, milli, millis, L\n",
    "        - us, microseconds, microsecond, micro, micros, U\n",
    "        - ns, nanoseconds, nano, nanos, nanosecond, N"
   ]
  },
  {
   "cell_type": "code",
   "execution_count": 1,
   "id": "64f914f5-578c-4c64-a45c-6bff87143c31",
   "metadata": {},
   "outputs": [],
   "source": [
    "import pandas as pd\n",
    "url=\"https://docs.google.com/spreadsheets/d/e/2PACX-1vQcpVvVioO23cndDwr1UmKhndrSq6ES6ZUKZ4fkBBqIAavd1_coVPO_yeOye-Ub-cAWlkX3psJvOU8o/pub?output=csv\"\n",
    "df = pd.read_csv(url)\n",
    "df['datetime'] = pd.to_datetime(df['date'])"
   ]
  },
  {
   "cell_type": "code",
   "execution_count": 3,
   "id": "c17f224b-074c-430b-a009-da62e7cbaed7",
   "metadata": {},
   "outputs": [],
   "source": [
    "# Return to Delhi weather dataset and convert 'date' feature to datetime\n",
    "\n",
    "import pandas as pd\n",
    "url=\"https://docs.google.com/spreadsheets/d/e/2PACX-1vQcpVvVioO23cndDwr1UmKhndrSq6ES6ZUKZ4fkBBqIAavd1_coVPO_yeOye-Ub-cAWlkX3psJvOU8o/pub?output=csv\"\n",
    "df = pd.read_csv(url)\n",
    "df['datetime'] = pd.to_datetime(df['date'])"
   ]
  },
  {
   "cell_type": "code",
   "execution_count": 4,
   "id": "09e6a19a-c256-42a0-9dc6-07483e20816b",
   "metadata": {},
   "outputs": [],
   "source": [
    "# Set datetime column as index\n",
    "df = df.set_index('datetime')"
   ]
  },
  {
   "cell_type": "code",
   "execution_count": 5,
   "id": "4efb3e8c-ffda-47de-9ce3-9632ee48ddc4",
   "metadata": {},
   "outputs": [
    {
     "data": {
      "text/plain": [
       "Timedelta('3 days 00:00:00')"
      ]
     },
     "execution_count": 5,
     "metadata": {},
     "output_type": "execute_result"
    }
   ],
   "source": [
    "# Set time delta of 3 days\n",
    "delta_3d = pd.to_timedelta(3, 'D')\n",
    "delta_3d"
   ]
  },
  {
   "cell_type": "markdown",
   "id": "382f686d-c1d2-437b-9a77-e404b55c534b",
   "metadata": {},
   "source": [
    "- Example question: For the most humid day in the data, what was the average wind speed over the 3 days prior and the 3 days after the most humid day?"
   ]
  },
  {
   "cell_type": "code",
   "execution_count": 6,
   "id": "a05c3950-9ce2-4eed-86bb-21e5d2616dc3",
   "metadata": {},
   "outputs": [
    {
     "data": {
      "text/plain": [
       "Timestamp('2016-12-29 00:00:00')"
      ]
     },
     "execution_count": 6,
     "metadata": {},
     "output_type": "execute_result"
    }
   ],
   "source": [
    "max_date = df['humidity'].idxmax()\n",
    "# Calculate 3 days before\n",
    "pre_max = max_date - delta_3d\n",
    "pre_max"
   ]
  },
  {
   "cell_type": "code",
   "execution_count": 7,
   "id": "0838bac7-50ab-4b23-a830-1298c4bda096",
   "metadata": {},
   "outputs": [
    {
     "data": {
      "text/plain": [
       "Timestamp('2017-01-04 00:00:00')"
      ]
     },
     "execution_count": 7,
     "metadata": {},
     "output_type": "execute_result"
    }
   ],
   "source": [
    "# Calculate 3 days after\n",
    "post_max = max_date + delta_3d\n",
    "post_max"
   ]
  },
  {
   "cell_type": "code",
   "execution_count": 8,
   "id": "e4a558f3-9015-4258-8923-1952a3aed6a9",
   "metadata": {},
   "outputs": [
    {
     "data": {
      "text/plain": [
       "4.89791666675"
      ]
     },
     "execution_count": 8,
     "metadata": {},
     "output_type": "execute_result"
    }
   ],
   "source": [
    "# Using the pre and post dates, find the average for the range\n",
    "mean_windspeed = df.loc[pre_max:post_max, 'wind_speed'].mean()\n",
    "mean_windspeed"
   ]
  },
  {
   "cell_type": "code",
   "execution_count": 11,
   "id": "05d6931a-b94d-4aa3-8d1c-7b9e1e8c09c5",
   "metadata": {},
   "outputs": [
    {
     "data": {
      "text/plain": [
       "datetime\n",
       "2016-12-29    6.000000\n",
       "2016-12-30    6.266667\n",
       "2016-12-31    7.325000\n",
       "2017-01-01    0.000000\n",
       "Name: wind_speed, dtype: float64"
      ]
     },
     "execution_count": 11,
     "metadata": {},
     "output_type": "execute_result"
    }
   ],
   "source": [
    "mean_list = df.loc[pre_max:post_max, 'wind_speed']\n",
    "mean_list"
   ]
  },
  {
   "cell_type": "markdown",
   "id": "0c7a8995-0eff-472e-b534-352c830da0fb",
   "metadata": {},
   "source": [
    "- This list stops at 01-01, which happens because this is where our data runs out. This is will important below."
   ]
  },
  {
   "cell_type": "markdown",
   "id": "4e452e68-6dd8-440a-b4cf-6c3dd4f0dc9c",
   "metadata": {},
   "source": [
    "**pd.date_range**"
   ]
  },
  {
   "cell_type": "code",
   "execution_count": 9,
   "id": "6846292c-76b1-41c6-b5ce-9c91f1ba9e34",
   "metadata": {},
   "outputs": [
    {
     "data": {
      "text/plain": [
       "DatetimeIndex(['2016-12-29', '2016-12-30', '2016-12-31', '2017-01-01',\n",
       "               '2017-01-02', '2017-01-03', '2017-01-04'],\n",
       "              dtype='datetime64[ns]', freq='D')"
      ]
     },
     "execution_count": 9,
     "metadata": {},
     "output_type": "execute_result"
    }
   ],
   "source": [
    "# Another option to store the range of dates in pd.date_range\n",
    "date_range = pd.date_range(pre_max, post_max)\n",
    "date_range"
   ]
  },
  {
   "cell_type": "code",
   "execution_count": 13,
   "id": "db772372-8185-41a5-9e7e-d2fbb3d1d2ec",
   "metadata": {},
   "outputs": [],
   "source": [
    "# Use pd.date_range to get mean\n",
    "# df.loc[date_range, 'wind_speed'].mean()"
   ]
  },
  {
   "cell_type": "markdown",
   "id": "82871c95-12cc-405f-9959-5817952525af",
   "metadata": {},
   "source": [
    "- This will give an error, because the last three dates (post_max) are beyond the index available in our data.\n",
    "- pd.date_range will try to pull data from every single date in the range, rather than pull data from whatever days are available, as with .loc"
   ]
  }
 ],
 "metadata": {
  "kernelspec": {
   "display_name": "Python 3 (ipykernel)",
   "language": "python",
   "name": "python3"
  },
  "language_info": {
   "codemirror_mode": {
    "name": "ipython",
    "version": 3
   },
   "file_extension": ".py",
   "mimetype": "text/x-python",
   "name": "python",
   "nbconvert_exporter": "python",
   "pygments_lexer": "ipython3",
   "version": "3.10.10"
  },
  "widgets": {
   "application/vnd.jupyter.widget-state+json": {
    "state": {},
    "version_major": 2,
    "version_minor": 0
   }
  }
 },
 "nbformat": 4,
 "nbformat_minor": 5
}
