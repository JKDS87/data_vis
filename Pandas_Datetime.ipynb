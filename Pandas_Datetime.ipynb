{
 "cells": [
  {
   "cell_type": "markdown",
   "id": "6fdefb93-7e7b-4d7e-9170-7ab61b262ca8",
   "metadata": {},
   "source": [
    "# Pandas Datetime Functionality"
   ]
  },
  {
   "cell_type": "markdown",
   "id": "d7af86ac-6238-4a18-825f-b658498564c6",
   "metadata": {},
   "source": [
    "- This lesson covers how to convert a feature in a Pandas dataframe into a timestamp object.\n",
    "- Both timestamp objects and basic Python datetime objects can be formatted using strftime and individual components can be extracted from each.\n",
    "- Demonstrate converting time series data to an index for slicing.\n",
    "- Use of .idxmax() and .idxmin() to obtain dates associated with extreme values"
   ]
  },
  {
   "cell_type": "code",
   "execution_count": 1,
   "id": "ef3cb89a-a02f-4dfd-b7f1-a8ada0942e9c",
   "metadata": {},
   "outputs": [
    {
     "name": "stdout",
     "output_type": "stream",
     "text": [
      "<class 'pandas.core.frame.DataFrame'>\n",
      "RangeIndex: 1462 entries, 0 to 1461\n",
      "Data columns (total 5 columns):\n",
      " #   Column        Non-Null Count  Dtype  \n",
      "---  ------        --------------  -----  \n",
      " 0   date          1462 non-null   object \n",
      " 1   meantemp      1462 non-null   float64\n",
      " 2   humidity      1462 non-null   float64\n",
      " 3   wind_speed    1462 non-null   float64\n",
      " 4   meanpressure  1462 non-null   float64\n",
      "dtypes: float64(4), object(1)\n",
      "memory usage: 57.2+ KB\n"
     ]
    },
    {
     "data": {
      "text/html": [
       "<div>\n",
       "<style scoped>\n",
       "    .dataframe tbody tr th:only-of-type {\n",
       "        vertical-align: middle;\n",
       "    }\n",
       "\n",
       "    .dataframe tbody tr th {\n",
       "        vertical-align: top;\n",
       "    }\n",
       "\n",
       "    .dataframe thead th {\n",
       "        text-align: right;\n",
       "    }\n",
       "</style>\n",
       "<table border=\"1\" class=\"dataframe\">\n",
       "  <thead>\n",
       "    <tr style=\"text-align: right;\">\n",
       "      <th></th>\n",
       "      <th>date</th>\n",
       "      <th>meantemp</th>\n",
       "      <th>humidity</th>\n",
       "      <th>wind_speed</th>\n",
       "      <th>meanpressure</th>\n",
       "    </tr>\n",
       "  </thead>\n",
       "  <tbody>\n",
       "    <tr>\n",
       "      <th>0</th>\n",
       "      <td>2013-01-01</td>\n",
       "      <td>10.000000</td>\n",
       "      <td>84.5</td>\n",
       "      <td>0.000000</td>\n",
       "      <td>1015.666667</td>\n",
       "    </tr>\n",
       "    <tr>\n",
       "      <th>1</th>\n",
       "      <td>2013-01-02</td>\n",
       "      <td>7.400000</td>\n",
       "      <td>92.0</td>\n",
       "      <td>2.980000</td>\n",
       "      <td>1017.800000</td>\n",
       "    </tr>\n",
       "    <tr>\n",
       "      <th>2</th>\n",
       "      <td>2013-01-03</td>\n",
       "      <td>7.166667</td>\n",
       "      <td>87.0</td>\n",
       "      <td>4.633333</td>\n",
       "      <td>1018.666667</td>\n",
       "    </tr>\n",
       "  </tbody>\n",
       "</table>\n",
       "</div>"
      ],
      "text/plain": [
       "         date   meantemp  humidity  wind_speed  meanpressure\n",
       "0  2013-01-01  10.000000      84.5    0.000000   1015.666667\n",
       "1  2013-01-02   7.400000      92.0    2.980000   1017.800000\n",
       "2  2013-01-03   7.166667      87.0    4.633333   1018.666667"
      ]
     },
     "execution_count": 1,
     "metadata": {},
     "output_type": "execute_result"
    }
   ],
   "source": [
    "import pandas as pd\n",
    "url=\"https://docs.google.com/spreadsheets/d/e/2PACX-1vQcpVvVioO23cndDwr1UmKhndrSq6ES6ZUKZ4fkBBqIAavd1_coVPO_yeOye-Ub-cAWlkX3psJvOU8o/pub?output=csv\"\n",
    "df = pd.read_csv(url)\n",
    "df.info()\n",
    "df.head(3)"
   ]
  },
  {
   "cell_type": "markdown",
   "id": "fd900af0-56a2-4f3f-a46f-f6eeb1f6da18",
   "metadata": {},
   "source": [
    "## Exploring formatting"
   ]
  },
  {
   "cell_type": "markdown",
   "id": "d3a4ed04-a07c-4f03-83aa-20d07a488184",
   "metadata": {},
   "source": [
    "**Using an object column to create datetime type column**"
   ]
  },
  {
   "cell_type": "code",
   "execution_count": 2,
   "id": "7f3863a5-a71c-40dc-8046-7dc860625410",
   "metadata": {},
   "outputs": [
    {
     "name": "stdout",
     "output_type": "stream",
     "text": [
      "<class 'pandas.core.frame.DataFrame'>\n",
      "RangeIndex: 1462 entries, 0 to 1461\n",
      "Data columns (total 6 columns):\n",
      " #   Column        Non-Null Count  Dtype         \n",
      "---  ------        --------------  -----         \n",
      " 0   date          1462 non-null   object        \n",
      " 1   meantemp      1462 non-null   float64       \n",
      " 2   humidity      1462 non-null   float64       \n",
      " 3   wind_speed    1462 non-null   float64       \n",
      " 4   meanpressure  1462 non-null   float64       \n",
      " 5   datetime      1462 non-null   datetime64[ns]\n",
      "dtypes: datetime64[ns](1), float64(4), object(1)\n",
      "memory usage: 68.7+ KB\n"
     ]
    },
    {
     "data": {
      "text/html": [
       "<div>\n",
       "<style scoped>\n",
       "    .dataframe tbody tr th:only-of-type {\n",
       "        vertical-align: middle;\n",
       "    }\n",
       "\n",
       "    .dataframe tbody tr th {\n",
       "        vertical-align: top;\n",
       "    }\n",
       "\n",
       "    .dataframe thead th {\n",
       "        text-align: right;\n",
       "    }\n",
       "</style>\n",
       "<table border=\"1\" class=\"dataframe\">\n",
       "  <thead>\n",
       "    <tr style=\"text-align: right;\">\n",
       "      <th></th>\n",
       "      <th>date</th>\n",
       "      <th>meantemp</th>\n",
       "      <th>humidity</th>\n",
       "      <th>wind_speed</th>\n",
       "      <th>meanpressure</th>\n",
       "      <th>datetime</th>\n",
       "    </tr>\n",
       "  </thead>\n",
       "  <tbody>\n",
       "    <tr>\n",
       "      <th>0</th>\n",
       "      <td>2013-01-01</td>\n",
       "      <td>10.000000</td>\n",
       "      <td>84.5</td>\n",
       "      <td>0.000000</td>\n",
       "      <td>1015.666667</td>\n",
       "      <td>2013-01-01</td>\n",
       "    </tr>\n",
       "    <tr>\n",
       "      <th>1</th>\n",
       "      <td>2013-01-02</td>\n",
       "      <td>7.400000</td>\n",
       "      <td>92.0</td>\n",
       "      <td>2.980000</td>\n",
       "      <td>1017.800000</td>\n",
       "      <td>2013-01-02</td>\n",
       "    </tr>\n",
       "    <tr>\n",
       "      <th>2</th>\n",
       "      <td>2013-01-03</td>\n",
       "      <td>7.166667</td>\n",
       "      <td>87.0</td>\n",
       "      <td>4.633333</td>\n",
       "      <td>1018.666667</td>\n",
       "      <td>2013-01-03</td>\n",
       "    </tr>\n",
       "  </tbody>\n",
       "</table>\n",
       "</div>"
      ],
      "text/plain": [
       "         date   meantemp  humidity  wind_speed  meanpressure   datetime\n",
       "0  2013-01-01  10.000000      84.5    0.000000   1015.666667 2013-01-01\n",
       "1  2013-01-02   7.400000      92.0    2.980000   1017.800000 2013-01-02\n",
       "2  2013-01-03   7.166667      87.0    4.633333   1018.666667 2013-01-03"
      ]
     },
     "execution_count": 2,
     "metadata": {},
     "output_type": "execute_result"
    }
   ],
   "source": [
    "# Add a datetime column based on the string in the 'date' column\n",
    "df['datetime'] = pd.to_datetime(df['date'])\n",
    "df.info()\n",
    "df.head(3)"
   ]
  },
  {
   "cell_type": "markdown",
   "id": "790c7858-1c1d-4376-a5ea-d35b78ac3984",
   "metadata": {},
   "source": [
    "- Although the 'date' and 'datetime' columns appear to have the same information, it is stored differently."
   ]
  },
  {
   "cell_type": "code",
   "execution_count": 3,
   "id": "5645255f-f410-48e3-a0ca-097e742c8005",
   "metadata": {},
   "outputs": [
    {
     "data": {
      "text/plain": [
       "'2013-01-01'"
      ]
     },
     "execution_count": 3,
     "metadata": {},
     "output_type": "execute_result"
    }
   ],
   "source": [
    "# Preview first row from the date column (string)\n",
    "df.loc[0, 'date']"
   ]
  },
  {
   "cell_type": "code",
   "execution_count": 4,
   "id": "f3dca56f-7841-4756-9583-625f583c2d96",
   "metadata": {},
   "outputs": [
    {
     "data": {
      "text/plain": [
       "Timestamp('2013-01-01 00:00:00')"
      ]
     },
     "execution_count": 4,
     "metadata": {},
     "output_type": "execute_result"
    }
   ],
   "source": [
    "# Preview first row from the datetime column (datetime64[ns])\n",
    "df.loc[0, 'datetime']"
   ]
  },
  {
   "cell_type": "code",
   "execution_count": 6,
   "id": "90438a29-9e93-4f84-8360-2e571e213034",
   "metadata": {},
   "outputs": [
    {
     "data": {
      "text/plain": [
       "'January 01, 2013'"
      ]
     },
     "execution_count": 6,
     "metadata": {},
     "output_type": "execute_result"
    }
   ],
   "source": [
    "# Demonstrate format codes\n",
    "# If we wanted 'January 01, 2013' we would use the format '%B %d, %Y'\n",
    "fmt = '%B %d, %Y'\n",
    "df.loc[0, 'datetime'].strftime(fmt)"
   ]
  },
  {
   "cell_type": "markdown",
   "id": "956e9b93-fdb2-4437-81ea-34e1f54f3c5e",
   "metadata": {},
   "source": [
    "**Using the .dt. accessor for a datetime column**\n",
    "- Similar to using .str to access string methods, we can use .dt for datetime columns"
   ]
  },
  {
   "cell_type": "code",
   "execution_count": 7,
   "id": "d748b81a-052d-4fb7-86b6-cbeeb4a3ebc8",
   "metadata": {},
   "outputs": [
    {
     "data": {
      "text/plain": [
       "0        January 01, 2013\n",
       "1        January 02, 2013\n",
       "2        January 03, 2013\n",
       "3        January 04, 2013\n",
       "4        January 05, 2013\n",
       "              ...        \n",
       "1457    December 28, 2016\n",
       "1458    December 29, 2016\n",
       "1459    December 30, 2016\n",
       "1460    December 31, 2016\n",
       "1461     January 01, 2017\n",
       "Name: datetime_fmt, Length: 1462, dtype: object"
      ]
     },
     "execution_count": 7,
     "metadata": {},
     "output_type": "execute_result"
    }
   ],
   "source": [
    "df['datetime_fmt'] = df['datetime'].dt.strftime(fmt)\n",
    "df['datetime_fmt']"
   ]
  },
  {
   "cell_type": "markdown",
   "id": "c907511b-4052-432e-b294-de055e4c829d",
   "metadata": {},
   "source": [
    "- Note that .dt.strftime returns a str, not a datetime column\n",
    "- This limitation is fine when simply displaying a column, but when working with the features of a datetime column we must accept the default formatting. However, the formatting is very flexible."
   ]
  },
  {
   "cell_type": "markdown",
   "id": "1a4d22a2-1783-4c24-9cc1-4287326dc9ac",
   "metadata": {},
   "source": [
    "**.dt.year/month/day/etc.**"
   ]
  },
  {
   "cell_type": "code",
   "execution_count": 9,
   "id": "3e7b0778-656d-4b41-81bd-e9ad8c8ce5f3",
   "metadata": {},
   "outputs": [
    {
     "data": {
      "text/plain": [
       "0    2013\n",
       "1    2013\n",
       "2    2013\n",
       "3    2013\n",
       "4    2013\n",
       "Name: datetime, dtype: int64"
      ]
     },
     "execution_count": 9,
     "metadata": {},
     "output_type": "execute_result"
    }
   ],
   "source": [
    "df['datetime'].dt.year.head()"
   ]
  },
  {
   "cell_type": "code",
   "execution_count": 11,
   "id": "26e3e246-4bf3-4d80-936f-f2669a7bd214",
   "metadata": {},
   "outputs": [
    {
     "data": {
      "text/plain": [
       "0    1\n",
       "1    1\n",
       "2    1\n",
       "3    1\n",
       "4    1\n",
       "Name: datetime, dtype: int64"
      ]
     },
     "execution_count": 11,
     "metadata": {},
     "output_type": "execute_result"
    }
   ],
   "source": [
    "df['datetime'].dt.month.head()"
   ]
  },
  {
   "cell_type": "code",
   "execution_count": 12,
   "id": "6ed596fd-9bc1-4d59-a324-b79b027e0036",
   "metadata": {},
   "outputs": [
    {
     "data": {
      "text/plain": [
       "0    1\n",
       "1    1\n",
       "2    1\n",
       "3    1\n",
       "4    1\n",
       "Name: datetime, dtype: int64"
      ]
     },
     "execution_count": 12,
     "metadata": {},
     "output_type": "execute_result"
    }
   ],
   "source": [
    "df['datetime'].dt.quarter.head()"
   ]
  },
  {
   "cell_type": "code",
   "execution_count": 13,
   "id": "11524403-65a5-4b37-afb8-5f86483c82ca",
   "metadata": {},
   "outputs": [
    {
     "data": {
      "text/plain": [
       "0      Tuesday\n",
       "1    Wednesday\n",
       "2     Thursday\n",
       "3       Friday\n",
       "4     Saturday\n",
       "Name: datetime, dtype: object"
      ]
     },
     "execution_count": 13,
     "metadata": {},
     "output_type": "execute_result"
    }
   ],
   "source": [
    "df['datetime'].dt.day_name().head()"
   ]
  },
  {
   "cell_type": "markdown",
   "id": "dc090353-9753-4ba2-bc79-f3da9b425472",
   "metadata": {},
   "source": [
    "## Setting a datetime index"
   ]
  },
  {
   "cell_type": "code",
   "execution_count": 14,
   "id": "393d2dd8-5c82-4bf9-ad75-3d99db5af052",
   "metadata": {},
   "outputs": [
    {
     "data": {
      "text/html": [
       "<div>\n",
       "<style scoped>\n",
       "    .dataframe tbody tr th:only-of-type {\n",
       "        vertical-align: middle;\n",
       "    }\n",
       "\n",
       "    .dataframe tbody tr th {\n",
       "        vertical-align: top;\n",
       "    }\n",
       "\n",
       "    .dataframe thead th {\n",
       "        text-align: right;\n",
       "    }\n",
       "</style>\n",
       "<table border=\"1\" class=\"dataframe\">\n",
       "  <thead>\n",
       "    <tr style=\"text-align: right;\">\n",
       "      <th></th>\n",
       "      <th>date</th>\n",
       "      <th>meantemp</th>\n",
       "      <th>humidity</th>\n",
       "      <th>wind_speed</th>\n",
       "      <th>meanpressure</th>\n",
       "      <th>datetime_fmt</th>\n",
       "    </tr>\n",
       "    <tr>\n",
       "      <th>datetime</th>\n",
       "      <th></th>\n",
       "      <th></th>\n",
       "      <th></th>\n",
       "      <th></th>\n",
       "      <th></th>\n",
       "      <th></th>\n",
       "    </tr>\n",
       "  </thead>\n",
       "  <tbody>\n",
       "    <tr>\n",
       "      <th>2013-01-01</th>\n",
       "      <td>2013-01-01</td>\n",
       "      <td>10.000000</td>\n",
       "      <td>84.500000</td>\n",
       "      <td>0.000000</td>\n",
       "      <td>1015.666667</td>\n",
       "      <td>January 01, 2013</td>\n",
       "    </tr>\n",
       "    <tr>\n",
       "      <th>2013-01-02</th>\n",
       "      <td>2013-01-02</td>\n",
       "      <td>7.400000</td>\n",
       "      <td>92.000000</td>\n",
       "      <td>2.980000</td>\n",
       "      <td>1017.800000</td>\n",
       "      <td>January 02, 2013</td>\n",
       "    </tr>\n",
       "    <tr>\n",
       "      <th>2013-01-03</th>\n",
       "      <td>2013-01-03</td>\n",
       "      <td>7.166667</td>\n",
       "      <td>87.000000</td>\n",
       "      <td>4.633333</td>\n",
       "      <td>1018.666667</td>\n",
       "      <td>January 03, 2013</td>\n",
       "    </tr>\n",
       "    <tr>\n",
       "      <th>2013-01-04</th>\n",
       "      <td>2013-01-04</td>\n",
       "      <td>8.666667</td>\n",
       "      <td>71.333333</td>\n",
       "      <td>1.233333</td>\n",
       "      <td>1017.166667</td>\n",
       "      <td>January 04, 2013</td>\n",
       "    </tr>\n",
       "    <tr>\n",
       "      <th>2013-01-05</th>\n",
       "      <td>2013-01-05</td>\n",
       "      <td>6.000000</td>\n",
       "      <td>86.833333</td>\n",
       "      <td>3.700000</td>\n",
       "      <td>1016.500000</td>\n",
       "      <td>January 05, 2013</td>\n",
       "    </tr>\n",
       "    <tr>\n",
       "      <th>...</th>\n",
       "      <td>...</td>\n",
       "      <td>...</td>\n",
       "      <td>...</td>\n",
       "      <td>...</td>\n",
       "      <td>...</td>\n",
       "      <td>...</td>\n",
       "    </tr>\n",
       "    <tr>\n",
       "      <th>2016-12-28</th>\n",
       "      <td>2016-12-28</td>\n",
       "      <td>17.217391</td>\n",
       "      <td>68.043478</td>\n",
       "      <td>3.547826</td>\n",
       "      <td>1015.565217</td>\n",
       "      <td>December 28, 2016</td>\n",
       "    </tr>\n",
       "    <tr>\n",
       "      <th>2016-12-29</th>\n",
       "      <td>2016-12-29</td>\n",
       "      <td>15.238095</td>\n",
       "      <td>87.857143</td>\n",
       "      <td>6.000000</td>\n",
       "      <td>1016.904762</td>\n",
       "      <td>December 29, 2016</td>\n",
       "    </tr>\n",
       "    <tr>\n",
       "      <th>2016-12-30</th>\n",
       "      <td>2016-12-30</td>\n",
       "      <td>14.095238</td>\n",
       "      <td>89.666667</td>\n",
       "      <td>6.266667</td>\n",
       "      <td>1017.904762</td>\n",
       "      <td>December 30, 2016</td>\n",
       "    </tr>\n",
       "    <tr>\n",
       "      <th>2016-12-31</th>\n",
       "      <td>2016-12-31</td>\n",
       "      <td>15.052632</td>\n",
       "      <td>87.000000</td>\n",
       "      <td>7.325000</td>\n",
       "      <td>1016.100000</td>\n",
       "      <td>December 31, 2016</td>\n",
       "    </tr>\n",
       "    <tr>\n",
       "      <th>2017-01-01</th>\n",
       "      <td>2017-01-01</td>\n",
       "      <td>10.000000</td>\n",
       "      <td>100.000000</td>\n",
       "      <td>0.000000</td>\n",
       "      <td>1016.000000</td>\n",
       "      <td>January 01, 2017</td>\n",
       "    </tr>\n",
       "  </tbody>\n",
       "</table>\n",
       "<p>1462 rows × 6 columns</p>\n",
       "</div>"
      ],
      "text/plain": [
       "                  date   meantemp    humidity  wind_speed  meanpressure  \\\n",
       "datetime                                                                  \n",
       "2013-01-01  2013-01-01  10.000000   84.500000    0.000000   1015.666667   \n",
       "2013-01-02  2013-01-02   7.400000   92.000000    2.980000   1017.800000   \n",
       "2013-01-03  2013-01-03   7.166667   87.000000    4.633333   1018.666667   \n",
       "2013-01-04  2013-01-04   8.666667   71.333333    1.233333   1017.166667   \n",
       "2013-01-05  2013-01-05   6.000000   86.833333    3.700000   1016.500000   \n",
       "...                ...        ...         ...         ...           ...   \n",
       "2016-12-28  2016-12-28  17.217391   68.043478    3.547826   1015.565217   \n",
       "2016-12-29  2016-12-29  15.238095   87.857143    6.000000   1016.904762   \n",
       "2016-12-30  2016-12-30  14.095238   89.666667    6.266667   1017.904762   \n",
       "2016-12-31  2016-12-31  15.052632   87.000000    7.325000   1016.100000   \n",
       "2017-01-01  2017-01-01  10.000000  100.000000    0.000000   1016.000000   \n",
       "\n",
       "                 datetime_fmt  \n",
       "datetime                       \n",
       "2013-01-01   January 01, 2013  \n",
       "2013-01-02   January 02, 2013  \n",
       "2013-01-03   January 03, 2013  \n",
       "2013-01-04   January 04, 2013  \n",
       "2013-01-05   January 05, 2013  \n",
       "...                       ...  \n",
       "2016-12-28  December 28, 2016  \n",
       "2016-12-29  December 29, 2016  \n",
       "2016-12-30  December 30, 2016  \n",
       "2016-12-31  December 31, 2016  \n",
       "2017-01-01   January 01, 2017  \n",
       "\n",
       "[1462 rows x 6 columns]"
      ]
     },
     "execution_count": 14,
     "metadata": {},
     "output_type": "execute_result"
    }
   ],
   "source": [
    "# Before we can begin slicing our data using the datetime object, we must make it the index\n",
    "df = df.set_index('datetime')\n",
    "df"
   ]
  },
  {
   "cell_type": "code",
   "execution_count": 15,
   "id": "3c9b8c3e-3c91-4ec6-ae89-87430c7e8ac6",
   "metadata": {},
   "outputs": [
    {
     "data": {
      "text/plain": [
       "DatetimeIndex(['2013-01-01', '2013-01-02', '2013-01-03', '2013-01-04',\n",
       "               '2013-01-05', '2013-01-06', '2013-01-07', '2013-01-08',\n",
       "               '2013-01-09', '2013-01-10',\n",
       "               ...\n",
       "               '2016-12-23', '2016-12-24', '2016-12-25', '2016-12-26',\n",
       "               '2016-12-27', '2016-12-28', '2016-12-29', '2016-12-30',\n",
       "               '2016-12-31', '2017-01-01'],\n",
       "              dtype='datetime64[ns]', name='datetime', length=1462, freq=None)"
      ]
     },
     "execution_count": 15,
     "metadata": {},
     "output_type": "execute_result"
    }
   ],
   "source": [
    "df.index"
   ]
  },
  {
   "cell_type": "markdown",
   "id": "f6229910-e1e1-4e8b-94ed-17023a98f500",
   "metadata": {},
   "source": [
    "## Slicing a time series with Pandas"
   ]
  },
  {
   "cell_type": "code",
   "execution_count": 17,
   "id": "1fe2ab98-1bef-4b79-8443-cb3fdf51f3f0",
   "metadata": {},
   "outputs": [
    {
     "data": {
      "text/html": [
       "<div>\n",
       "<style scoped>\n",
       "    .dataframe tbody tr th:only-of-type {\n",
       "        vertical-align: middle;\n",
       "    }\n",
       "\n",
       "    .dataframe tbody tr th {\n",
       "        vertical-align: top;\n",
       "    }\n",
       "\n",
       "    .dataframe thead th {\n",
       "        text-align: right;\n",
       "    }\n",
       "</style>\n",
       "<table border=\"1\" class=\"dataframe\">\n",
       "  <thead>\n",
       "    <tr style=\"text-align: right;\">\n",
       "      <th></th>\n",
       "      <th>date</th>\n",
       "      <th>meantemp</th>\n",
       "      <th>humidity</th>\n",
       "      <th>wind_speed</th>\n",
       "      <th>meanpressure</th>\n",
       "      <th>datetime_fmt</th>\n",
       "    </tr>\n",
       "    <tr>\n",
       "      <th>datetime</th>\n",
       "      <th></th>\n",
       "      <th></th>\n",
       "      <th></th>\n",
       "      <th></th>\n",
       "      <th></th>\n",
       "      <th></th>\n",
       "    </tr>\n",
       "  </thead>\n",
       "  <tbody>\n",
       "    <tr>\n",
       "      <th>2013-01-01</th>\n",
       "      <td>2013-01-01</td>\n",
       "      <td>10.000000</td>\n",
       "      <td>84.500000</td>\n",
       "      <td>0.000000</td>\n",
       "      <td>1015.666667</td>\n",
       "      <td>January 01, 2013</td>\n",
       "    </tr>\n",
       "    <tr>\n",
       "      <th>2013-01-02</th>\n",
       "      <td>2013-01-02</td>\n",
       "      <td>7.400000</td>\n",
       "      <td>92.000000</td>\n",
       "      <td>2.980000</td>\n",
       "      <td>1017.800000</td>\n",
       "      <td>January 02, 2013</td>\n",
       "    </tr>\n",
       "    <tr>\n",
       "      <th>2013-01-03</th>\n",
       "      <td>2013-01-03</td>\n",
       "      <td>7.166667</td>\n",
       "      <td>87.000000</td>\n",
       "      <td>4.633333</td>\n",
       "      <td>1018.666667</td>\n",
       "      <td>January 03, 2013</td>\n",
       "    </tr>\n",
       "    <tr>\n",
       "      <th>2013-01-04</th>\n",
       "      <td>2013-01-04</td>\n",
       "      <td>8.666667</td>\n",
       "      <td>71.333333</td>\n",
       "      <td>1.233333</td>\n",
       "      <td>1017.166667</td>\n",
       "      <td>January 04, 2013</td>\n",
       "    </tr>\n",
       "    <tr>\n",
       "      <th>2013-01-05</th>\n",
       "      <td>2013-01-05</td>\n",
       "      <td>6.000000</td>\n",
       "      <td>86.833333</td>\n",
       "      <td>3.700000</td>\n",
       "      <td>1016.500000</td>\n",
       "      <td>January 05, 2013</td>\n",
       "    </tr>\n",
       "    <tr>\n",
       "      <th>...</th>\n",
       "      <td>...</td>\n",
       "      <td>...</td>\n",
       "      <td>...</td>\n",
       "      <td>...</td>\n",
       "      <td>...</td>\n",
       "      <td>...</td>\n",
       "    </tr>\n",
       "    <tr>\n",
       "      <th>2013-12-27</th>\n",
       "      <td>2013-12-27</td>\n",
       "      <td>11.875000</td>\n",
       "      <td>79.875000</td>\n",
       "      <td>1.162500</td>\n",
       "      <td>1018.625000</td>\n",
       "      <td>December 27, 2013</td>\n",
       "    </tr>\n",
       "    <tr>\n",
       "      <th>2013-12-28</th>\n",
       "      <td>2013-12-28</td>\n",
       "      <td>10.875000</td>\n",
       "      <td>70.000000</td>\n",
       "      <td>5.325000</td>\n",
       "      <td>1019.250000</td>\n",
       "      <td>December 28, 2013</td>\n",
       "    </tr>\n",
       "    <tr>\n",
       "      <th>2013-12-29</th>\n",
       "      <td>2013-12-29</td>\n",
       "      <td>10.571429</td>\n",
       "      <td>69.428571</td>\n",
       "      <td>5.325000</td>\n",
       "      <td>1018.500000</td>\n",
       "      <td>December 29, 2013</td>\n",
       "    </tr>\n",
       "    <tr>\n",
       "      <th>2013-12-30</th>\n",
       "      <td>2013-12-30</td>\n",
       "      <td>12.375000</td>\n",
       "      <td>79.500000</td>\n",
       "      <td>6.475000</td>\n",
       "      <td>1018.125000</td>\n",
       "      <td>December 30, 2013</td>\n",
       "    </tr>\n",
       "    <tr>\n",
       "      <th>2013-12-31</th>\n",
       "      <td>2013-12-31</td>\n",
       "      <td>14.500000</td>\n",
       "      <td>89.375000</td>\n",
       "      <td>4.862500</td>\n",
       "      <td>1020.500000</td>\n",
       "      <td>December 31, 2013</td>\n",
       "    </tr>\n",
       "  </tbody>\n",
       "</table>\n",
       "<p>365 rows × 6 columns</p>\n",
       "</div>"
      ],
      "text/plain": [
       "                  date   meantemp   humidity  wind_speed  meanpressure  \\\n",
       "datetime                                                                 \n",
       "2013-01-01  2013-01-01  10.000000  84.500000    0.000000   1015.666667   \n",
       "2013-01-02  2013-01-02   7.400000  92.000000    2.980000   1017.800000   \n",
       "2013-01-03  2013-01-03   7.166667  87.000000    4.633333   1018.666667   \n",
       "2013-01-04  2013-01-04   8.666667  71.333333    1.233333   1017.166667   \n",
       "2013-01-05  2013-01-05   6.000000  86.833333    3.700000   1016.500000   \n",
       "...                ...        ...        ...         ...           ...   \n",
       "2013-12-27  2013-12-27  11.875000  79.875000    1.162500   1018.625000   \n",
       "2013-12-28  2013-12-28  10.875000  70.000000    5.325000   1019.250000   \n",
       "2013-12-29  2013-12-29  10.571429  69.428571    5.325000   1018.500000   \n",
       "2013-12-30  2013-12-30  12.375000  79.500000    6.475000   1018.125000   \n",
       "2013-12-31  2013-12-31  14.500000  89.375000    4.862500   1020.500000   \n",
       "\n",
       "                 datetime_fmt  \n",
       "datetime                       \n",
       "2013-01-01   January 01, 2013  \n",
       "2013-01-02   January 02, 2013  \n",
       "2013-01-03   January 03, 2013  \n",
       "2013-01-04   January 04, 2013  \n",
       "2013-01-05   January 05, 2013  \n",
       "...                       ...  \n",
       "2013-12-27  December 27, 2013  \n",
       "2013-12-28  December 28, 2013  \n",
       "2013-12-29  December 29, 2013  \n",
       "2013-12-30  December 30, 2013  \n",
       "2013-12-31  December 31, 2013  \n",
       "\n",
       "[365 rows x 6 columns]"
      ]
     },
     "execution_count": 17,
     "metadata": {},
     "output_type": "execute_result"
    }
   ],
   "source": [
    "# Pandas is very flexible when using .loc with datetime objects\n",
    "# For example we can select any row with the year 2013\n",
    "df.loc['2013']"
   ]
  },
  {
   "cell_type": "code",
   "execution_count": 18,
   "id": "fc45f1f4-a147-47e6-bf64-1a1530a2ff62",
   "metadata": {},
   "outputs": [
    {
     "data": {
      "text/html": [
       "<div>\n",
       "<style scoped>\n",
       "    .dataframe tbody tr th:only-of-type {\n",
       "        vertical-align: middle;\n",
       "    }\n",
       "\n",
       "    .dataframe tbody tr th {\n",
       "        vertical-align: top;\n",
       "    }\n",
       "\n",
       "    .dataframe thead th {\n",
       "        text-align: right;\n",
       "    }\n",
       "</style>\n",
       "<table border=\"1\" class=\"dataframe\">\n",
       "  <thead>\n",
       "    <tr style=\"text-align: right;\">\n",
       "      <th></th>\n",
       "      <th>date</th>\n",
       "      <th>meantemp</th>\n",
       "      <th>humidity</th>\n",
       "      <th>wind_speed</th>\n",
       "      <th>meanpressure</th>\n",
       "      <th>datetime_fmt</th>\n",
       "    </tr>\n",
       "    <tr>\n",
       "      <th>datetime</th>\n",
       "      <th></th>\n",
       "      <th></th>\n",
       "      <th></th>\n",
       "      <th></th>\n",
       "      <th></th>\n",
       "      <th></th>\n",
       "    </tr>\n",
       "  </thead>\n",
       "  <tbody>\n",
       "    <tr>\n",
       "      <th>2013-01-01</th>\n",
       "      <td>2013-01-01</td>\n",
       "      <td>10.000000</td>\n",
       "      <td>84.500000</td>\n",
       "      <td>0.000000</td>\n",
       "      <td>1015.666667</td>\n",
       "      <td>January 01, 2013</td>\n",
       "    </tr>\n",
       "    <tr>\n",
       "      <th>2013-01-02</th>\n",
       "      <td>2013-01-02</td>\n",
       "      <td>7.400000</td>\n",
       "      <td>92.000000</td>\n",
       "      <td>2.980000</td>\n",
       "      <td>1017.800000</td>\n",
       "      <td>January 02, 2013</td>\n",
       "    </tr>\n",
       "    <tr>\n",
       "      <th>2013-01-03</th>\n",
       "      <td>2013-01-03</td>\n",
       "      <td>7.166667</td>\n",
       "      <td>87.000000</td>\n",
       "      <td>4.633333</td>\n",
       "      <td>1018.666667</td>\n",
       "      <td>January 03, 2013</td>\n",
       "    </tr>\n",
       "    <tr>\n",
       "      <th>2013-01-04</th>\n",
       "      <td>2013-01-04</td>\n",
       "      <td>8.666667</td>\n",
       "      <td>71.333333</td>\n",
       "      <td>1.233333</td>\n",
       "      <td>1017.166667</td>\n",
       "      <td>January 04, 2013</td>\n",
       "    </tr>\n",
       "    <tr>\n",
       "      <th>2013-01-05</th>\n",
       "      <td>2013-01-05</td>\n",
       "      <td>6.000000</td>\n",
       "      <td>86.833333</td>\n",
       "      <td>3.700000</td>\n",
       "      <td>1016.500000</td>\n",
       "      <td>January 05, 2013</td>\n",
       "    </tr>\n",
       "    <tr>\n",
       "      <th>...</th>\n",
       "      <td>...</td>\n",
       "      <td>...</td>\n",
       "      <td>...</td>\n",
       "      <td>...</td>\n",
       "      <td>...</td>\n",
       "      <td>...</td>\n",
       "    </tr>\n",
       "    <tr>\n",
       "      <th>2014-12-27</th>\n",
       "      <td>2014-12-27</td>\n",
       "      <td>10.375000</td>\n",
       "      <td>69.000000</td>\n",
       "      <td>2.775000</td>\n",
       "      <td>1018.625000</td>\n",
       "      <td>December 27, 2014</td>\n",
       "    </tr>\n",
       "    <tr>\n",
       "      <th>2014-12-28</th>\n",
       "      <td>2014-12-28</td>\n",
       "      <td>9.000000</td>\n",
       "      <td>86.000000</td>\n",
       "      <td>0.700000</td>\n",
       "      <td>1019.750000</td>\n",
       "      <td>December 28, 2014</td>\n",
       "    </tr>\n",
       "    <tr>\n",
       "      <th>2014-12-29</th>\n",
       "      <td>2014-12-29</td>\n",
       "      <td>11.125000</td>\n",
       "      <td>72.625000</td>\n",
       "      <td>1.387500</td>\n",
       "      <td>1017.250000</td>\n",
       "      <td>December 29, 2014</td>\n",
       "    </tr>\n",
       "    <tr>\n",
       "      <th>2014-12-30</th>\n",
       "      <td>2014-12-30</td>\n",
       "      <td>11.625000</td>\n",
       "      <td>70.625000</td>\n",
       "      <td>2.550000</td>\n",
       "      <td>1014.625000</td>\n",
       "      <td>December 30, 2014</td>\n",
       "    </tr>\n",
       "    <tr>\n",
       "      <th>2014-12-31</th>\n",
       "      <td>2014-12-31</td>\n",
       "      <td>12.375000</td>\n",
       "      <td>67.125000</td>\n",
       "      <td>2.787500</td>\n",
       "      <td>1016.875000</td>\n",
       "      <td>December 31, 2014</td>\n",
       "    </tr>\n",
       "  </tbody>\n",
       "</table>\n",
       "<p>730 rows × 6 columns</p>\n",
       "</div>"
      ],
      "text/plain": [
       "                  date   meantemp   humidity  wind_speed  meanpressure  \\\n",
       "datetime                                                                 \n",
       "2013-01-01  2013-01-01  10.000000  84.500000    0.000000   1015.666667   \n",
       "2013-01-02  2013-01-02   7.400000  92.000000    2.980000   1017.800000   \n",
       "2013-01-03  2013-01-03   7.166667  87.000000    4.633333   1018.666667   \n",
       "2013-01-04  2013-01-04   8.666667  71.333333    1.233333   1017.166667   \n",
       "2013-01-05  2013-01-05   6.000000  86.833333    3.700000   1016.500000   \n",
       "...                ...        ...        ...         ...           ...   \n",
       "2014-12-27  2014-12-27  10.375000  69.000000    2.775000   1018.625000   \n",
       "2014-12-28  2014-12-28   9.000000  86.000000    0.700000   1019.750000   \n",
       "2014-12-29  2014-12-29  11.125000  72.625000    1.387500   1017.250000   \n",
       "2014-12-30  2014-12-30  11.625000  70.625000    2.550000   1014.625000   \n",
       "2014-12-31  2014-12-31  12.375000  67.125000    2.787500   1016.875000   \n",
       "\n",
       "                 datetime_fmt  \n",
       "datetime                       \n",
       "2013-01-01   January 01, 2013  \n",
       "2013-01-02   January 02, 2013  \n",
       "2013-01-03   January 03, 2013  \n",
       "2013-01-04   January 04, 2013  \n",
       "2013-01-05   January 05, 2013  \n",
       "...                       ...  \n",
       "2014-12-27  December 27, 2014  \n",
       "2014-12-28  December 28, 2014  \n",
       "2014-12-29  December 29, 2014  \n",
       "2014-12-30  December 30, 2014  \n",
       "2014-12-31  December 31, 2014  \n",
       "\n",
       "[730 rows x 6 columns]"
      ]
     },
     "execution_count": 18,
     "metadata": {},
     "output_type": "execute_result"
    }
   ],
   "source": [
    "# We can also easily select a range of dates\n",
    "df.loc['2013':'2014']"
   ]
  },
  {
   "cell_type": "code",
   "execution_count": 19,
   "id": "7346e419-f95b-4623-8cb0-de8faeff2b0c",
   "metadata": {},
   "outputs": [
    {
     "data": {
      "text/html": [
       "<div>\n",
       "<style scoped>\n",
       "    .dataframe tbody tr th:only-of-type {\n",
       "        vertical-align: middle;\n",
       "    }\n",
       "\n",
       "    .dataframe tbody tr th {\n",
       "        vertical-align: top;\n",
       "    }\n",
       "\n",
       "    .dataframe thead th {\n",
       "        text-align: right;\n",
       "    }\n",
       "</style>\n",
       "<table border=\"1\" class=\"dataframe\">\n",
       "  <thead>\n",
       "    <tr style=\"text-align: right;\">\n",
       "      <th></th>\n",
       "      <th>date</th>\n",
       "      <th>meantemp</th>\n",
       "      <th>humidity</th>\n",
       "      <th>wind_speed</th>\n",
       "      <th>meanpressure</th>\n",
       "      <th>datetime_fmt</th>\n",
       "    </tr>\n",
       "    <tr>\n",
       "      <th>datetime</th>\n",
       "      <th></th>\n",
       "      <th></th>\n",
       "      <th></th>\n",
       "      <th></th>\n",
       "      <th></th>\n",
       "      <th></th>\n",
       "    </tr>\n",
       "  </thead>\n",
       "  <tbody>\n",
       "    <tr>\n",
       "      <th>2013-01-01</th>\n",
       "      <td>2013-01-01</td>\n",
       "      <td>10.000000</td>\n",
       "      <td>84.500000</td>\n",
       "      <td>0.000000</td>\n",
       "      <td>1015.666667</td>\n",
       "      <td>January 01, 2013</td>\n",
       "    </tr>\n",
       "    <tr>\n",
       "      <th>2013-01-02</th>\n",
       "      <td>2013-01-02</td>\n",
       "      <td>7.400000</td>\n",
       "      <td>92.000000</td>\n",
       "      <td>2.980000</td>\n",
       "      <td>1017.800000</td>\n",
       "      <td>January 02, 2013</td>\n",
       "    </tr>\n",
       "    <tr>\n",
       "      <th>2013-01-03</th>\n",
       "      <td>2013-01-03</td>\n",
       "      <td>7.166667</td>\n",
       "      <td>87.000000</td>\n",
       "      <td>4.633333</td>\n",
       "      <td>1018.666667</td>\n",
       "      <td>January 03, 2013</td>\n",
       "    </tr>\n",
       "    <tr>\n",
       "      <th>2013-01-04</th>\n",
       "      <td>2013-01-04</td>\n",
       "      <td>8.666667</td>\n",
       "      <td>71.333333</td>\n",
       "      <td>1.233333</td>\n",
       "      <td>1017.166667</td>\n",
       "      <td>January 04, 2013</td>\n",
       "    </tr>\n",
       "    <tr>\n",
       "      <th>2013-01-05</th>\n",
       "      <td>2013-01-05</td>\n",
       "      <td>6.000000</td>\n",
       "      <td>86.833333</td>\n",
       "      <td>3.700000</td>\n",
       "      <td>1016.500000</td>\n",
       "      <td>January 05, 2013</td>\n",
       "    </tr>\n",
       "    <tr>\n",
       "      <th>...</th>\n",
       "      <td>...</td>\n",
       "      <td>...</td>\n",
       "      <td>...</td>\n",
       "      <td>...</td>\n",
       "      <td>...</td>\n",
       "      <td>...</td>\n",
       "    </tr>\n",
       "    <tr>\n",
       "      <th>2014-06-26</th>\n",
       "      <td>2014-06-26</td>\n",
       "      <td>32.500000</td>\n",
       "      <td>60.375000</td>\n",
       "      <td>3.237500</td>\n",
       "      <td>1001.000000</td>\n",
       "      <td>June 26, 2014</td>\n",
       "    </tr>\n",
       "    <tr>\n",
       "      <th>2014-06-27</th>\n",
       "      <td>2014-06-27</td>\n",
       "      <td>34.750000</td>\n",
       "      <td>48.500000</td>\n",
       "      <td>9.487500</td>\n",
       "      <td>1001.625000</td>\n",
       "      <td>June 27, 2014</td>\n",
       "    </tr>\n",
       "    <tr>\n",
       "      <th>2014-06-28</th>\n",
       "      <td>2014-06-28</td>\n",
       "      <td>34.875000</td>\n",
       "      <td>49.000000</td>\n",
       "      <td>5.787500</td>\n",
       "      <td>999.375000</td>\n",
       "      <td>June 28, 2014</td>\n",
       "    </tr>\n",
       "    <tr>\n",
       "      <th>2014-06-29</th>\n",
       "      <td>2014-06-29</td>\n",
       "      <td>33.000000</td>\n",
       "      <td>57.750000</td>\n",
       "      <td>9.712500</td>\n",
       "      <td>997.750000</td>\n",
       "      <td>June 29, 2014</td>\n",
       "    </tr>\n",
       "    <tr>\n",
       "      <th>2014-06-30</th>\n",
       "      <td>2014-06-30</td>\n",
       "      <td>32.000000</td>\n",
       "      <td>67.750000</td>\n",
       "      <td>3.250000</td>\n",
       "      <td>997.500000</td>\n",
       "      <td>June 30, 2014</td>\n",
       "    </tr>\n",
       "  </tbody>\n",
       "</table>\n",
       "<p>546 rows × 6 columns</p>\n",
       "</div>"
      ],
      "text/plain": [
       "                  date   meantemp   humidity  wind_speed  meanpressure  \\\n",
       "datetime                                                                 \n",
       "2013-01-01  2013-01-01  10.000000  84.500000    0.000000   1015.666667   \n",
       "2013-01-02  2013-01-02   7.400000  92.000000    2.980000   1017.800000   \n",
       "2013-01-03  2013-01-03   7.166667  87.000000    4.633333   1018.666667   \n",
       "2013-01-04  2013-01-04   8.666667  71.333333    1.233333   1017.166667   \n",
       "2013-01-05  2013-01-05   6.000000  86.833333    3.700000   1016.500000   \n",
       "...                ...        ...        ...         ...           ...   \n",
       "2014-06-26  2014-06-26  32.500000  60.375000    3.237500   1001.000000   \n",
       "2014-06-27  2014-06-27  34.750000  48.500000    9.487500   1001.625000   \n",
       "2014-06-28  2014-06-28  34.875000  49.000000    5.787500    999.375000   \n",
       "2014-06-29  2014-06-29  33.000000  57.750000    9.712500    997.750000   \n",
       "2014-06-30  2014-06-30  32.000000  67.750000    3.250000    997.500000   \n",
       "\n",
       "                datetime_fmt  \n",
       "datetime                      \n",
       "2013-01-01  January 01, 2013  \n",
       "2013-01-02  January 02, 2013  \n",
       "2013-01-03  January 03, 2013  \n",
       "2013-01-04  January 04, 2013  \n",
       "2013-01-05  January 05, 2013  \n",
       "...                      ...  \n",
       "2014-06-26     June 26, 2014  \n",
       "2014-06-27     June 27, 2014  \n",
       "2014-06-28     June 28, 2014  \n",
       "2014-06-29     June 29, 2014  \n",
       "2014-06-30     June 30, 2014  \n",
       "\n",
       "[546 rows x 6 columns]"
      ]
     },
     "execution_count": 19,
     "metadata": {},
     "output_type": "execute_result"
    }
   ],
   "source": [
    "df.loc['2013':'06-2014']"
   ]
  },
  {
   "cell_type": "code",
   "execution_count": 22,
   "id": "d064f3f6-31d9-4663-be20-573dc1af0e65",
   "metadata": {},
   "outputs": [
    {
     "data": {
      "text/html": [
       "<div>\n",
       "<style scoped>\n",
       "    .dataframe tbody tr th:only-of-type {\n",
       "        vertical-align: middle;\n",
       "    }\n",
       "\n",
       "    .dataframe tbody tr th {\n",
       "        vertical-align: top;\n",
       "    }\n",
       "\n",
       "    .dataframe thead th {\n",
       "        text-align: right;\n",
       "    }\n",
       "</style>\n",
       "<table border=\"1\" class=\"dataframe\">\n",
       "  <thead>\n",
       "    <tr style=\"text-align: right;\">\n",
       "      <th></th>\n",
       "      <th>date</th>\n",
       "      <th>meantemp</th>\n",
       "      <th>humidity</th>\n",
       "      <th>wind_speed</th>\n",
       "      <th>meanpressure</th>\n",
       "      <th>datetime_fmt</th>\n",
       "    </tr>\n",
       "    <tr>\n",
       "      <th>datetime</th>\n",
       "      <th></th>\n",
       "      <th></th>\n",
       "      <th></th>\n",
       "      <th></th>\n",
       "      <th></th>\n",
       "      <th></th>\n",
       "    </tr>\n",
       "  </thead>\n",
       "  <tbody>\n",
       "    <tr>\n",
       "      <th>2013-03-01</th>\n",
       "      <td>2013-03-01</td>\n",
       "      <td>17.333333</td>\n",
       "      <td>49.333333</td>\n",
       "      <td>24.066667</td>\n",
       "      <td>1016.333333</td>\n",
       "      <td>March 01, 2013</td>\n",
       "    </tr>\n",
       "    <tr>\n",
       "      <th>2013-03-02</th>\n",
       "      <td>2013-03-02</td>\n",
       "      <td>19.000000</td>\n",
       "      <td>54.000000</td>\n",
       "      <td>15.725000</td>\n",
       "      <td>1016.250000</td>\n",
       "      <td>March 02, 2013</td>\n",
       "    </tr>\n",
       "    <tr>\n",
       "      <th>2013-03-03</th>\n",
       "      <td>2013-03-03</td>\n",
       "      <td>19.333333</td>\n",
       "      <td>62.833333</td>\n",
       "      <td>8.633333</td>\n",
       "      <td>1016.166667</td>\n",
       "      <td>March 03, 2013</td>\n",
       "    </tr>\n",
       "    <tr>\n",
       "      <th>2013-03-04</th>\n",
       "      <td>2013-03-04</td>\n",
       "      <td>17.600000</td>\n",
       "      <td>71.000000</td>\n",
       "      <td>5.560000</td>\n",
       "      <td>1015.800000</td>\n",
       "      <td>March 04, 2013</td>\n",
       "    </tr>\n",
       "    <tr>\n",
       "      <th>2013-03-05</th>\n",
       "      <td>2013-03-05</td>\n",
       "      <td>20.875000</td>\n",
       "      <td>61.875000</td>\n",
       "      <td>4.162500</td>\n",
       "      <td>1016.375000</td>\n",
       "      <td>March 05, 2013</td>\n",
       "    </tr>\n",
       "    <tr>\n",
       "      <th>...</th>\n",
       "      <td>...</td>\n",
       "      <td>...</td>\n",
       "      <td>...</td>\n",
       "      <td>...</td>\n",
       "      <td>...</td>\n",
       "      <td>...</td>\n",
       "    </tr>\n",
       "    <tr>\n",
       "      <th>2014-06-26</th>\n",
       "      <td>2014-06-26</td>\n",
       "      <td>32.500000</td>\n",
       "      <td>60.375000</td>\n",
       "      <td>3.237500</td>\n",
       "      <td>1001.000000</td>\n",
       "      <td>June 26, 2014</td>\n",
       "    </tr>\n",
       "    <tr>\n",
       "      <th>2014-06-27</th>\n",
       "      <td>2014-06-27</td>\n",
       "      <td>34.750000</td>\n",
       "      <td>48.500000</td>\n",
       "      <td>9.487500</td>\n",
       "      <td>1001.625000</td>\n",
       "      <td>June 27, 2014</td>\n",
       "    </tr>\n",
       "    <tr>\n",
       "      <th>2014-06-28</th>\n",
       "      <td>2014-06-28</td>\n",
       "      <td>34.875000</td>\n",
       "      <td>49.000000</td>\n",
       "      <td>5.787500</td>\n",
       "      <td>999.375000</td>\n",
       "      <td>June 28, 2014</td>\n",
       "    </tr>\n",
       "    <tr>\n",
       "      <th>2014-06-29</th>\n",
       "      <td>2014-06-29</td>\n",
       "      <td>33.000000</td>\n",
       "      <td>57.750000</td>\n",
       "      <td>9.712500</td>\n",
       "      <td>997.750000</td>\n",
       "      <td>June 29, 2014</td>\n",
       "    </tr>\n",
       "    <tr>\n",
       "      <th>2014-06-30</th>\n",
       "      <td>2014-06-30</td>\n",
       "      <td>32.000000</td>\n",
       "      <td>67.750000</td>\n",
       "      <td>3.250000</td>\n",
       "      <td>997.500000</td>\n",
       "      <td>June 30, 2014</td>\n",
       "    </tr>\n",
       "  </tbody>\n",
       "</table>\n",
       "<p>487 rows × 6 columns</p>\n",
       "</div>"
      ],
      "text/plain": [
       "                  date   meantemp   humidity  wind_speed  meanpressure  \\\n",
       "datetime                                                                 \n",
       "2013-03-01  2013-03-01  17.333333  49.333333   24.066667   1016.333333   \n",
       "2013-03-02  2013-03-02  19.000000  54.000000   15.725000   1016.250000   \n",
       "2013-03-03  2013-03-03  19.333333  62.833333    8.633333   1016.166667   \n",
       "2013-03-04  2013-03-04  17.600000  71.000000    5.560000   1015.800000   \n",
       "2013-03-05  2013-03-05  20.875000  61.875000    4.162500   1016.375000   \n",
       "...                ...        ...        ...         ...           ...   \n",
       "2014-06-26  2014-06-26  32.500000  60.375000    3.237500   1001.000000   \n",
       "2014-06-27  2014-06-27  34.750000  48.500000    9.487500   1001.625000   \n",
       "2014-06-28  2014-06-28  34.875000  49.000000    5.787500    999.375000   \n",
       "2014-06-29  2014-06-29  33.000000  57.750000    9.712500    997.750000   \n",
       "2014-06-30  2014-06-30  32.000000  67.750000    3.250000    997.500000   \n",
       "\n",
       "              datetime_fmt  \n",
       "datetime                    \n",
       "2013-03-01  March 01, 2013  \n",
       "2013-03-02  March 02, 2013  \n",
       "2013-03-03  March 03, 2013  \n",
       "2013-03-04  March 04, 2013  \n",
       "2013-03-05  March 05, 2013  \n",
       "...                    ...  \n",
       "2014-06-26   June 26, 2014  \n",
       "2014-06-27   June 27, 2014  \n",
       "2014-06-28   June 28, 2014  \n",
       "2014-06-29   June 29, 2014  \n",
       "2014-06-30   June 30, 2014  \n",
       "\n",
       "[487 rows x 6 columns]"
      ]
     },
     "execution_count": 22,
     "metadata": {},
     "output_type": "execute_result"
    }
   ],
   "source": [
    "# Pandas is even flexible enough to allow different date formats\n",
    "# (although this would be confusing in actual code and should be avoided)\n",
    "df.loc['March, 2013':'06-2014']"
   ]
  },
  {
   "cell_type": "markdown",
   "id": "c3f2d948-6925-42b2-9728-c4495956d17f",
   "metadata": {},
   "source": [
    "### Finding date of extreme values - using .idmax() and .idmin()"
   ]
  },
  {
   "cell_type": "markdown",
   "id": "60c68730-9e08-4ac4-b402-651b5157c32a",
   "metadata": {},
   "source": [
    "- Suppose we wanted to find info about the most humid day of the year and report it in a statement."
   ]
  },
  {
   "cell_type": "markdown",
   "id": "aca1200b-2b4f-450c-8652-693fb0e92641",
   "metadata": {},
   "source": [
    "**Method 1**"
   ]
  },
  {
   "cell_type": "code",
   "execution_count": 23,
   "id": "fd8629e0-5ebf-4ac6-bd45-7ac2215fd45b",
   "metadata": {},
   "outputs": [
    {
     "data": {
      "text/html": [
       "<div>\n",
       "<style scoped>\n",
       "    .dataframe tbody tr th:only-of-type {\n",
       "        vertical-align: middle;\n",
       "    }\n",
       "\n",
       "    .dataframe tbody tr th {\n",
       "        vertical-align: top;\n",
       "    }\n",
       "\n",
       "    .dataframe thead th {\n",
       "        text-align: right;\n",
       "    }\n",
       "</style>\n",
       "<table border=\"1\" class=\"dataframe\">\n",
       "  <thead>\n",
       "    <tr style=\"text-align: right;\">\n",
       "      <th></th>\n",
       "      <th>date</th>\n",
       "      <th>meantemp</th>\n",
       "      <th>humidity</th>\n",
       "      <th>wind_speed</th>\n",
       "      <th>meanpressure</th>\n",
       "      <th>datetime_fmt</th>\n",
       "    </tr>\n",
       "    <tr>\n",
       "      <th>datetime</th>\n",
       "      <th></th>\n",
       "      <th></th>\n",
       "      <th></th>\n",
       "      <th></th>\n",
       "      <th></th>\n",
       "      <th></th>\n",
       "    </tr>\n",
       "  </thead>\n",
       "  <tbody>\n",
       "    <tr>\n",
       "      <th>2017-01-01</th>\n",
       "      <td>2017-01-01</td>\n",
       "      <td>10.0</td>\n",
       "      <td>100.0</td>\n",
       "      <td>0.0</td>\n",
       "      <td>1016.0</td>\n",
       "      <td>January 01, 2017</td>\n",
       "    </tr>\n",
       "  </tbody>\n",
       "</table>\n",
       "</div>"
      ],
      "text/plain": [
       "                  date  meantemp  humidity  wind_speed  meanpressure  \\\n",
       "datetime                                                               \n",
       "2017-01-01  2017-01-01      10.0     100.0         0.0        1016.0   \n",
       "\n",
       "                datetime_fmt  \n",
       "datetime                      \n",
       "2017-01-01  January 01, 2017  "
      ]
     },
     "execution_count": 23,
     "metadata": {},
     "output_type": "execute_result"
    }
   ],
   "source": [
    "# Method 1 - Find max and filter (not recommended practice)\n",
    "max_humid = df['humidity'].max()\n",
    "most_humid_date = df.loc[ df['humidity']==max_humid]\n",
    "max_date = most_humid_date.index\n",
    "most_humid_date"
   ]
  },
  {
   "cell_type": "code",
   "execution_count": 26,
   "id": "59d8d0bd-c34c-4036-a279-49ee37768748",
   "metadata": {},
   "outputs": [
    {
     "name": "stdout",
     "output_type": "stream",
     "text": [
      "The most humid day was Index(['01/01/2017'], dtype='object', name='datetime'), which was a Index(['Sunday'], dtype='object', name='datetime').\n",
      " The humidity was 100.0, and the average temperature was datetime\n",
      "2017-01-01    10.0\n",
      "Name: meantemp, dtype: float64\n"
     ]
    }
   ],
   "source": [
    "# Printing an example statement\n",
    "print(f\"The most humid day was {max_date.strftime('%m/%d/%Y')}, which was a {max_date.day_name()}.\")\n",
    "print(f\" The humidity was {max_humid}, and the average temperature was {most_humid_date['meantemp']}\")"
   ]
  },
  {
   "cell_type": "markdown",
   "id": "7ee29bc0-fd28-44ed-85e7-01633253b562",
   "metadata": {},
   "source": [
    "- Even though we only had one row, we still recieve our data as a Pandas series."
   ]
  },
  {
   "cell_type": "markdown",
   "id": "2f01784e-7e5e-418d-a7ae-b7b424a2b857",
   "metadata": {},
   "source": [
    "**Method 2**"
   ]
  },
  {
   "cell_type": "code",
   "execution_count": 28,
   "id": "cc9badbe-d44d-43bb-82dd-d3224bccd6cf",
   "metadata": {},
   "outputs": [
    {
     "data": {
      "text/plain": [
       "Timestamp('2017-01-01 00:00:00')"
      ]
     },
     "execution_count": 28,
     "metadata": {},
     "output_type": "execute_result"
    }
   ],
   "source": [
    "# Method 2 - Using .idxmax() (recommended)\n",
    "max_date = df['humidity'].idxmax()\n",
    "max_date"
   ]
  },
  {
   "cell_type": "code",
   "execution_count": 29,
   "id": "562241a7-3e34-4d00-a9e2-26135c9a9d0d",
   "metadata": {},
   "outputs": [
    {
     "data": {
      "text/plain": [
       "date                  2017-01-01\n",
       "meantemp                    10.0\n",
       "humidity                   100.0\n",
       "wind_speed                   0.0\n",
       "meanpressure              1016.0\n",
       "datetime_fmt    January 01, 2017\n",
       "Name: 2017-01-01 00:00:00, dtype: object"
      ]
     },
     "execution_count": 29,
     "metadata": {},
     "output_type": "execute_result"
    }
   ],
   "source": [
    "df.loc[max_date]"
   ]
  },
  {
   "cell_type": "markdown",
   "id": "56329a88-6bf3-44ab-bc32-eb42dada699c",
   "metadata": {},
   "source": [
    "- The long/tedious way of accessing this information would be to save each piece of info as a variable while using df.loc to slice out the right feature"
   ]
  },
  {
   "cell_type": "code",
   "execution_count": 31,
   "id": "135048ae-f2ce-4e04-87e5-71cc39a0d159",
   "metadata": {},
   "outputs": [
    {
     "data": {
      "text/plain": [
       "('2017-01-01', 10.0, 100.0, 0.0, 1016.0)"
      ]
     },
     "execution_count": 31,
     "metadata": {},
     "output_type": "execute_result"
    }
   ],
   "source": [
    "# Saving each piece of info separately\n",
    "str_date = df.loc[max_date, 'date']\n",
    "temp = df.loc[max_date, 'meantemp']\n",
    "humidity = df.loc[max_date, 'humidity']\n",
    "wind = df.loc[max_date, 'wind_speed']\n",
    "pressure = df.loc[max_date, 'meanpressure']\n",
    "\n",
    "str_date, temp, humidity, wind, pressure"
   ]
  },
  {
   "cell_type": "markdown",
   "id": "76b10039-2357-41ff-8ef7-b6439251e82b",
   "metadata": {},
   "source": [
    "- Instead of doing this line by line, we can do it all at once using Python's tuple unpacking.\n",
    "- If we have a variable that contains several values, we can slice out each value into a new variable by setting a variable name for each variable we want to create on the left and the container of variables to unpack on the right."
   ]
  },
  {
   "cell_type": "code",
   "execution_count": 37,
   "id": "68a270e5-7e62-43be-9bde-6557a9a7c894",
   "metadata": {},
   "outputs": [
    {
     "data": {
      "text/plain": [
       "date                  2017-01-01\n",
       "meantemp                    10.0\n",
       "humidity                   100.0\n",
       "wind_speed                   0.0\n",
       "meanpressure              1016.0\n",
       "datetime_fmt    January 01, 2017\n",
       "Name: 2017-01-01 00:00:00, dtype: object"
      ]
     },
     "execution_count": 37,
     "metadata": {},
     "output_type": "execute_result"
    }
   ],
   "source": [
    "# Examine all columns to determine what to name variables\n",
    "df.loc[max_date]"
   ]
  },
  {
   "cell_type": "code",
   "execution_count": 35,
   "id": "e8a8ea31-f52c-4ac8-85b1-5589e294fab4",
   "metadata": {},
   "outputs": [
    {
     "data": {
      "text/plain": [
       "('2017-01-01', 10.0, 100.0, 0.0, 1016.0, 'January 01, 2017')"
      ]
     },
     "execution_count": 35,
     "metadata": {},
     "output_type": "execute_result"
    }
   ],
   "source": [
    "# Saving each value from the series as a separate variable\n",
    "str_date, temp, humidity, wind, pressure, datetime = df.loc[max_date]\n",
    "str_date, temp, humidity, wind, pressure, datetime"
   ]
  },
  {
   "cell_type": "code",
   "execution_count": 36,
   "id": "27650b07-2d74-4313-a77c-299e6b966eb2",
   "metadata": {},
   "outputs": [
    {
     "name": "stdout",
     "output_type": "stream",
     "text": [
      "The most humid day was 01/01/2017, which was a Sunday.\n",
      "The humidity was 100.00, and the average temperature was 10.00.\n"
     ]
    }
   ],
   "source": [
    "# Redo the printed statement from above\n",
    "print(f\"The most humid day was {max_date.strftime('%m/%d/%Y')}, \\\n",
    "which was a {max_date.day_name()}.\")\n",
    "print(f\"The humidity was {humidity:.2f}, and the average temperature was {temp:.2f}.\")"
   ]
  }
 ],
 "metadata": {
  "kernelspec": {
   "display_name": "Python 3 (ipykernel)",
   "language": "python",
   "name": "python3"
  },
  "language_info": {
   "codemirror_mode": {
    "name": "ipython",
    "version": 3
   },
   "file_extension": ".py",
   "mimetype": "text/x-python",
   "name": "python",
   "nbconvert_exporter": "python",
   "pygments_lexer": "ipython3",
   "version": "3.10.10"
  },
  "widgets": {
   "application/vnd.jupyter.widget-state+json": {
    "state": {},
    "version_major": 2,
    "version_minor": 0
   }
  }
 },
 "nbformat": 4,
 "nbformat_minor": 5
}
