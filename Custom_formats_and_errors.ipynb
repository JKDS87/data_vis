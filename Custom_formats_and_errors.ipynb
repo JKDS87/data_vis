{
 "cells": [
  {
   "cell_type": "markdown",
   "id": "3da2e7a0-b1c6-4a49-ad2d-1325586759fd",
   "metadata": {},
   "source": [
    "# Custom Formats and Errors"
   ]
  },
  {
   "cell_type": "markdown",
   "id": "94f81b6a-9a4f-4d33-9530-6dc43ce9ba2b",
   "metadata": {},
   "source": [
    "## Using pd.to_datetime with custom date formats"
   ]
  },
  {
   "cell_type": "markdown",
   "id": "11f52ba4-e623-4d08-97f4-d14923294bd1",
   "metadata": {},
   "source": [
    "- Although pd.to_datetime can typically convert datetimes without error, it will need some help with rarer date formats.\n",
    "- Format info can be passed along to help convert data properly."
   ]
  },
  {
   "cell_type": "code",
   "execution_count": 1,
   "id": "a85399fc-cff8-4de1-876a-17b4da6a3f4d",
   "metadata": {},
   "outputs": [
    {
     "name": "stdout",
     "output_type": "stream",
     "text": [
      "<class 'pandas.core.frame.DataFrame'>\n",
      "RangeIndex: 15341 entries, 0 to 15340\n",
      "Data columns (total 2 columns):\n",
      " #   Column       Non-Null Count  Dtype  \n",
      "---  ------       --------------  -----  \n",
      " 0   date         15341 non-null  int64  \n",
      " 1   cloud_cover  14938 non-null  float64\n",
      "dtypes: float64(1), int64(1)\n",
      "memory usage: 239.8 KB\n"
     ]
    },
    {
     "data": {
      "text/html": [
       "<div>\n",
       "<style scoped>\n",
       "    .dataframe tbody tr th:only-of-type {\n",
       "        vertical-align: middle;\n",
       "    }\n",
       "\n",
       "    .dataframe tbody tr th {\n",
       "        vertical-align: top;\n",
       "    }\n",
       "\n",
       "    .dataframe thead th {\n",
       "        text-align: right;\n",
       "    }\n",
       "</style>\n",
       "<table border=\"1\" class=\"dataframe\">\n",
       "  <thead>\n",
       "    <tr style=\"text-align: right;\">\n",
       "      <th></th>\n",
       "      <th>date</th>\n",
       "      <th>cloud_cover</th>\n",
       "    </tr>\n",
       "  </thead>\n",
       "  <tbody>\n",
       "    <tr>\n",
       "      <th>0</th>\n",
       "      <td>19790101</td>\n",
       "      <td>2.0</td>\n",
       "    </tr>\n",
       "    <tr>\n",
       "      <th>1</th>\n",
       "      <td>19790102</td>\n",
       "      <td>6.0</td>\n",
       "    </tr>\n",
       "    <tr>\n",
       "      <th>2</th>\n",
       "      <td>19790103</td>\n",
       "      <td>5.0</td>\n",
       "    </tr>\n",
       "    <tr>\n",
       "      <th>3</th>\n",
       "      <td>19790104</td>\n",
       "      <td>8.0</td>\n",
       "    </tr>\n",
       "    <tr>\n",
       "      <th>4</th>\n",
       "      <td>19790105</td>\n",
       "      <td>6.0</td>\n",
       "    </tr>\n",
       "    <tr>\n",
       "      <th>...</th>\n",
       "      <td>...</td>\n",
       "      <td>...</td>\n",
       "    </tr>\n",
       "    <tr>\n",
       "      <th>15336</th>\n",
       "      <td>20201227</td>\n",
       "      <td>1.0</td>\n",
       "    </tr>\n",
       "    <tr>\n",
       "      <th>15337</th>\n",
       "      <td>20201228</td>\n",
       "      <td>7.0</td>\n",
       "    </tr>\n",
       "    <tr>\n",
       "      <th>15338</th>\n",
       "      <td>20201229</td>\n",
       "      <td>7.0</td>\n",
       "    </tr>\n",
       "    <tr>\n",
       "      <th>15339</th>\n",
       "      <td>20201230</td>\n",
       "      <td>6.0</td>\n",
       "    </tr>\n",
       "    <tr>\n",
       "      <th>15340</th>\n",
       "      <td>20201231</td>\n",
       "      <td>7.0</td>\n",
       "    </tr>\n",
       "  </tbody>\n",
       "</table>\n",
       "<p>15341 rows × 2 columns</p>\n",
       "</div>"
      ],
      "text/plain": [
       "           date  cloud_cover\n",
       "0      19790101          2.0\n",
       "1      19790102          6.0\n",
       "2      19790103          5.0\n",
       "3      19790104          8.0\n",
       "4      19790105          6.0\n",
       "...         ...          ...\n",
       "15336  20201227          1.0\n",
       "15337  20201228          7.0\n",
       "15338  20201229          7.0\n",
       "15339  20201230          6.0\n",
       "15340  20201231          7.0\n",
       "\n",
       "[15341 rows x 2 columns]"
      ]
     },
     "execution_count": 1,
     "metadata": {},
     "output_type": "execute_result"
    }
   ],
   "source": [
    "import pandas as pd\n",
    "demo = pd.read_csv('https://docs.google.com/spreadsheets/d/e/2PACX-1vT_jChgNsQbHbg4TGepzIqk8XC9DTIKmyyxb1upo5cfZCgbfIUQc2ZC0YMzuU5uApP140Ob49KBjdqh/pub?gid=1198589591&single=true&output=csv', usecols=[0,1])\n",
    "demo.info()\n",
    "demo"
   ]
  },
  {
   "cell_type": "markdown",
   "id": "e22a13a2-715c-489c-b33b-179cd3a13b4e",
   "metadata": {},
   "source": [
    "- Let's attempt to convert this data using pd.to_datetime without any arguments"
   ]
  },
  {
   "cell_type": "code",
   "execution_count": 2,
   "id": "e57ce1e6-1656-4730-acfc-7194bfc3703f",
   "metadata": {},
   "outputs": [
    {
     "data": {
      "text/plain": [
       "0       1970-01-01 00:00:00.019790101\n",
       "1       1970-01-01 00:00:00.019790102\n",
       "2       1970-01-01 00:00:00.019790103\n",
       "3       1970-01-01 00:00:00.019790104\n",
       "4       1970-01-01 00:00:00.019790105\n",
       "                     ...             \n",
       "15336   1970-01-01 00:00:00.020201227\n",
       "15337   1970-01-01 00:00:00.020201228\n",
       "15338   1970-01-01 00:00:00.020201229\n",
       "15339   1970-01-01 00:00:00.020201230\n",
       "15340   1970-01-01 00:00:00.020201231\n",
       "Name: date, Length: 15341, dtype: datetime64[ns]"
      ]
     },
     "execution_count": 2,
     "metadata": {},
     "output_type": "execute_result"
    }
   ],
   "source": [
    "pd.to_datetime(demo['date'])"
   ]
  },
  {
   "cell_type": "markdown",
   "id": "81e66554-cc12-4067-abf0-8bfeb7fdf5b7",
   "metadata": {},
   "source": [
    "- We can see above it did not convert properly. Pandas attempted to convert as though the data was given in Unix times, which are a way of expressing date and times with just numbers. The earliest date available to be expressed this way is Jan 1, 1970.\n",
    "- This is a case where additional instructions must be passed when calling pd.to_datetime"
   ]
  },
  {
   "cell_type": "code",
   "execution_count": 3,
   "id": "bd82eb41-abe3-4465-bbe1-97a1f6c9cd9e",
   "metadata": {},
   "outputs": [
    {
     "data": {
      "text/plain": [
       "2745     19860708\n",
       "4415     19910202\n",
       "5421     19931104\n",
       "8436     20020205\n",
       "9635     20050519\n",
       "9683     20050706\n",
       "12903    20140430\n",
       "13091    20141104\n",
       "14619    20190110\n",
       "15238    20200920\n",
       "Name: date, dtype: int64"
      ]
     },
     "execution_count": 3,
     "metadata": {},
     "output_type": "execute_result"
    }
   ],
   "source": [
    "# Display a random sample to asses the original data\n",
    "demo['date'].sample(n=10).sort_index()"
   ]
  },
  {
   "cell_type": "markdown",
   "id": "44fa3e8a-bcea-4352-b1e1-ca55047c1abb",
   "metadata": {},
   "source": [
    "- We have a 4-digit year, 2-digit month, and 2-digit day.\n",
    "- Once we have our original format, we can create a format string to use for conversion.\n",
    "- Our format string will be '%Y%m%d'"
   ]
  },
  {
   "cell_type": "code",
   "execution_count": 4,
   "id": "33b40919-141a-4e8e-a7cf-696170e99e82",
   "metadata": {},
   "outputs": [
    {
     "data": {
      "text/plain": [
       "0       1979-01-01\n",
       "1       1979-01-02\n",
       "2       1979-01-03\n",
       "3       1979-01-04\n",
       "4       1979-01-05\n",
       "           ...    \n",
       "15336   2020-12-27\n",
       "15337   2020-12-28\n",
       "15338   2020-12-29\n",
       "15339   2020-12-30\n",
       "15340   2020-12-31\n",
       "Name: date, Length: 15341, dtype: datetime64[ns]"
      ]
     },
     "execution_count": 4,
     "metadata": {},
     "output_type": "execute_result"
    }
   ],
   "source": [
    "pd.to_datetime(demo['date'], format='%Y%m%d')"
   ]
  },
  {
   "cell_type": "markdown",
   "id": "c7eaba27-05cc-4e21-a3a5-183dbcb58dcf",
   "metadata": {},
   "source": [
    "## Handling pd.to_datetime errors"
   ]
  },
  {
   "cell_type": "code",
   "execution_count": 5,
   "id": "ea7402b2-ec09-46d6-b3d1-5b6e4fb0ef3d",
   "metadata": {},
   "outputs": [
    {
     "data": {
      "text/html": [
       "<div>\n",
       "<style scoped>\n",
       "    .dataframe tbody tr th:only-of-type {\n",
       "        vertical-align: middle;\n",
       "    }\n",
       "\n",
       "    .dataframe tbody tr th {\n",
       "        vertical-align: top;\n",
       "    }\n",
       "\n",
       "    .dataframe thead th {\n",
       "        text-align: right;\n",
       "    }\n",
       "</style>\n",
       "<table border=\"1\" class=\"dataframe\">\n",
       "  <thead>\n",
       "    <tr style=\"text-align: right;\">\n",
       "      <th></th>\n",
       "      <th>CrimeDateTime</th>\n",
       "      <th>Description</th>\n",
       "      <th>District</th>\n",
       "      <th>Latitude</th>\n",
       "      <th>Longitude</th>\n",
       "    </tr>\n",
       "  </thead>\n",
       "  <tbody>\n",
       "    <tr>\n",
       "      <th>0</th>\n",
       "      <td>2022/07/09 09:30:00+00</td>\n",
       "      <td>ROBBERY - RESIDENCE</td>\n",
       "      <td>NORTHEAST</td>\n",
       "      <td>39.3223</td>\n",
       "      <td>-76.5467</td>\n",
       "    </tr>\n",
       "    <tr>\n",
       "      <th>1</th>\n",
       "      <td>2022/07/09 16:00:00+00</td>\n",
       "      <td>COMMON ASSAULT</td>\n",
       "      <td>SOUTHERN</td>\n",
       "      <td>39.2821</td>\n",
       "      <td>-76.6355</td>\n",
       "    </tr>\n",
       "    <tr>\n",
       "      <th>2</th>\n",
       "      <td>2022/07/09 00:34:28+00</td>\n",
       "      <td>SHOOTING</td>\n",
       "      <td>SOUTHWEST</td>\n",
       "      <td>39.2884</td>\n",
       "      <td>-76.6569</td>\n",
       "    </tr>\n",
       "  </tbody>\n",
       "</table>\n",
       "</div>"
      ],
      "text/plain": [
       "            CrimeDateTime          Description   District  Latitude  Longitude\n",
       "0  2022/07/09 09:30:00+00  ROBBERY - RESIDENCE  NORTHEAST   39.3223   -76.5467\n",
       "1  2022/07/09 16:00:00+00       COMMON ASSAULT   SOUTHERN   39.2821   -76.6355\n",
       "2  2022/07/09 00:34:28+00             SHOOTING  SOUTHWEST   39.2884   -76.6569"
      ]
     },
     "execution_count": 5,
     "metadata": {},
     "output_type": "execute_result"
    }
   ],
   "source": [
    "url = \"https://docs.google.com/spreadsheets/d/e/2PACX-1vQ4lekzpYpo0pA9h1d3KYObIb3lQtAqz289c7jpwckioXvxm4xykz6ZSJpnDwjKTxJ4iqpG0seNJdSZ/pub?gidass=>=312387697&single=true&output=csv\"\n",
    "demo = pd.read_csv(url)\n",
    "demo.head(3)"
   ]
  },
  {
   "cell_type": "code",
   "execution_count": 6,
   "id": "32b74267-4608-4e4d-9fbc-3c903c21b2e0",
   "metadata": {},
   "outputs": [],
   "source": [
    "# Using this code will generate an error\n",
    "# pd.to_datetime(demo['CrimeDateTime'])"
   ]
  },
  {
   "cell_type": "markdown",
   "id": "9d06131b-9e7c-4e99-9bc2-8b8b277a4841",
   "metadata": {},
   "source": [
    "- The error message is quite large, but this will give us some insight into what is causing the problem"
   ]
  },
  {
   "cell_type": "code",
   "execution_count": 7,
   "id": "c2611d35-02c5-41a2-81ce-d8cd67a4da6d",
   "metadata": {},
   "outputs": [
    {
     "name": "stdout",
     "output_type": "stream",
     "text": [
      "Out of bounds nanosecond timestamp: 1202-05-22 10:56:02 present at position 522867\n"
     ]
    }
   ],
   "source": [
    "try:\n",
    "    display(pd.to_datetime(demo['CrimeDateTime']))\n",
    "except Exception as e:\n",
    "    print(e)"
   ]
  },
  {
   "cell_type": "markdown",
   "id": "f0400ca1-fda2-4c9c-9fc6-71025c6d78c4",
   "metadata": {},
   "source": [
    "- Sometimes there may be 'bad' values that are not compatible with the other dates in the column.\n",
    "- In these cases we can leverage the errors arg of pd.to_datetime\n",
    "- According to the docstring for pd.to_datetime\n",
    "- Errors:\n",
    "    - if 'raise' then invalid parsing will raise an exception\n",
    "    - if 'coerce' then invalid parsin will be set as NaT\n",
    "    - if 'ignore' then invalid parsing will return the input"
   ]
  },
  {
   "cell_type": "code",
   "execution_count": 8,
   "id": "7a027123-c472-46b4-bfae-ea374bb1c768",
   "metadata": {},
   "outputs": [
    {
     "data": {
      "text/plain": [
       "1"
      ]
     },
     "execution_count": 8,
     "metadata": {},
     "output_type": "execute_result"
    }
   ],
   "source": [
    "# Using errors='coerce' will replace incompatible vaalues with NaT (not a time)\n",
    "demo['CrimeDateTime'] = pd.to_datetime(demo['CrimeDateTime'], errors='coerce')\n",
    "demo['CrimeDateTime'].isna().sum()"
   ]
  },
  {
   "cell_type": "markdown",
   "id": "e1cbf85b-8432-406c-beb1-4ea504d73f69",
   "metadata": {},
   "source": [
    "- Remember to drop or impute any null values fro time. In this case we simply drop the one value."
   ]
  },
  {
   "cell_type": "code",
   "execution_count": 9,
   "id": "d24934cc-be99-4f5c-b277-60c208bd4904",
   "metadata": {},
   "outputs": [
    {
     "data": {
      "text/html": [
       "<div>\n",
       "<style scoped>\n",
       "    .dataframe tbody tr th:only-of-type {\n",
       "        vertical-align: middle;\n",
       "    }\n",
       "\n",
       "    .dataframe tbody tr th {\n",
       "        vertical-align: top;\n",
       "    }\n",
       "\n",
       "    .dataframe thead th {\n",
       "        text-align: right;\n",
       "    }\n",
       "</style>\n",
       "<table border=\"1\" class=\"dataframe\">\n",
       "  <thead>\n",
       "    <tr style=\"text-align: right;\">\n",
       "      <th></th>\n",
       "      <th>CrimeDateTime</th>\n",
       "      <th>Description</th>\n",
       "      <th>District</th>\n",
       "      <th>Latitude</th>\n",
       "      <th>Longitude</th>\n",
       "    </tr>\n",
       "  </thead>\n",
       "  <tbody>\n",
       "    <tr>\n",
       "      <th>0</th>\n",
       "      <td>2022-07-09 09:30:00+00:00</td>\n",
       "      <td>ROBBERY - RESIDENCE</td>\n",
       "      <td>NORTHEAST</td>\n",
       "      <td>39.3223</td>\n",
       "      <td>-76.5467</td>\n",
       "    </tr>\n",
       "    <tr>\n",
       "      <th>1</th>\n",
       "      <td>2022-07-09 16:00:00+00:00</td>\n",
       "      <td>COMMON ASSAULT</td>\n",
       "      <td>SOUTHERN</td>\n",
       "      <td>39.2821</td>\n",
       "      <td>-76.6355</td>\n",
       "    </tr>\n",
       "    <tr>\n",
       "      <th>2</th>\n",
       "      <td>2022-07-09 00:34:28+00:00</td>\n",
       "      <td>SHOOTING</td>\n",
       "      <td>SOUTHWEST</td>\n",
       "      <td>39.2884</td>\n",
       "      <td>-76.6569</td>\n",
       "    </tr>\n",
       "    <tr>\n",
       "      <th>3</th>\n",
       "      <td>2022-07-09 00:34:28+00:00</td>\n",
       "      <td>SHOOTING</td>\n",
       "      <td>SOUTHWEST</td>\n",
       "      <td>39.2884</td>\n",
       "      <td>-76.6569</td>\n",
       "    </tr>\n",
       "    <tr>\n",
       "      <th>4</th>\n",
       "      <td>2022-07-09 18:00:00+00:00</td>\n",
       "      <td>COMMON ASSAULT</td>\n",
       "      <td>NORTHEAST</td>\n",
       "      <td>39.3188</td>\n",
       "      <td>-76.5872</td>\n",
       "    </tr>\n",
       "  </tbody>\n",
       "</table>\n",
       "</div>"
      ],
      "text/plain": [
       "              CrimeDateTime          Description   District  Latitude  \\\n",
       "0 2022-07-09 09:30:00+00:00  ROBBERY - RESIDENCE  NORTHEAST   39.3223   \n",
       "1 2022-07-09 16:00:00+00:00       COMMON ASSAULT   SOUTHERN   39.2821   \n",
       "2 2022-07-09 00:34:28+00:00             SHOOTING  SOUTHWEST   39.2884   \n",
       "3 2022-07-09 00:34:28+00:00             SHOOTING  SOUTHWEST   39.2884   \n",
       "4 2022-07-09 18:00:00+00:00       COMMON ASSAULT  NORTHEAST   39.3188   \n",
       "\n",
       "   Longitude  \n",
       "0   -76.5467  \n",
       "1   -76.6355  \n",
       "2   -76.6569  \n",
       "3   -76.6569  \n",
       "4   -76.5872  "
      ]
     },
     "execution_count": 9,
     "metadata": {},
     "output_type": "execute_result"
    }
   ],
   "source": [
    "demo = demo.dropna(subset=['CrimeDateTime'])\n",
    "demo.head()"
   ]
  },
  {
   "cell_type": "markdown",
   "id": "16aa594e-a276-4b19-ba5c-506206d38089",
   "metadata": {},
   "source": [
    "- Now that we have dropped the data point causing the error we can try again"
   ]
  },
  {
   "cell_type": "code",
   "execution_count": 10,
   "id": "542b7d3a-484d-4169-9764-4ea4711dca87",
   "metadata": {},
   "outputs": [
    {
     "data": {
      "text/plain": [
       "0        2022-07-09 09:30:00+00:00\n",
       "1        2022-07-09 16:00:00+00:00\n",
       "2        2022-07-09 00:34:28+00:00\n",
       "3        2022-07-09 00:34:28+00:00\n",
       "4        2022-07-09 18:00:00+00:00\n",
       "                    ...           \n",
       "527812   2013-07-31 17:45:00+00:00\n",
       "527813   2013-07-31 14:15:00+00:00\n",
       "527814   2013-07-31 21:00:00+00:00\n",
       "527815   2013-07-31 17:00:00+00:00\n",
       "527816   2013-07-31 11:40:00+00:00\n",
       "Name: CrimeDateTime, Length: 527816, dtype: datetime64[ns, UTC]"
      ]
     },
     "execution_count": 10,
     "metadata": {},
     "output_type": "execute_result"
    }
   ],
   "source": [
    "pd.to_datetime(demo['CrimeDateTime'])"
   ]
  },
  {
   "cell_type": "markdown",
   "id": "67e74a77-175e-4e2a-8886-b66171ed0859",
   "metadata": {},
   "source": [
    "## Summary"
   ]
  },
  {
   "cell_type": "markdown",
   "id": "77ecec62-92b1-470a-b5b2-4d3d2fc3a284",
   "metadata": {},
   "source": [
    "- If a unique format in the original dataset causes errors, we can pass a format string to help Pandas convert.\n",
    "- If we receive an error due to one or a few datapoints, we can convert to NaT and drop.\n",
    "- Be sure to check output along the way to ensure we are getting the desired result."
   ]
  }
 ],
 "metadata": {
  "kernelspec": {
   "display_name": "Python 3 (ipykernel)",
   "language": "python",
   "name": "python3"
  },
  "language_info": {
   "codemirror_mode": {
    "name": "ipython",
    "version": 3
   },
   "file_extension": ".py",
   "mimetype": "text/x-python",
   "name": "python",
   "nbconvert_exporter": "python",
   "pygments_lexer": "ipython3",
   "version": "3.10.10"
  },
  "widgets": {
   "application/vnd.jupyter.widget-state+json": {
    "state": {},
    "version_major": 2,
    "version_minor": 0
   }
  }
 },
 "nbformat": 4,
 "nbformat_minor": 5
}
